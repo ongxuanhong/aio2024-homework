{
 "cells": [
  {
   "cell_type": "code",
   "execution_count": 1,
   "metadata": {},
   "outputs": [],
   "source": [
    "import numpy as np\n",
    "import pandas as pd"
   ]
  },
  {
   "cell_type": "code",
   "execution_count": 2,
   "metadata": {},
   "outputs": [
    {
     "data": {
      "text/html": [
       "<div>\n",
       "<style scoped>\n",
       "    .dataframe tbody tr th:only-of-type {\n",
       "        vertical-align: middle;\n",
       "    }\n",
       "\n",
       "    .dataframe tbody tr th {\n",
       "        vertical-align: top;\n",
       "    }\n",
       "\n",
       "    .dataframe thead th {\n",
       "        text-align: right;\n",
       "    }\n",
       "</style>\n",
       "<table border=\"1\" class=\"dataframe\">\n",
       "  <thead>\n",
       "    <tr style=\"text-align: right;\">\n",
       "      <th></th>\n",
       "      <th>age</th>\n",
       "      <th>likes_english</th>\n",
       "      <th>likes_ai</th>\n",
       "      <th>salary</th>\n",
       "    </tr>\n",
       "  </thead>\n",
       "  <tbody>\n",
       "    <tr>\n",
       "      <th>0</th>\n",
       "      <td>23</td>\n",
       "      <td>0</td>\n",
       "      <td>0</td>\n",
       "      <td>200</td>\n",
       "    </tr>\n",
       "    <tr>\n",
       "      <th>1</th>\n",
       "      <td>25</td>\n",
       "      <td>1</td>\n",
       "      <td>1</td>\n",
       "      <td>400</td>\n",
       "    </tr>\n",
       "    <tr>\n",
       "      <th>2</th>\n",
       "      <td>27</td>\n",
       "      <td>1</td>\n",
       "      <td>0</td>\n",
       "      <td>300</td>\n",
       "    </tr>\n",
       "    <tr>\n",
       "      <th>3</th>\n",
       "      <td>29</td>\n",
       "      <td>0</td>\n",
       "      <td>1</td>\n",
       "      <td>500</td>\n",
       "    </tr>\n",
       "    <tr>\n",
       "      <th>4</th>\n",
       "      <td>29</td>\n",
       "      <td>0</td>\n",
       "      <td>0</td>\n",
       "      <td>400</td>\n",
       "    </tr>\n",
       "  </tbody>\n",
       "</table>\n",
       "</div>"
      ],
      "text/plain": [
       "   age  likes_english  likes_ai  salary\n",
       "0   23              0         0     200\n",
       "1   25              1         1     400\n",
       "2   27              1         0     300\n",
       "3   29              0         1     500\n",
       "4   29              0         0     400"
      ]
     },
     "execution_count": 2,
     "metadata": {},
     "output_type": "execute_result"
    }
   ],
   "source": [
    "data = {\n",
    "    \"age\": [23, 25, 27, 29, 29],\n",
    "    \"likes_english\": [0, 1, 1, 0, 0],\n",
    "    \"likes_ai\": [0, 1, 0, 1, 0],\n",
    "    \"salary\": [200, 400, 300, 500, 400],\n",
    "}\n",
    "\n",
    "pd_data = pd.DataFrame(data)\n",
    "pd_data"
   ]
  },
  {
   "cell_type": "code",
   "execution_count": 6,
   "metadata": {},
   "outputs": [],
   "source": [
    "def calculate_sse(values):\n",
    "    \"\"\"\n",
    "    Calculate the sum of squared error (SSE) for a set of values.\n",
    "\n",
    "    Args:\n",
    "        values (array-like): Array of values.\n",
    "\n",
    "    Returns:\n",
    "        float: Sum of squared error.\n",
    "    \"\"\"\n",
    "    mean_value = np.mean(values)\n",
    "    sse = np.sum((values - mean_value) ** 2)\n",
    "    return sse\n",
    "\n",
    "\n",
    "def calculate_sse_for_feature_split(df, feature, target):\n",
    "    \"\"\"\n",
    "    Calculate the SSE of a dataset when split by a feature.\n",
    "\n",
    "    Args:\n",
    "        df (pd.DataFrame): DataFrame containing features and target.\n",
    "        feature (str): Feature column name to split on.\n",
    "        target (str): Target column name to calculate SSE.\n",
    "\n",
    "    Returns:\n",
    "        float: Sum of squared error after splitting by the feature.\n",
    "    \"\"\"\n",
    "    sse_total = 0\n",
    "    unique_values = df[feature].unique()\n",
    "\n",
    "    for value in unique_values:\n",
    "        subset = df[df[feature] == value]\n",
    "        sse = calculate_sse(subset[target])\n",
    "        sse_total += sse\n",
    "\n",
    "    return sse_total\n",
    "\n",
    "\n",
    "def calculate_sse_for_condition_split(df, feature, target, condition):\n",
    "    \"\"\"\n",
    "    Calculate the SSE of a dataset when split by a condition on a feature.\n",
    "\n",
    "    Args:\n",
    "        df (pd.DataFrame): DataFrame containing features and target.\n",
    "        feature (str): Feature column name to split on.\n",
    "        target (str): Target column name to calculate SSE.\n",
    "        condition (callable): Condition to split the feature.\n",
    "\n",
    "    Returns:\n",
    "        float: Sum of squared error after splitting by the condition.\n",
    "    \"\"\"\n",
    "    sse_total = 0\n",
    "\n",
    "    # Apply condition\n",
    "    subset_true = df[df[feature].apply(condition)]\n",
    "    subset_false = df[~df[feature].apply(condition)]\n",
    "\n",
    "    # Calculate SSE for each subset\n",
    "    sse_true = calculate_sse(subset_true[target])\n",
    "    sse_false = calculate_sse(subset_false[target])\n",
    "\n",
    "    sse_total = sse_true + sse_false\n",
    "\n",
    "    return sse_total"
   ]
  },
  {
   "cell_type": "code",
   "execution_count": 7,
   "metadata": {},
   "outputs": [
    {
     "name": "stdout",
     "output_type": "stream",
     "text": [
      "SSE(Likes AI) = 25000.0\n"
     ]
    }
   ],
   "source": [
    "# 1. Calculate SSE for 'Likes AI' as the root node\n",
    "sse_likes_ai = calculate_sse_for_feature_split(pd_data, \"likes_ai\", \"salary\")\n",
    "print(f\"SSE(Likes AI) = {sse_likes_ai}\")"
   ]
  },
  {
   "cell_type": "code",
   "execution_count": 8,
   "metadata": {},
   "outputs": [
    {
     "name": "stdout",
     "output_type": "stream",
     "text": [
      "SSE(Age <= 24) = 20000.0\n"
     ]
    }
   ],
   "source": [
    "# 2. Calculate SSE for 'Age' as the root node with condition 'Age <= 24'\n",
    "condition = lambda x: x <= 24\n",
    "sse_age = calculate_sse_for_condition_split(pd_data, \"age\", \"salary\", condition)\n",
    "print(f\"SSE(Age <= 24) = {sse_age}\")"
   ]
  },
  {
   "cell_type": "code",
   "execution_count": null,
   "metadata": {},
   "outputs": [],
   "source": []
  },
  {
   "cell_type": "markdown",
   "metadata": {},
   "source": [
    "# Sklearn"
   ]
  },
  {
   "cell_type": "code",
   "execution_count": 9,
   "metadata": {},
   "outputs": [],
   "source": [
    "from sklearn.datasets import fetch_openml\n",
    "from sklearn.model_selection import train_test_split\n",
    "from sklearn.metrics import mean_squared_error\n",
    "from sklearn.tree import DecisionTreeRegressor"
   ]
  },
  {
   "cell_type": "code",
   "execution_count": 10,
   "metadata": {},
   "outputs": [
    {
     "name": "stderr",
     "output_type": "stream",
     "text": [
      "c:\\Users\\predator\\anaconda3\\envs\\aio2024-homework\\lib\\site-packages\\sklearn\\datasets\\_openml.py:320: UserWarning: Multiple active versions of the dataset matching the name machine_cpu exist. Versions may be fundamentally different, returning version 1. Available versions:\n",
      "- version 1, status: active\n",
      "  url: https://www.openml.org/search?type=data&id=230\n",
      "- version 2, status: active\n",
      "  url: https://www.openml.org/search?type=data&id=733\n",
      "\n",
      "  warn(warning_msg)\n"
     ]
    },
    {
     "data": {
      "text/plain": [
       "np.float64(8861.047619047618)"
      ]
     },
     "execution_count": 10,
     "metadata": {},
     "output_type": "execute_result"
    }
   ],
   "source": [
    "# Paragraph C:\n",
    "# Load dataset\n",
    "machine_cpu = fetch_openml(name=\"machine_cpu\")\n",
    "machine_data = machine_cpu.data\n",
    "machine_labels = machine_cpu.target\n",
    "\n",
    "# Paragraph B:\n",
    "# Define model\n",
    "tree_reg = DecisionTreeRegressor()\n",
    "\n",
    "\n",
    "# Split train : test = 8:2\n",
    "X_train, X_test, y_train, y_test = train_test_split(\n",
    "    machine_data, machine_labels, test_size=0.2, random_state=42\n",
    ")\n",
    "\n",
    "# Paragraph A:\n",
    "# Train\n",
    "tree_reg.fit(X_train, y_train)\n",
    "\n",
    "\n",
    "# Paragraph D:\n",
    "# Preidct and evaluate\n",
    "y_pred = tree_reg.predict(X_test)\n",
    "mean_squared_error(y_test, y_pred)"
   ]
  },
  {
   "cell_type": "code",
   "execution_count": null,
   "metadata": {},
   "outputs": [],
   "source": []
  }
 ],
 "metadata": {
  "kernelspec": {
   "display_name": "aio2024-homework",
   "language": "python",
   "name": "python3"
  },
  "language_info": {
   "codemirror_mode": {
    "name": "ipython",
    "version": 3
   },
   "file_extension": ".py",
   "mimetype": "text/x-python",
   "name": "python",
   "nbconvert_exporter": "python",
   "pygments_lexer": "ipython3",
   "version": "3.9.19"
  }
 },
 "nbformat": 4,
 "nbformat_minor": 2
}
