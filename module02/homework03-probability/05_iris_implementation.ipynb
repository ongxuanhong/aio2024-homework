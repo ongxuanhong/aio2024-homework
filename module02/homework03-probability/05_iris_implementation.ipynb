{
 "cells": [
  {
   "cell_type": "code",
   "execution_count": 8,
   "metadata": {},
   "outputs": [],
   "source": [
    "import numpy as np\n",
    "\n",
    "\n",
    "def create_train_data_iris():\n",
    "    data = np.loadtxt(\"data/iris.data.txt\", delimiter=\",\", dtype=str)\n",
    "    return data"
   ]
  },
  {
   "cell_type": "code",
   "execution_count": 9,
   "metadata": {},
   "outputs": [],
   "source": [
    "def compute_prior_probablity_iris(train_data):\n",
    "    y_unique = np.unique(train_data[:, 4])\n",
    "    prior_probability = np.zeros(len(y_unique))\n",
    "    for i in range(0, len(y_unique)):\n",
    "        prior_probability[i] = len(np.where(train_data[:, 4] == y_unique[i])[0]) / len(\n",
    "            train_data\n",
    "        )\n",
    "    return prior_probability"
   ]
  },
  {
   "cell_type": "code",
   "execution_count": 10,
   "metadata": {},
   "outputs": [],
   "source": [
    "# this function is used to compute the conditional probabilities\n",
    "# input: train data\n",
    "# output: conditional probabilities and list of feature names\n",
    "def compute_conditional_probability_iris(train_data):\n",
    "    y_unique = np.unique(\n",
    "        train_data[:, 4]\n",
    "    )  # 0 for Setosa, 1 for Versicolour, 2 for Virginica\n",
    "    x_feature = 4\n",
    "    conditional_probability = []\n",
    "    list_x_name = []\n",
    "    for i in range(0, train_data.shape[1] - 1):\n",
    "        x_conditional_probability = np.zeros((len(y_unique), 2))\n",
    "        for j in range(0, len(y_unique)):\n",
    "            mean = np.mean(\n",
    "                (train_data[:, i][np.where(train_data[:, 4] == y_unique[j])]).astype(\n",
    "                    float\n",
    "                )\n",
    "            )\n",
    "            sigma = np.std(\n",
    "                (train_data[:, i][np.where(train_data[:, 4] == y_unique[j])]).astype(\n",
    "                    float\n",
    "                )\n",
    "            )\n",
    "            sigma = sigma * sigma\n",
    "            x_conditional_probability[j] = [mean, sigma]\n",
    "\n",
    "        conditional_probability.append(x_conditional_probability)\n",
    "    return conditional_probability"
   ]
  },
  {
   "cell_type": "code",
   "execution_count": 11,
   "metadata": {},
   "outputs": [],
   "source": [
    "import math\n",
    "\n",
    "\n",
    "# Define the Gaussian function\n",
    "def gauss(x, mean, sigma):\n",
    "    result = (1.0 / (np.sqrt(2 * math.pi * sigma))) * (\n",
    "        np.exp(-((float(x) - mean) ** 2) / (2 * sigma))\n",
    "    )\n",
    "    return result"
   ]
  },
  {
   "cell_type": "code",
   "execution_count": 12,
   "metadata": {},
   "outputs": [],
   "source": [
    "###########################\n",
    "# Train Naive Bayes Model\n",
    "###########################\n",
    "def train_gaussian_naive_bayes(train_data):\n",
    "    # Step 1: Calculate Prior Probability\n",
    "    prior_probability = compute_prior_probablity_iris(train_data)\n",
    "\n",
    "    # Step 2: Calculate Conditional Probability\n",
    "    conditional_probability = compute_conditional_probability_iris(train_data)\n",
    "\n",
    "    return prior_probability, conditional_probability\n",
    "\n",
    "\n",
    "# data = create_train_data_iris()\n",
    "# conditional_probability = train_gaussian_naive_bayes(data)"
   ]
  },
  {
   "cell_type": "code",
   "execution_count": 13,
   "metadata": {},
   "outputs": [],
   "source": [
    "####################\n",
    "# Prediction\n",
    "####################\n",
    "def prediction_iris(X, prior_probability, conditional_probability):\n",
    "\n",
    "    p0 = (\n",
    "        prior_probability[0]\n",
    "        * gauss(\n",
    "            X[0], conditional_probability[0][0][0], conditional_probability[0][0][1]\n",
    "        )\n",
    "        * gauss(\n",
    "            X[1], conditional_probability[1][0][0], conditional_probability[1][0][1]\n",
    "        )\n",
    "        * gauss(\n",
    "            X[2], conditional_probability[2][0][0], conditional_probability[2][0][1]\n",
    "        )\n",
    "        * gauss(\n",
    "            X[3], conditional_probability[3][0][0], conditional_probability[3][0][1]\n",
    "        )\n",
    "    )\n",
    "\n",
    "    p1 = (\n",
    "        prior_probability[1]\n",
    "        * gauss(\n",
    "            X[0], conditional_probability[0][1][0], conditional_probability[0][1][1]\n",
    "        )\n",
    "        * gauss(\n",
    "            X[1], conditional_probability[1][1][0], conditional_probability[1][1][1]\n",
    "        )\n",
    "        * gauss(\n",
    "            X[2], conditional_probability[2][1][0], conditional_probability[2][1][1]\n",
    "        )\n",
    "        * gauss(\n",
    "            X[3], conditional_probability[3][1][0], conditional_probability[3][1][1]\n",
    "        )\n",
    "    )\n",
    "\n",
    "    p2 = (\n",
    "        prior_probability[2]\n",
    "        * gauss(\n",
    "            X[0], conditional_probability[0][2][0], conditional_probability[0][2][1]\n",
    "        )\n",
    "        * gauss(\n",
    "            X[1], conditional_probability[1][2][0], conditional_probability[1][2][1]\n",
    "        )\n",
    "        * gauss(\n",
    "            X[2], conditional_probability[2][2][0], conditional_probability[2][2][1]\n",
    "        )\n",
    "        * gauss(\n",
    "            X[3], conditional_probability[3][2][0], conditional_probability[3][2][1]\n",
    "        )\n",
    "    )\n",
    "\n",
    "    # print(p0, p1)\n",
    "\n",
    "    list_p = [p0, p1, p2]\n",
    "\n",
    "    return list_p.index(np.max(list_p))\n",
    "\n",
    "\n",
    "# prediction_play_tennis()"
   ]
  },
  {
   "cell_type": "code",
   "execution_count": 14,
   "metadata": {},
   "outputs": [],
   "source": [
    "# Example 1 #########################\n",
    "X = [6.3, 3.3, 6.0, 2.5]\n",
    "train_data = create_train_data_iris()\n",
    "y_unique = np.unique(train_data[:, 4])\n",
    "prior_probability, conditional_probability = train_gaussian_naive_bayes(train_data)\n",
    "pred = y_unique[prediction_iris(X, prior_probability, conditional_probability)]\n",
    "assert pred == \"Iris-virginica\""
   ]
  },
  {
   "cell_type": "code",
   "execution_count": 15,
   "metadata": {},
   "outputs": [],
   "source": [
    "# Example 2 #########################\n",
    "X = [5.0, 2.0, 3.5, 1.0]\n",
    "train_data = create_train_data_iris()\n",
    "y_unique = np.unique(train_data[:, 4])\n",
    "prior_probability, conditional_probability = train_gaussian_naive_bayes(train_data)\n",
    "pred = y_unique[prediction_iris(X, prior_probability, conditional_probability)]\n",
    "assert pred == \"Iris-versicolor\""
   ]
  },
  {
   "cell_type": "code",
   "execution_count": 16,
   "metadata": {},
   "outputs": [],
   "source": [
    "# Example 3 #########################\n",
    "# X =[sepal length, sepal width, petal length, petal width]\n",
    "X = [4.9, 3.1, 1.5, 0.1]\n",
    "train_data = create_train_data_iris()\n",
    "y_unique = np.unique(train_data[:, 4])\n",
    "prior_probability, conditional_probability = train_gaussian_naive_bayes(train_data)\n",
    "pred = y_unique[prediction_iris(X, prior_probability, conditional_probability)]\n",
    "assert pred == \"Iris-setosa\""
   ]
  },
  {
   "cell_type": "code",
   "execution_count": null,
   "metadata": {},
   "outputs": [],
   "source": []
  }
 ],
 "metadata": {
  "kernelspec": {
   "display_name": "aio2024-homework",
   "language": "python",
   "name": "python3"
  },
  "language_info": {
   "codemirror_mode": {
    "name": "ipython",
    "version": 3
   },
   "file_extension": ".py",
   "mimetype": "text/x-python",
   "name": "python",
   "nbconvert_exporter": "python",
   "pygments_lexer": "ipython3",
   "version": "3.10.14"
  }
 },
 "nbformat": 4,
 "nbformat_minor": 2
}
