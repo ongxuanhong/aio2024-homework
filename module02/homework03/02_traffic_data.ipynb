{
 "cells": [
  {
   "cell_type": "code",
   "execution_count": 1,
   "metadata": {},
   "outputs": [],
   "source": [
    "import pandas as pd"
   ]
  },
  {
   "cell_type": "code",
   "execution_count": 13,
   "metadata": {},
   "outputs": [
    {
     "data": {
      "text/plain": [
       "(20, 5)"
      ]
     },
     "execution_count": 13,
     "metadata": {},
     "output_type": "execute_result"
    }
   ],
   "source": [
    "pd_data = pd.read_csv(\"data/traffic.csv\")\n",
    "pd_data = pd_data.fillna(0)\n",
    "pd_data.shape"
   ]
  },
  {
   "cell_type": "code",
   "execution_count": 14,
   "metadata": {},
   "outputs": [
    {
     "data": {
      "text/html": [
       "<div>\n",
       "<style scoped>\n",
       "    .dataframe tbody tr th:only-of-type {\n",
       "        vertical-align: middle;\n",
       "    }\n",
       "\n",
       "    .dataframe tbody tr th {\n",
       "        vertical-align: top;\n",
       "    }\n",
       "\n",
       "    .dataframe thead th {\n",
       "        text-align: right;\n",
       "    }\n",
       "</style>\n",
       "<table border=\"1\" class=\"dataframe\">\n",
       "  <thead>\n",
       "    <tr style=\"text-align: right;\">\n",
       "      <th></th>\n",
       "      <th>Day</th>\n",
       "      <th>Season</th>\n",
       "      <th>Fog</th>\n",
       "      <th>Rain</th>\n",
       "      <th>Class</th>\n",
       "    </tr>\n",
       "  </thead>\n",
       "  <tbody>\n",
       "    <tr>\n",
       "      <th>0</th>\n",
       "      <td>Weekday</td>\n",
       "      <td>Spring</td>\n",
       "      <td>0</td>\n",
       "      <td>0</td>\n",
       "      <td>On Time</td>\n",
       "    </tr>\n",
       "    <tr>\n",
       "      <th>1</th>\n",
       "      <td>Weekday</td>\n",
       "      <td>Winter</td>\n",
       "      <td>0</td>\n",
       "      <td>Slight</td>\n",
       "      <td>On Time</td>\n",
       "    </tr>\n",
       "    <tr>\n",
       "      <th>2</th>\n",
       "      <td>Weekday</td>\n",
       "      <td>Winter</td>\n",
       "      <td>0</td>\n",
       "      <td>0</td>\n",
       "      <td>On Time</td>\n",
       "    </tr>\n",
       "    <tr>\n",
       "      <th>3</th>\n",
       "      <td>Holiday</td>\n",
       "      <td>Winter</td>\n",
       "      <td>High</td>\n",
       "      <td>Slight</td>\n",
       "      <td>Late</td>\n",
       "    </tr>\n",
       "    <tr>\n",
       "      <th>4</th>\n",
       "      <td>Saturday</td>\n",
       "      <td>Summer</td>\n",
       "      <td>Normal</td>\n",
       "      <td>0</td>\n",
       "      <td>On Time</td>\n",
       "    </tr>\n",
       "    <tr>\n",
       "      <th>5</th>\n",
       "      <td>Weekday</td>\n",
       "      <td>Autumn</td>\n",
       "      <td>Normal</td>\n",
       "      <td>0</td>\n",
       "      <td>Very Late</td>\n",
       "    </tr>\n",
       "    <tr>\n",
       "      <th>6</th>\n",
       "      <td>Holiday</td>\n",
       "      <td>Summer</td>\n",
       "      <td>High</td>\n",
       "      <td>Slight</td>\n",
       "      <td>On Time</td>\n",
       "    </tr>\n",
       "    <tr>\n",
       "      <th>7</th>\n",
       "      <td>Sunday</td>\n",
       "      <td>Summer</td>\n",
       "      <td>Normal</td>\n",
       "      <td>0</td>\n",
       "      <td>On Time</td>\n",
       "    </tr>\n",
       "    <tr>\n",
       "      <th>8</th>\n",
       "      <td>Weekday</td>\n",
       "      <td>Winter</td>\n",
       "      <td>High</td>\n",
       "      <td>Heavy</td>\n",
       "      <td>Very Late</td>\n",
       "    </tr>\n",
       "    <tr>\n",
       "      <th>9</th>\n",
       "      <td>Weekday</td>\n",
       "      <td>Summer</td>\n",
       "      <td>0</td>\n",
       "      <td>Slight</td>\n",
       "      <td>On Time</td>\n",
       "    </tr>\n",
       "    <tr>\n",
       "      <th>10</th>\n",
       "      <td>Saturday</td>\n",
       "      <td>Spring</td>\n",
       "      <td>High</td>\n",
       "      <td>Heavy</td>\n",
       "      <td>Cancelled</td>\n",
       "    </tr>\n",
       "    <tr>\n",
       "      <th>11</th>\n",
       "      <td>Weekday</td>\n",
       "      <td>Summer</td>\n",
       "      <td>High</td>\n",
       "      <td>Slight</td>\n",
       "      <td>On Time</td>\n",
       "    </tr>\n",
       "    <tr>\n",
       "      <th>12</th>\n",
       "      <td>Weekday</td>\n",
       "      <td>Winter</td>\n",
       "      <td>Normal</td>\n",
       "      <td>0</td>\n",
       "      <td>Late</td>\n",
       "    </tr>\n",
       "    <tr>\n",
       "      <th>13</th>\n",
       "      <td>Weekday</td>\n",
       "      <td>Summer</td>\n",
       "      <td>High</td>\n",
       "      <td>0</td>\n",
       "      <td>On Time</td>\n",
       "    </tr>\n",
       "    <tr>\n",
       "      <th>14</th>\n",
       "      <td>Weekday</td>\n",
       "      <td>Winter</td>\n",
       "      <td>Normal</td>\n",
       "      <td>Heavy</td>\n",
       "      <td>Very Late</td>\n",
       "    </tr>\n",
       "    <tr>\n",
       "      <th>15</th>\n",
       "      <td>Saturday</td>\n",
       "      <td>Autumn</td>\n",
       "      <td>High</td>\n",
       "      <td>Slight</td>\n",
       "      <td>On Time</td>\n",
       "    </tr>\n",
       "    <tr>\n",
       "      <th>16</th>\n",
       "      <td>Weekday</td>\n",
       "      <td>Autumn</td>\n",
       "      <td>0</td>\n",
       "      <td>Heavy</td>\n",
       "      <td>On Time</td>\n",
       "    </tr>\n",
       "    <tr>\n",
       "      <th>17</th>\n",
       "      <td>Holiday</td>\n",
       "      <td>Spring</td>\n",
       "      <td>Normal</td>\n",
       "      <td>Slight</td>\n",
       "      <td>On Time</td>\n",
       "    </tr>\n",
       "    <tr>\n",
       "      <th>18</th>\n",
       "      <td>Weekday</td>\n",
       "      <td>Spring</td>\n",
       "      <td>Normal</td>\n",
       "      <td>0</td>\n",
       "      <td>On Time</td>\n",
       "    </tr>\n",
       "    <tr>\n",
       "      <th>19</th>\n",
       "      <td>Weekday</td>\n",
       "      <td>Spring</td>\n",
       "      <td>Normal</td>\n",
       "      <td>Heavy</td>\n",
       "      <td>On Time</td>\n",
       "    </tr>\n",
       "  </tbody>\n",
       "</table>\n",
       "</div>"
      ],
      "text/plain": [
       "         Day  Season     Fog    Rain      Class\n",
       "0    Weekday  Spring       0       0    On Time\n",
       "1    Weekday  Winter       0  Slight    On Time\n",
       "2    Weekday  Winter       0       0    On Time\n",
       "3    Holiday  Winter    High  Slight       Late\n",
       "4   Saturday  Summer  Normal       0    On Time\n",
       "5    Weekday  Autumn  Normal       0  Very Late\n",
       "6    Holiday  Summer    High  Slight    On Time\n",
       "7     Sunday  Summer  Normal       0    On Time\n",
       "8    Weekday  Winter    High   Heavy  Very Late\n",
       "9    Weekday  Summer       0  Slight    On Time\n",
       "10  Saturday  Spring    High   Heavy  Cancelled\n",
       "11   Weekday  Summer    High  Slight    On Time\n",
       "12   Weekday  Winter  Normal       0       Late\n",
       "13   Weekday  Summer    High       0    On Time\n",
       "14   Weekday  Winter  Normal   Heavy  Very Late\n",
       "15  Saturday  Autumn    High  Slight    On Time\n",
       "16   Weekday  Autumn       0   Heavy    On Time\n",
       "17   Holiday  Spring  Normal  Slight    On Time\n",
       "18   Weekday  Spring  Normal       0    On Time\n",
       "19   Weekday  Spring  Normal   Heavy    On Time"
      ]
     },
     "execution_count": 14,
     "metadata": {},
     "output_type": "execute_result"
    }
   ],
   "source": [
    "pd_data"
   ]
  },
  {
   "cell_type": "markdown",
   "metadata": {},
   "source": [
    "**X = (Day=Weekday, Season=Winter, Fog=High, Rain=Heavy)**"
   ]
  },
  {
   "cell_type": "markdown",
   "metadata": {},
   "source": [
    "**Câu hỏi 5: Xác suất xảy ra sự kiện \"Class\"=\"On Time\", sự kiện \"Class\"=\"Late\", sự kiện \"Class\"=\" Very Late\" và sự kiện \"Class\"=\"Cancelled\" lần lượt là:**"
   ]
  },
  {
   "cell_type": "code",
   "execution_count": 4,
   "metadata": {},
   "outputs": [
    {
     "data": {
      "text/plain": [
       "Class\n",
       "On Time      14\n",
       "Very Late     3\n",
       "Late          2\n",
       "Cancelled     1\n",
       "Name: count, dtype: int64"
      ]
     },
     "execution_count": 4,
     "metadata": {},
     "output_type": "execute_result"
    }
   ],
   "source": [
    "pd_data[\"Class\"].value_counts()"
   ]
  },
  {
   "cell_type": "code",
   "execution_count": 5,
   "metadata": {},
   "outputs": [
    {
     "data": {
      "text/plain": [
       "Class\n",
       "On Time      0.70\n",
       "Very Late    0.15\n",
       "Late         0.10\n",
       "Cancelled    0.05\n",
       "Name: proportion, dtype: float64"
      ]
     },
     "execution_count": 5,
     "metadata": {},
     "output_type": "execute_result"
    }
   ],
   "source": [
    "pd_data[\"Class\"].value_counts(normalize=True)"
   ]
  },
  {
   "cell_type": "code",
   "execution_count": 6,
   "metadata": {},
   "outputs": [],
   "source": [
    "# 5 -> a)"
   ]
  },
  {
   "cell_type": "code",
   "execution_count": null,
   "metadata": {},
   "outputs": [],
   "source": []
  },
  {
   "cell_type": "markdown",
   "metadata": {},
   "source": [
    "**Câu hỏi 6: Xác suất xảy ra sự kiện \"Class\"=\"On Time\" khi sự kiện X xảy ra là:**"
   ]
  },
  {
   "cell_type": "code",
   "execution_count": 7,
   "metadata": {},
   "outputs": [],
   "source": [
    "x = {\"Day\": \"Weekday\", \"Season\": \"Winter\", \"Fog\": \"High\", \"Rain\": \"Heavy\"}"
   ]
  },
  {
   "cell_type": "code",
   "execution_count": 15,
   "metadata": {},
   "outputs": [],
   "source": [
    "def calculate_naive_bayes(x, Class):\n",
    "    prob = pd_data[\"Class\"].value_counts(normalize=True).get(Class, 0)\n",
    "    print(\"p(Class = {}) = {}\".format(Class, prob))\n",
    "\n",
    "    for key in x:\n",
    "        prob_key = (\n",
    "            pd_data[pd_data[\"Class\"] == Class][key]\n",
    "            .value_counts(normalize=True)\n",
    "            .get(x[key], 0)\n",
    "        )\n",
    "        prob *= prob_key\n",
    "        print(\n",
    "            \"p({} = {} | Class = {}) = {} -> {}\".format(\n",
    "                key, x[key], Class, prob_key, prob\n",
    "            )\n",
    "        )\n",
    "\n",
    "    return float(prob)"
   ]
  },
  {
   "cell_type": "code",
   "execution_count": 16,
   "metadata": {},
   "outputs": [
    {
     "name": "stdout",
     "output_type": "stream",
     "text": [
      "p(Class = On Time) = 0.7\n",
      "p(Day = Weekday | Class = On Time) = 0.6428571428571429 -> 0.45\n",
      "p(Season = Winter | Class = On Time) = 0.14285714285714285 -> 0.06428571428571428\n",
      "p(Fog = High | Class = On Time) = 0.2857142857142857 -> 0.01836734693877551\n",
      "p(Rain = Heavy | Class = On Time) = 0.14285714285714285 -> 0.0026239067055393583\n"
     ]
    },
    {
     "data": {
      "text/plain": [
       "0.0026239067055393583"
      ]
     },
     "execution_count": 16,
     "metadata": {},
     "output_type": "execute_result"
    }
   ],
   "source": [
    "prob = calculate_naive_bayes(x, \"On Time\")\n",
    "prob"
   ]
  },
  {
   "cell_type": "code",
   "execution_count": null,
   "metadata": {},
   "outputs": [],
   "source": [
    "# 6 -> c)"
   ]
  },
  {
   "cell_type": "markdown",
   "metadata": {},
   "source": [
    "**Câu hỏi 7: Xác suất xảy ra sự kiện \"Class\"=\"Late\" khi sự kiện X xảy ra là:**"
   ]
  },
  {
   "cell_type": "code",
   "execution_count": 17,
   "metadata": {},
   "outputs": [
    {
     "name": "stdout",
     "output_type": "stream",
     "text": [
      "p(Class = Late) = 0.1\n",
      "p(Day = Weekday | Class = Late) = 0.5 -> 0.05\n",
      "p(Season = Winter | Class = Late) = 1.0 -> 0.05\n",
      "p(Fog = High | Class = Late) = 0.5 -> 0.025\n",
      "p(Rain = Heavy | Class = Late) = 0 -> 0.0\n"
     ]
    },
    {
     "data": {
      "text/plain": [
       "0.0"
      ]
     },
     "execution_count": 17,
     "metadata": {},
     "output_type": "execute_result"
    }
   ],
   "source": [
    "prob = calculate_naive_bayes(x, \"Late\")\n",
    "prob"
   ]
  },
  {
   "cell_type": "code",
   "execution_count": 18,
   "metadata": {},
   "outputs": [],
   "source": [
    "# 7 -> d)"
   ]
  },
  {
   "cell_type": "markdown",
   "metadata": {},
   "source": [
    "**Câu hỏi 8: Xác suất xảy ra sự kiện \"Class\"= \"Very Late\" khi sự kiện X xảy ra là:**"
   ]
  },
  {
   "cell_type": "code",
   "execution_count": 19,
   "metadata": {},
   "outputs": [
    {
     "name": "stdout",
     "output_type": "stream",
     "text": [
      "p(Class = Very Late) = 0.15\n",
      "p(Day = Weekday | Class = Very Late) = 1.0 -> 0.15\n",
      "p(Season = Winter | Class = Very Late) = 0.6666666666666666 -> 0.09999999999999999\n",
      "p(Fog = High | Class = Very Late) = 0.3333333333333333 -> 0.033333333333333326\n",
      "p(Rain = Heavy | Class = Very Late) = 0.6666666666666666 -> 0.022222222222222216\n"
     ]
    },
    {
     "data": {
      "text/plain": [
       "0.022222222222222216"
      ]
     },
     "execution_count": 19,
     "metadata": {},
     "output_type": "execute_result"
    }
   ],
   "source": [
    "prob = calculate_naive_bayes(x, \"Very Late\")\n",
    "prob"
   ]
  },
  {
   "cell_type": "code",
   "execution_count": 20,
   "metadata": {},
   "outputs": [],
   "source": [
    "# 8 -> a)"
   ]
  },
  {
   "cell_type": "markdown",
   "metadata": {},
   "source": [
    "**Câu hỏi 9: Xác suất xảy ra sự kiện \"Class\"= Cancelled\" khi sự kiện X xảy ra là:**"
   ]
  },
  {
   "cell_type": "code",
   "execution_count": 21,
   "metadata": {},
   "outputs": [
    {
     "name": "stdout",
     "output_type": "stream",
     "text": [
      "p(Class = Cancelled) = 0.05\n",
      "p(Day = Weekday | Class = Cancelled) = 0 -> 0.0\n",
      "p(Season = Winter | Class = Cancelled) = 0 -> 0.0\n",
      "p(Fog = High | Class = Cancelled) = 1.0 -> 0.0\n",
      "p(Rain = Heavy | Class = Cancelled) = 1.0 -> 0.0\n"
     ]
    },
    {
     "data": {
      "text/plain": [
       "0.0"
      ]
     },
     "execution_count": 21,
     "metadata": {},
     "output_type": "execute_result"
    }
   ],
   "source": [
    "prob = calculate_naive_bayes(x, \"Cancelled\")\n",
    "prob"
   ]
  },
  {
   "cell_type": "code",
   "execution_count": 22,
   "metadata": {},
   "outputs": [],
   "source": [
    "# 9 -> d)"
   ]
  },
  {
   "cell_type": "code",
   "execution_count": null,
   "metadata": {},
   "outputs": [],
   "source": []
  },
  {
   "cell_type": "markdown",
   "metadata": {},
   "source": [
    "**Câu hỏi 10: Dự đoán \"Class\" của sự kiện X là:**"
   ]
  },
  {
   "cell_type": "code",
   "execution_count": null,
   "metadata": {},
   "outputs": [],
   "source": [
    "# 10 -> c) very late"
   ]
  },
  {
   "cell_type": "code",
   "execution_count": null,
   "metadata": {},
   "outputs": [],
   "source": []
  }
 ],
 "metadata": {
  "kernelspec": {
   "display_name": "aio2024-homework",
   "language": "python",
   "name": "python3"
  },
  "language_info": {
   "codemirror_mode": {
    "name": "ipython",
    "version": 3
   },
   "file_extension": ".py",
   "mimetype": "text/x-python",
   "name": "python",
   "nbconvert_exporter": "python",
   "pygments_lexer": "ipython3",
   "version": "3.10.14"
  }
 },
 "nbformat": 4,
 "nbformat_minor": 2
}
