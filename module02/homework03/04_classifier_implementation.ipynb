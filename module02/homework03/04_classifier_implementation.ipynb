{
 "cells": [
  {
   "cell_type": "code",
   "execution_count": 1,
   "metadata": {},
   "outputs": [],
   "source": [
    "import numpy as np\n",
    "import pandas as pd"
   ]
  },
  {
   "cell_type": "markdown",
   "metadata": {},
   "source": [
    "**4.1 Hoàn thiện function create_train_dataset() để tổ chức dữ liệu bảng 1 vào array 2 chiều như bên dưới.**"
   ]
  },
  {
   "cell_type": "code",
   "execution_count": 2,
   "metadata": {},
   "outputs": [
    {
     "name": "stdout",
     "output_type": "stream",
     "text": [
      "[['Sunny' 'Hot' 'High' 'Weak' 'no']\n",
      " ['Sunny' 'Hot' 'High' 'Strong' 'no']\n",
      " ['Overcast' 'Hot' 'High' 'Weak' 'yes']\n",
      " ['Rain' 'Mild' 'High' 'Weak' 'yes']\n",
      " ['Rain' 'Cool' 'Normal' 'Weak' 'yes']\n",
      " ['Rain' 'Cool' 'Normal' 'Strong' 'no']\n",
      " ['Overcast' 'Cool' 'Normal' 'Strong' 'yes']\n",
      " ['Overcast' 'Mild' 'High' 'Weak' 'no']\n",
      " ['Sunny' 'Cool' 'Normal' 'Weak' 'yes']\n",
      " ['Rain' 'Mild' 'Normal' 'Weak' 'yes']]\n"
     ]
    }
   ],
   "source": [
    "######################### # Create data #########################\n",
    "# import numpy as np\n",
    "def create_train_data():\n",
    "    #\n",
    "    pd_data = pd.read_csv(\"data/play_tennis.csv\")\n",
    "    pd_data = pd_data.drop(columns=[\"Day\"])\n",
    "    data = pd_data.values.tolist()\n",
    "    return np.array(data)\n",
    "\n",
    "\n",
    "train_data = create_train_data()\n",
    "print(train_data)"
   ]
  },
  {
   "cell_type": "code",
   "execution_count": null,
   "metadata": {},
   "outputs": [],
   "source": []
  },
  {
   "cell_type": "markdown",
   "metadata": {},
   "source": [
    "**4.2 Hoàn thiện function compute_prior_probability tính P(\"Play Tennis\" = \"Yes\") and tính P(\"Play Tennis\" = \"No\") như bên dưới:**"
   ]
  },
  {
   "cell_type": "code",
   "execution_count": 3,
   "metadata": {},
   "outputs": [
    {
     "name": "stdout",
     "output_type": "stream",
     "text": [
      "P(play tennis = No 0.4\n",
      "P(play tennis = Yes 0.6\n"
     ]
    }
   ],
   "source": [
    "def compute_prior_probablity(train_data):\n",
    "    y_unique = [\"no\", \"yes\"]\n",
    "    prior_probability = np.zeros(len(y_unique))\n",
    "\n",
    "    #\n",
    "    for i, y in enumerate(y_unique):\n",
    "        prior_probability[i] = float(np.where(train_data[:, -1] == y, 1, 0).mean())\n",
    "    return prior_probability\n",
    "\n",
    "\n",
    "prior_probablity = compute_prior_probablity(train_data)\n",
    "print(\"P(play tennis = No\", prior_probablity[0])\n",
    "print(\"P(play tennis = Yes\", prior_probablity[1])"
   ]
  },
  {
   "cell_type": "code",
   "execution_count": 4,
   "metadata": {},
   "outputs": [],
   "source": [
    "# 14 -> a)"
   ]
  },
  {
   "cell_type": "code",
   "execution_count": null,
   "metadata": {},
   "outputs": [],
   "source": []
  },
  {
   "cell_type": "markdown",
   "metadata": {},
   "source": [
    "**4.3 Hoàn thiện function compute_conditional_probability để tính likelihood (The probability of \"A\" being True. Given \"B\" True, P(A|B)) như bên dưới:**"
   ]
  },
  {
   "cell_type": "code",
   "execution_count": 5,
   "metadata": {},
   "outputs": [],
   "source": [
    "def compute_conditional_probability(train_data):\n",
    "    y_unique = [\"no\", \"yes\"]\n",
    "    conditional_probability = []\n",
    "    list_x_name = []\n",
    "    for i in range(0, train_data.shape[1] - 1):\n",
    "        x_unique = np.unique(train_data[:, i])\n",
    "        list_x_name.append(x_unique)\n",
    "\n",
    "        # your code here ********************\n",
    "        x_conditional_probability = []\n",
    "        for j, x in enumerate(x_unique):\n",
    "            x_conditional_probability.append([])\n",
    "            for k, y in enumerate(y_unique):\n",
    "                x_conditional_probability[j].append(\n",
    "                    float(\n",
    "                        np.where(\n",
    "                            (train_data[:, i] == x) & (train_data[:, -1] == y), 1, 0\n",
    "                        ).mean()\n",
    "                    )\n",
    "                )\n",
    "\n",
    "        # for feature i, label j, feature_name x1\n",
    "        conditional_probability.append(np.array(x_conditional_probability))\n",
    "\n",
    "    return conditional_probability, list_x_name"
   ]
  },
  {
   "cell_type": "code",
   "execution_count": 6,
   "metadata": {},
   "outputs": [
    {
     "name": "stdout",
     "output_type": "stream",
     "text": [
      "x1 =  ['Overcast' 'Rain' 'Sunny']\n",
      "x2 =  ['Cool' 'Hot' 'Mild']\n",
      "x3 =  ['High' 'Normal']\n",
      "x4 =  ['Strong' 'Weak']\n",
      "P(x1|play tennis = No) =  [[0.1 0.2]\n",
      " [0.1 0.3]\n",
      " [0.2 0.1]]\n",
      "P(x1|play tennis = Yes) =  [[0.1 0.3]\n",
      " [0.2 0.1]\n",
      " [0.1 0.2]]\n"
     ]
    }
   ],
   "source": [
    "train_data = create_train_data()\n",
    "conditional_probability, list_x_name = compute_conditional_probability(train_data)\n",
    "print(\"x1 = \", list_x_name[0])\n",
    "print(\"x2 = \", list_x_name[1])\n",
    "print(\"x3 = \", list_x_name[2])\n",
    "print(\"x4 = \", list_x_name[3])\n",
    "\n",
    "print(\"P(x1|play tennis = No) = \", conditional_probability[0])\n",
    "print(\"P(x1|play tennis = Yes) = \", conditional_probability[1])"
   ]
  },
  {
   "cell_type": "code",
   "execution_count": 7,
   "metadata": {},
   "outputs": [],
   "source": [
    "# 15 -> b)"
   ]
  },
  {
   "cell_type": "code",
   "execution_count": null,
   "metadata": {},
   "outputs": [],
   "source": []
  },
  {
   "cell_type": "markdown",
   "metadata": {},
   "source": [
    "**4.4 Hoàn thiện function get_index_from_value để tính trả về index tương ứng với feature name:**"
   ]
  },
  {
   "cell_type": "code",
   "execution_count": 8,
   "metadata": {},
   "outputs": [],
   "source": [
    "# This function is used to return the index of the feature name\n",
    "def get_index_from_value(feature_name, list_features):\n",
    "    return np.where(list_features == feature_name)[0][0]"
   ]
  },
  {
   "cell_type": "code",
   "execution_count": null,
   "metadata": {},
   "outputs": [],
   "source": []
  },
  {
   "cell_type": "markdown",
   "metadata": {},
   "source": [
    "**Câu hỏi 16: Hãy cho biết kết quả của đoạn chương trình sau đây:**"
   ]
  },
  {
   "cell_type": "code",
   "execution_count": 9,
   "metadata": {},
   "outputs": [
    {
     "name": "stdout",
     "output_type": "stream",
     "text": [
      "0 1 2\n"
     ]
    }
   ],
   "source": [
    "train_data = create_train_data()\n",
    "_, list_x_name = compute_conditional_probability(train_data)\n",
    "outlook = list_x_name[0]\n",
    "\n",
    "i1 = get_index_from_value(\"Overcast\", outlook)\n",
    "i2 = get_index_from_value(\"Rain\", outlook)\n",
    "i3 = get_index_from_value(\"Sunny\", outlook)\n",
    "print(i1, i2, i3)"
   ]
  },
  {
   "cell_type": "code",
   "execution_count": 10,
   "metadata": {},
   "outputs": [],
   "source": [
    "# 16 -> c)"
   ]
  },
  {
   "cell_type": "code",
   "execution_count": null,
   "metadata": {},
   "outputs": [],
   "source": []
  },
  {
   "cell_type": "markdown",
   "metadata": {},
   "source": [
    "**Câu hỏi 17: Hãy cho biết kết quả của đoạn chương trình sau đây:**"
   ]
  },
  {
   "cell_type": "code",
   "execution_count": 11,
   "metadata": {},
   "outputs": [],
   "source": [
    "train_data = create_train_data()\n",
    "conditional_probability, list_x_name = compute_conditional_probability(train_data)\n",
    "\n",
    "# Compute P(\"Outlook\"=\"Sunny\"|Play Tennis\"=\"Yes\")\n",
    "x1 = get_index_from_value(\"Sunny\", list_x_name[0])\n",
    "# print(\n",
    "#     \"P('Outlook'='Sunny'|Play Tennis'='Yes') = \",\n",
    "#     np.round(conditional_probability[0][1, x1], 2),\n",
    "# )"
   ]
  },
  {
   "cell_type": "code",
   "execution_count": 12,
   "metadata": {},
   "outputs": [
    {
     "data": {
      "text/plain": [
       "array([[0.1, 0.2],\n",
       "       [0.1, 0.3],\n",
       "       [0.2, 0.1]])"
      ]
     },
     "execution_count": 12,
     "metadata": {},
     "output_type": "execute_result"
    }
   ],
   "source": [
    "conditional_probability[0]"
   ]
  },
  {
   "cell_type": "code",
   "execution_count": null,
   "metadata": {},
   "outputs": [],
   "source": []
  }
 ],
 "metadata": {
  "kernelspec": {
   "display_name": "aio2024-homework",
   "language": "python",
   "name": "python3"
  },
  "language_info": {
   "codemirror_mode": {
    "name": "ipython",
    "version": 3
   },
   "file_extension": ".py",
   "mimetype": "text/x-python",
   "name": "python",
   "nbconvert_exporter": "python",
   "pygments_lexer": "ipython3",
   "version": "3.10.14"
  }
 },
 "nbformat": 4,
 "nbformat_minor": 2
}
