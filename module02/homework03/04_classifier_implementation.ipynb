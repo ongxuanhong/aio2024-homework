{
 "cells": [
  {
   "cell_type": "code",
   "execution_count": 3,
   "metadata": {},
   "outputs": [],
   "source": [
    "import numpy as np\n",
    "import pandas as pd"
   ]
  },
  {
   "cell_type": "markdown",
   "metadata": {},
   "source": [
    "**4.1 Hoàn thiện function create_train_dataset() để tổ chức dữ liệu bảng 1 vào array 2 chiều như bên dưới.**"
   ]
  },
  {
   "cell_type": "code",
   "execution_count": 4,
   "metadata": {},
   "outputs": [
    {
     "name": "stdout",
     "output_type": "stream",
     "text": [
      "[['Sunny' 'Hot' 'High' 'Weak' 'no']\n",
      " ['Sunny' 'Hot' 'High' 'Strong' 'no']\n",
      " ['Overcast' 'Hot' 'High' 'Weak' 'yes']\n",
      " ['Rain' 'Mild' 'High' 'Weak' 'yes']\n",
      " ['Rain' 'Cool' 'Normal' 'Weak' 'yes']\n",
      " ['Rain' 'Cool' 'Normal' 'Strong' 'no']\n",
      " ['Overcast' 'Cool' 'Normal' 'Strong' 'yes']\n",
      " ['Overcast' 'Mild' 'High' 'Weak' 'no']\n",
      " ['Sunny' 'Cool' 'Normal' 'Weak' 'yes']\n",
      " ['Rain' 'Mild' 'Normal' 'Weak' 'yes']]\n"
     ]
    }
   ],
   "source": [
    "######################### # Create data #########################\n",
    "# import numpy as np\n",
    "def create_train_data():\n",
    "    #\n",
    "    pd_data = pd.read_csv(\"data/play_tennis.csv\")\n",
    "    pd_data = pd_data.drop(columns=[\"Day\"])\n",
    "    data = pd_data.values.tolist()\n",
    "    return np.array(data)\n",
    "\n",
    "\n",
    "train_data = create_train_data()\n",
    "print(train_data)"
   ]
  },
  {
   "cell_type": "code",
   "execution_count": null,
   "metadata": {},
   "outputs": [],
   "source": []
  },
  {
   "cell_type": "markdown",
   "metadata": {},
   "source": [
    "**4.2 Hoàn thiện function compute_prior_probability tính P(\"Play Tennis\" = \"Yes\") and tính P(\"Play Tennis\" = \"No\") như bên dưới:**"
   ]
  },
  {
   "cell_type": "code",
   "execution_count": 5,
   "metadata": {},
   "outputs": [
    {
     "name": "stdout",
     "output_type": "stream",
     "text": [
      "P(play tennis = No 0.4\n",
      "P(play tennis = Yes 0.6\n"
     ]
    }
   ],
   "source": [
    "def compute_prior_probablity(train_data):\n",
    "    y_unique = [\"no\", \"yes\"]\n",
    "    prior_probability = np.zeros(len(y_unique))\n",
    "\n",
    "    #\n",
    "    for i, y in enumerate(y_unique):\n",
    "        prior_probability[i] = float(np.where(train_data[:, -1] == y, 1, 0).mean())\n",
    "    return prior_probability\n",
    "\n",
    "\n",
    "prior_probablity = compute_prior_probablity(train_data)\n",
    "print(\"P(play tennis = No\", prior_probablity[0])\n",
    "print(\"P(play tennis = Yes\", prior_probablity[1])"
   ]
  },
  {
   "cell_type": "code",
   "execution_count": 6,
   "metadata": {},
   "outputs": [],
   "source": [
    "# 14 -> a)"
   ]
  },
  {
   "cell_type": "code",
   "execution_count": null,
   "metadata": {},
   "outputs": [],
   "source": []
  },
  {
   "cell_type": "markdown",
   "metadata": {},
   "source": [
    "**4.3 Hoàn thiện function compute_conditional_probability để tính likelihood (The probability of \"A\" being True. Given \"B\" True, P(A|B)) như bên dưới:**"
   ]
  },
  {
   "cell_type": "code",
   "execution_count": 7,
   "metadata": {},
   "outputs": [],
   "source": [
    "def compute_conditional_probability(train_data):\n",
    "    y_unique = [\"no\", \"yes\"]\n",
    "    conditional_probability = []\n",
    "    list_x_name = []\n",
    "    for i in range(0, train_data.shape[1] - 1):\n",
    "        x_unique = np.unique(train_data[:, i])\n",
    "        list_x_name.append(x_unique)\n",
    "\n",
    "        x_conditional_probability = np.zeros((len(y_unique), len(x_unique)))\n",
    "        for j in range(0, len(y_unique)):\n",
    "            for k in range(0, len(x_unique)):\n",
    "                x_conditional_probability[j, k] = len(\n",
    "                    np.where(\n",
    "                        (train_data[:, i] == x_unique[k])\n",
    "                        & (train_data[:, 4] == y_unique[j])\n",
    "                    )[0]\n",
    "                ) / len(np.where(train_data[:, 4] == y_unique[j])[0])\n",
    "\n",
    "        # for feature i, label j, feature_name x1\n",
    "        conditional_probability.append(x_conditional_probability)\n",
    "\n",
    "    return conditional_probability, list_x_name"
   ]
  },
  {
   "cell_type": "code",
   "execution_count": 8,
   "metadata": {},
   "outputs": [
    {
     "name": "stdout",
     "output_type": "stream",
     "text": [
      "x1 =  ['Overcast' 'Rain' 'Sunny']\n",
      "x2 =  ['Cool' 'Hot' 'Mild']\n",
      "x3 =  ['High' 'Normal']\n",
      "x4 =  ['Strong' 'Weak']\n",
      "P(x1|play tennis = No) =  [[0.25       0.25       0.5       ]\n",
      " [0.33333333 0.5        0.16666667]]\n",
      "P(x1|play tennis = Yes) =  [[0.25       0.5        0.25      ]\n",
      " [0.5        0.16666667 0.33333333]]\n"
     ]
    }
   ],
   "source": [
    "train_data = create_train_data()\n",
    "conditional_probability, list_x_name = compute_conditional_probability(train_data)\n",
    "print(\"x1 = \", list_x_name[0])\n",
    "print(\"x2 = \", list_x_name[1])\n",
    "print(\"x3 = \", list_x_name[2])\n",
    "print(\"x4 = \", list_x_name[3])\n",
    "\n",
    "print(\"P(x1|play tennis = No) = \", conditional_probability[0])\n",
    "print(\"P(x1|play tennis = Yes) = \", conditional_probability[1])"
   ]
  },
  {
   "cell_type": "code",
   "execution_count": 9,
   "metadata": {},
   "outputs": [],
   "source": [
    "# 15 -> b)"
   ]
  },
  {
   "cell_type": "code",
   "execution_count": null,
   "metadata": {},
   "outputs": [],
   "source": []
  },
  {
   "cell_type": "markdown",
   "metadata": {},
   "source": [
    "**4.4 Hoàn thiện function get_index_from_value để tính trả về index tương ứng với feature name:**"
   ]
  },
  {
   "cell_type": "code",
   "execution_count": 10,
   "metadata": {},
   "outputs": [],
   "source": [
    "# This function is used to return the index of the feature name\n",
    "def get_index_from_value(feature_name, list_features):\n",
    "    return np.where(list_features == feature_name)[0][0]"
   ]
  },
  {
   "cell_type": "code",
   "execution_count": null,
   "metadata": {},
   "outputs": [],
   "source": []
  },
  {
   "cell_type": "markdown",
   "metadata": {},
   "source": [
    "**Câu hỏi 16: Hãy cho biết kết quả của đoạn chương trình sau đây:**"
   ]
  },
  {
   "cell_type": "code",
   "execution_count": 11,
   "metadata": {},
   "outputs": [
    {
     "name": "stdout",
     "output_type": "stream",
     "text": [
      "0 1 2\n"
     ]
    }
   ],
   "source": [
    "train_data = create_train_data()\n",
    "_, list_x_name = compute_conditional_probability(train_data)\n",
    "outlook = list_x_name[0]\n",
    "\n",
    "i1 = get_index_from_value(\"Overcast\", outlook)\n",
    "i2 = get_index_from_value(\"Rain\", outlook)\n",
    "i3 = get_index_from_value(\"Sunny\", outlook)\n",
    "print(i1, i2, i3)"
   ]
  },
  {
   "cell_type": "code",
   "execution_count": 12,
   "metadata": {},
   "outputs": [],
   "source": [
    "# 16 -> c)"
   ]
  },
  {
   "cell_type": "code",
   "execution_count": null,
   "metadata": {},
   "outputs": [],
   "source": []
  },
  {
   "cell_type": "markdown",
   "metadata": {},
   "source": [
    "**Câu hỏi 17: Hãy cho biết kết quả của đoạn chương trình sau đây:**"
   ]
  },
  {
   "cell_type": "code",
   "execution_count": 15,
   "metadata": {},
   "outputs": [
    {
     "name": "stdout",
     "output_type": "stream",
     "text": [
      "P('Outlook'='Sunny'|Play Tennis'='Yes') =  0.17\n"
     ]
    }
   ],
   "source": [
    "train_data = create_train_data()\n",
    "conditional_probability, list_x_name = compute_conditional_probability(train_data)\n",
    "\n",
    "# Compute P(\"Outlook\"=\"Sunny\"|Play Tennis\"=\"Yes\")\n",
    "x1 = get_index_from_value(\"Sunny\", list_x_name[0])\n",
    "print(\n",
    "    \"P('Outlook'='Sunny'|Play Tennis'='Yes') = \",\n",
    "    np.round(conditional_probability[0][1, x1], 2),\n",
    ")"
   ]
  },
  {
   "cell_type": "code",
   "execution_count": 16,
   "metadata": {},
   "outputs": [],
   "source": [
    "# 17 -> d)"
   ]
  },
  {
   "cell_type": "markdown",
   "metadata": {},
   "source": [
    "**Câu hỏi 18: Hãy cho biết kết quả của đoạn chương trình sau đây:**"
   ]
  },
  {
   "cell_type": "code",
   "execution_count": 18,
   "metadata": {},
   "outputs": [
    {
     "name": "stdout",
     "output_type": "stream",
     "text": [
      "P('Outlook'='Sunny'|Play Tennis'='No') =  0.5\n"
     ]
    }
   ],
   "source": [
    "train_data = create_train_data()\n",
    "conditional_probability, list_x_name = compute_conditional_probability(train_data)\n",
    "# Compute P(\"Outlook\"=\"Sunny\"|Play Tennis\"=\"No\")\n",
    "x1 = get_index_from_value(\"Sunny\", list_x_name[0])\n",
    "print(\n",
    "    \"P('Outlook'='Sunny'|Play Tennis'='No') = \",\n",
    "    np.round(conditional_probability[0][0, x1], 2),\n",
    ")"
   ]
  },
  {
   "cell_type": "code",
   "execution_count": 19,
   "metadata": {},
   "outputs": [],
   "source": [
    "# 18 -> a)"
   ]
  },
  {
   "cell_type": "markdown",
   "metadata": {},
   "source": [
    "**4.5 Hoàn thiện function train_naive_bayes như bên dưới:**"
   ]
  },
  {
   "cell_type": "code",
   "execution_count": 22,
   "metadata": {},
   "outputs": [],
   "source": [
    "###########################\n",
    "# Train Naive Bayes Model\n",
    "###########################\n",
    "def train_naive_bayes(train_data):\n",
    "    # Step 1: Calculate Prior Probability\n",
    "    y_unique = [\"no\", \"yes\"]\n",
    "    prior_probability = compute_prior_probablity(train_data)\n",
    "\n",
    "    # Step 2: Calculate Conditional Probability\n",
    "    conditional_probability, list_x_name = compute_conditional_probability(train_data)\n",
    "    return prior_probability, conditional_probability, list_x_name"
   ]
  },
  {
   "cell_type": "code",
   "execution_count": null,
   "metadata": {},
   "outputs": [],
   "source": []
  },
  {
   "cell_type": "markdown",
   "metadata": {},
   "source": [
    "**4.6 Hoàn thiện function prediction_play_tennis để hỗ trợ AD có nên đi chơi tennis vào ngày D11 không:**"
   ]
  },
  {
   "cell_type": "code",
   "execution_count": 20,
   "metadata": {},
   "outputs": [],
   "source": [
    "#################### # Prediction ####################\n",
    "def prediction_play_tennis(X, list_x_name, prior_probability, conditional_probability):\n",
    "\n",
    "    x1 = get_index_from_value(X[0], list_x_name[0])\n",
    "    x2 = get_index_from_value(X[1], list_x_name[1])\n",
    "    x3 = get_index_from_value(X[2], list_x_name[2])\n",
    "    x4 = get_index_from_value(X[3], list_x_name[3])\n",
    "\n",
    "    p0 = (\n",
    "        prior_probability[0]\n",
    "        * conditional_probability[0][0, x1]\n",
    "        * conditional_probability[1][0, x2]\n",
    "        * conditional_probability[2][0, x3]\n",
    "        * conditional_probability[3][0, x4]\n",
    "    )\n",
    "\n",
    "    p1 = (\n",
    "        prior_probability[1]\n",
    "        * conditional_probability[0][1, x1]\n",
    "        * conditional_probability[1][1, x2]\n",
    "        * conditional_probability[2][1, x3]\n",
    "        * conditional_probability[3][1, x4]\n",
    "    )\n",
    "\n",
    "    # your code here ***********************\n",
    "\n",
    "    if p0 > p1:\n",
    "        y_pred = 0\n",
    "    else:\n",
    "        y_pred = 1\n",
    "    return y_pred"
   ]
  },
  {
   "cell_type": "code",
   "execution_count": null,
   "metadata": {},
   "outputs": [],
   "source": []
  },
  {
   "cell_type": "markdown",
   "metadata": {},
   "source": [
    "**Câu hỏi 19: Hãy cho biết kết quả của đoạn chương trình sau đây:**"
   ]
  },
  {
   "cell_type": "code",
   "execution_count": 23,
   "metadata": {},
   "outputs": [
    {
     "name": "stdout",
     "output_type": "stream",
     "text": [
      "Ad should not go!\n"
     ]
    }
   ],
   "source": [
    "X = [\"Sunny\", \"Cool\", \"High\", \"Strong\"]\n",
    "data = create_train_data()\n",
    "prior_probability, conditional_probability, list_x_name = train_naive_bayes(data)\n",
    "pred = prediction_play_tennis(\n",
    "    X, list_x_name, prior_probability, conditional_probability\n",
    ")\n",
    "\n",
    "if pred:\n",
    "    print(\"Ad should go!\")\n",
    "else:\n",
    "    print(\"Ad should not go!\")"
   ]
  },
  {
   "cell_type": "code",
   "execution_count": null,
   "metadata": {},
   "outputs": [],
   "source": [
    "# 19 -> a)"
   ]
  },
  {
   "cell_type": "code",
   "execution_count": null,
   "metadata": {},
   "outputs": [],
   "source": []
  }
 ],
 "metadata": {
  "kernelspec": {
   "display_name": "aio2024-homework",
   "language": "python",
   "name": "python3"
  },
  "language_info": {
   "codemirror_mode": {
    "name": "ipython",
    "version": 3
   },
   "file_extension": ".py",
   "mimetype": "text/x-python",
   "name": "python",
   "nbconvert_exporter": "python",
   "pygments_lexer": "ipython3",
   "version": "3.10.14"
  }
 },
 "nbformat": 4,
 "nbformat_minor": 2
}
