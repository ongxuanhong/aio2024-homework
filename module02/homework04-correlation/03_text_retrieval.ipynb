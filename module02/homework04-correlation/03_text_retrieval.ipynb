{
 "cells": [
  {
   "cell_type": "code",
   "execution_count": 2,
   "metadata": {},
   "outputs": [
    {
     "data": {
      "text/plain": [
       "'năm 2013 , nguyễn quang hải giành chức vô địch u21 quốc gia 2013 cùng với đội trẻ hà nội t&t và tạo nên cú sốc khi trở thành cầu thủ 16 tuổi đầu tiên giành được danh hiệu vô địch u21 quốc gia .'"
      ]
     },
     "execution_count": 2,
     "metadata": {},
     "output_type": "execute_result"
    }
   ],
   "source": [
    "import pandas as pd\n",
    "import numpy as np\n",
    "from sklearn.metrics.pairwise import cosine_similarity\n",
    "from sklearn.feature_extraction.text import TfidfVectorizer\n",
    "\n",
    "vi_data_df = pd.read_csv(\"./vi_text_retrieval.csv\")\n",
    "context = vi_data_df[\"text\"]\n",
    "context = [doc.lower() for doc in context]\n",
    "context[0]"
   ]
  },
  {
   "cell_type": "code",
   "execution_count": 3,
   "metadata": {},
   "outputs": [
    {
     "data": {
      "text/plain": [
       "np.float64(0.31126580760710637)"
      ]
     },
     "execution_count": 3,
     "metadata": {},
     "output_type": "execute_result"
    }
   ],
   "source": [
    "tfidf_vectorizer = TfidfVectorizer()\n",
    "context_embedded = tfidf_vectorizer.fit_transform(context)\n",
    "context_embedded.toarray()[7][0]"
   ]
  },
  {
   "cell_type": "code",
   "execution_count": 4,
   "metadata": {},
   "outputs": [],
   "source": [
    "# 10 -> b)"
   ]
  },
  {
   "cell_type": "code",
   "execution_count": null,
   "metadata": {},
   "outputs": [],
   "source": []
  },
  {
   "cell_type": "code",
   "execution_count": 5,
   "metadata": {},
   "outputs": [
    {
     "data": {
      "text/plain": [
       "np.float64(0.6279910475266973)"
      ]
     },
     "execution_count": 5,
     "metadata": {},
     "output_type": "execute_result"
    }
   ],
   "source": [
    "def tfidf_search(question, tfidf_vectorizer, top_d=5):\n",
    "    # lowercasing before encoding\n",
    "    query_embedded = tfidf_vectorizer.transform([question.lower()])\n",
    "    cosine_scores = cosine_similarity(query_embedded, context_embedded).flatten()\n",
    "\n",
    "    # Get top k cosine score and index its\n",
    "    results = []\n",
    "    for idx in cosine_scores.argsort()[-top_d:][::-1]:\n",
    "        doc_score = {\"id\": idx, \"cosine_score\": cosine_scores[idx]}\n",
    "        results.append(doc_score)\n",
    "\n",
    "    return results\n",
    "\n",
    "\n",
    "question = vi_data_df.iloc[0][\"question\"]\n",
    "results = tfidf_search(question, tfidf_vectorizer, top_d=5)\n",
    "results[0][\"cosine_score\"]"
   ]
  },
  {
   "cell_type": "code",
   "execution_count": 6,
   "metadata": {},
   "outputs": [],
   "source": [
    "# 11 -> c)"
   ]
  },
  {
   "cell_type": "code",
   "execution_count": null,
   "metadata": {},
   "outputs": [],
   "source": []
  },
  {
   "cell_type": "code",
   "execution_count": 11,
   "metadata": {},
   "outputs": [
    {
     "data": {
      "text/plain": [
       "np.float64(0.21145795862251632)"
      ]
     },
     "execution_count": 11,
     "metadata": {},
     "output_type": "execute_result"
    }
   ],
   "source": [
    "def corr_search(question, tfidf_vectorizer, top_d=5):\n",
    "    # lowercasing before encoding\n",
    "    query_embedded = tfidf_vectorizer.transform([question.lower()])\n",
    "    corr_scores = cosine_similarity(query_embedded, context_embedded).flatten()\n",
    "\n",
    "    # corr_scores = corr_scores[0][1:]\n",
    "\n",
    "    # Get top k correlation score and index its\n",
    "    results = []\n",
    "    for idx in corr_scores.argsort()[-top_d:][::-1]:\n",
    "        doc = {\"id\": idx, \"corr_score\": corr_scores[idx]}\n",
    "        results.append(doc)\n",
    "    return results\n",
    "\n",
    "\n",
    "question = vi_data_df.iloc[0][\"question\"]\n",
    "results = corr_search(question, tfidf_vectorizer, top_d=5)\n",
    "results[1][\"corr_score\"]"
   ]
  },
  {
   "cell_type": "code",
   "execution_count": null,
   "metadata": {},
   "outputs": [],
   "source": [
    "# 12 -> b)"
   ]
  }
 ],
 "metadata": {
  "kernelspec": {
   "display_name": "aio2024-homework",
   "language": "python",
   "name": "python3"
  },
  "language_info": {
   "codemirror_mode": {
    "name": "ipython",
    "version": 3
   },
   "file_extension": ".py",
   "mimetype": "text/x-python",
   "name": "python",
   "nbconvert_exporter": "python",
   "pygments_lexer": "ipython3",
   "version": "3.10.14"
  }
 },
 "nbformat": 4,
 "nbformat_minor": 2
}
