{
 "cells": [
  {
   "cell_type": "code",
   "execution_count": 1,
   "metadata": {
    "id": "tw2BTZNSeR2f"
   },
   "outputs": [],
   "source": [
    "import torch\n",
    "import torch.nn as nn"
   ]
  },
  {
   "cell_type": "markdown",
   "metadata": {
    "id": "x2SqeKbmfqlP"
   },
   "source": [
    "## Problem 1: Skip Connection Unet Architecture"
   ]
  },
  {
   "cell_type": "code",
   "execution_count": 4,
   "metadata": {
    "id": "iiJkcbAQ9kDZ"
   },
   "outputs": [],
   "source": [
    "class FirstFeature(nn.Module):\n",
    "    def __init__(self, in_channels, out_channels):\n",
    "        super(FirstFeature, self).__init__()\n",
    "        self.conv = nn.Sequential(\n",
    "            nn.Conv2d(in_channels, out_channels, 1, 1, 0, bias=False), nn.LeakyReLU()\n",
    "        )\n",
    "\n",
    "    def forward(self, x):\n",
    "        return self.conv(x)\n",
    "\n",
    "\n",
    "class ConvBlock(nn.Module):\n",
    "    def __init__(self, in_channels, out_channels):\n",
    "        super(ConvBlock, self).__init__()\n",
    "        self.conv = nn.Sequential(\n",
    "            nn.Conv2d(in_channels, out_channels, 3, 1, 1, bias=False),\n",
    "            nn.BatchNorm2d(out_channels),\n",
    "            nn.LeakyReLU(inplace=True),\n",
    "            nn.Conv2d(out_channels, out_channels, 3, 1, 1, bias=False),\n",
    "            nn.BatchNorm2d(out_channels),\n",
    "            nn.LeakyReLU(inplace=True),\n",
    "        )\n",
    "\n",
    "    def forward(self, x):\n",
    "        return self.conv(x)\n",
    "\n",
    "\n",
    "class Encoder(nn.Module):\n",
    "    def __init__(self, in_channels, out_channels) -> None:\n",
    "        super().__init__()\n",
    "        self.encoder = nn.Sequential(\n",
    "            nn.MaxPool2d(2), ConvBlock(in_channels, out_channels)\n",
    "        )\n",
    "\n",
    "    def forward(self, x):\n",
    "        x = self.encoder(x)\n",
    "        return x\n",
    "\n",
    "\n",
    "class Decoder(nn.Module):\n",
    "    def __init__(self, in_channels, out_channels):\n",
    "        super(Decoder, self).__init__()\n",
    "        self.conv = nn.Sequential(\n",
    "            nn.UpsamplingBilinear2d(scale_factor=2),\n",
    "            nn.Conv2d(in_channels, out_channels, 1, 1, 0, bias=False),\n",
    "            nn.BatchNorm2d(out_channels),\n",
    "            nn.LeakyReLU(),\n",
    "        )\n",
    "        self.conv_block = ConvBlock(in_channels, out_channels)\n",
    "\n",
    "    def forward(self, x, skip):\n",
    "        x = self.conv(x)\n",
    "        x = torch.concat([x, skip], dim=1)\n",
    "        x = self.conv_block(x)\n",
    "        return x\n",
    "\n",
    "\n",
    "class FinalOutput(nn.Module):\n",
    "    def __init__(self, in_channels, out_channels):\n",
    "        super(FinalOutput, self).__init__()\n",
    "        self.conv = nn.Sequential(\n",
    "            nn.Conv2d(in_channels, out_channels, 1, 1, 0, bias=False), nn.Tanh()\n",
    "        )\n",
    "\n",
    "    def forward(self, x):\n",
    "        return self.conv(x)\n",
    "\n",
    "\n",
    "class Unet(nn.Module):\n",
    "    def __init__(\n",
    "        self,\n",
    "        n_channels=3,\n",
    "        n_classes=3,\n",
    "        features=[64, 128, 256, 512],\n",
    "    ):\n",
    "        super(Unet, self).__init__()\n",
    "\n",
    "        self.n_channels = n_channels\n",
    "        self.n_classes = n_classes\n",
    "\n",
    "        self.in_conv1 = FirstFeature(n_channels, 64)\n",
    "        self.in_conv2 = ConvBlock(64, 64)\n",
    "\n",
    "        self.enc_1 = Encoder(64, 128)\n",
    "        self.enc_2 = Encoder(128, 256)\n",
    "        self.enc_3 = Encoder(256, 512)\n",
    "        self.enc_4 = Encoder(512, 1024)\n",
    "\n",
    "        self.dec_1 = Decoder(1024, 512)\n",
    "        self.dec_2 = Decoder(512, 256)\n",
    "        self.dec_3 = Decoder(256, 128)\n",
    "        self.dec_4 = Decoder(128, 64)\n",
    "\n",
    "        self.out_conv = FinalOutput(64, n_classes)\n",
    "\n",
    "    def forward(self, x):\n",
    "        x = self.in_conv1(x)\n",
    "        x1 = self.in_conv2(x)\n",
    "        x2 = self.enc_1(x1)\n",
    "        x3 = self.enc_2(x2)\n",
    "        x4 = self.enc_3(x3)\n",
    "        x5 = self.enc_4(x4)\n",
    "        x = self.dec_1(x5, x4)\n",
    "        x = self.dec_2(x, x3)\n",
    "        x = self.dec_3(x, x2)\n",
    "        x = self.dec_4(x, x1)\n",
    "        x = self.out_conv(x)\n",
    "        return x"
   ]
  },
  {
   "cell_type": "code",
   "execution_count": 13,
   "metadata": {
    "colab": {
     "base_uri": "https://localhost:8080/"
    },
    "executionInfo": {
     "elapsed": 7602,
     "status": "ok",
     "timestamp": 1735896661996,
     "user": {
      "displayName": "AIO",
      "userId": "08245194604912763444"
     },
     "user_tz": -420
    },
    "id": "z5s7mjgSDIuo",
    "outputId": "828d6450-2d03-4f85-8d58-e92a912835a1"
   },
   "outputs": [
    {
     "data": {
      "text/plain": [
       "torch.Size([2, 3, 256, 256])"
      ]
     },
     "execution_count": 13,
     "metadata": {},
     "output_type": "execute_result"
    }
   ],
   "source": [
    "unet_model = Unet()\n",
    "img = torch.ones(2, 3, 256, 256)\n",
    "img_processed = unet_model(img)\n",
    "img_processed.shape"
   ]
  },
  {
   "cell_type": "code",
   "execution_count": 12,
   "metadata": {
    "id": "lxmdDdXm9YcL"
   },
   "outputs": [
    {
     "data": {
      "text/plain": [
       "array([[[[1., 1., 1., ..., 1., 1., 1.],\n",
       "         [1., 1., 1., ..., 1., 1., 1.],\n",
       "         [1., 1., 1., ..., 1., 1., 1.],\n",
       "         ...,\n",
       "         [1., 1., 1., ..., 1., 1., 1.],\n",
       "         [1., 1., 1., ..., 1., 1., 1.],\n",
       "         [1., 1., 1., ..., 1., 1., 1.]],\n",
       "\n",
       "        [[1., 1., 1., ..., 1., 1., 1.],\n",
       "         [1., 1., 1., ..., 1., 1., 1.],\n",
       "         [1., 1., 1., ..., 1., 1., 1.],\n",
       "         ...,\n",
       "         [1., 1., 1., ..., 1., 1., 1.],\n",
       "         [1., 1., 1., ..., 1., 1., 1.],\n",
       "         [1., 1., 1., ..., 1., 1., 1.]],\n",
       "\n",
       "        [[1., 1., 1., ..., 1., 1., 1.],\n",
       "         [1., 1., 1., ..., 1., 1., 1.],\n",
       "         [1., 1., 1., ..., 1., 1., 1.],\n",
       "         ...,\n",
       "         [1., 1., 1., ..., 1., 1., 1.],\n",
       "         [1., 1., 1., ..., 1., 1., 1.],\n",
       "         [1., 1., 1., ..., 1., 1., 1.]]],\n",
       "\n",
       "\n",
       "       [[[1., 1., 1., ..., 1., 1., 1.],\n",
       "         [1., 1., 1., ..., 1., 1., 1.],\n",
       "         [1., 1., 1., ..., 1., 1., 1.],\n",
       "         ...,\n",
       "         [1., 1., 1., ..., 1., 1., 1.],\n",
       "         [1., 1., 1., ..., 1., 1., 1.],\n",
       "         [1., 1., 1., ..., 1., 1., 1.]],\n",
       "\n",
       "        [[1., 1., 1., ..., 1., 1., 1.],\n",
       "         [1., 1., 1., ..., 1., 1., 1.],\n",
       "         [1., 1., 1., ..., 1., 1., 1.],\n",
       "         ...,\n",
       "         [1., 1., 1., ..., 1., 1., 1.],\n",
       "         [1., 1., 1., ..., 1., 1., 1.],\n",
       "         [1., 1., 1., ..., 1., 1., 1.]],\n",
       "\n",
       "        [[1., 1., 1., ..., 1., 1., 1.],\n",
       "         [1., 1., 1., ..., 1., 1., 1.],\n",
       "         [1., 1., 1., ..., 1., 1., 1.],\n",
       "         ...,\n",
       "         [1., 1., 1., ..., 1., 1., 1.],\n",
       "         [1., 1., 1., ..., 1., 1., 1.],\n",
       "         [1., 1., 1., ..., 1., 1., 1.]]]],\n",
       "      shape=(2, 3, 256, 256), dtype=float32)"
      ]
     },
     "execution_count": 12,
     "metadata": {},
     "output_type": "execute_result"
    }
   ],
   "source": [
    "img.detach().numpy()"
   ]
  },
  {
   "cell_type": "code",
   "execution_count": 14,
   "metadata": {},
   "outputs": [
    {
     "data": {
      "text/plain": [
       "array([[[[ 0.06701157,  0.9135677 , -0.4973959 , ...,  0.409241  ,\n",
       "           0.23859647, -0.22723222],\n",
       "         [-0.998378  , -0.7578006 , -0.77475125, ..., -0.7065298 ,\n",
       "          -0.9857221 ,  0.61288524],\n",
       "         [-0.9092579 , -0.47523117,  0.4357189 , ..., -0.0423432 ,\n",
       "          -0.54020816, -0.51382786],\n",
       "         ...,\n",
       "         [-0.9985422 , -0.9737912 ,  0.35457706, ..., -0.920064  ,\n",
       "          -0.6025275 , -0.04182867],\n",
       "         [-0.9904751 , -0.7572529 ,  0.37789673, ..., -0.9214274 ,\n",
       "          -0.44051617, -0.10391792],\n",
       "         [-0.9621426 , -0.9598749 ,  0.84127647, ..., -0.80996966,\n",
       "          -0.3861537 ,  0.5109349 ]],\n",
       "\n",
       "        [[-0.5366623 , -0.10000994,  0.92268836, ..., -0.6320553 ,\n",
       "           0.16889459, -0.65633357],\n",
       "         [-0.75745654,  0.6070803 ,  0.93765926, ...,  0.26334172,\n",
       "          -0.31333232, -0.9365618 ],\n",
       "         [ 0.206067  , -0.9584441 , -0.0589665 , ..., -0.79476476,\n",
       "           0.79895395, -0.6598295 ],\n",
       "         ...,\n",
       "         [ 0.6772755 , -0.67367977,  0.89258516, ..., -0.27228004,\n",
       "           0.98278487,  0.7870667 ],\n",
       "         [ 0.19535646, -0.8901865 ,  0.9650413 , ...,  0.7026878 ,\n",
       "           0.9570574 ,  0.7397126 ],\n",
       "         [ 0.7077894 ,  0.1416527 ,  0.8254491 , ...,  0.54256696,\n",
       "          -0.8021894 , -0.66878784]],\n",
       "\n",
       "        [[-0.52980906,  0.9877307 , -0.5691628 , ..., -0.17160708,\n",
       "          -0.8975487 , -0.6426052 ],\n",
       "         [-0.99963653,  0.546956  ,  0.26956952, ...,  0.8183535 ,\n",
       "           0.27939177, -0.9597258 ],\n",
       "         [-0.9289836 , -0.8959743 , -0.94933766, ...,  0.83957845,\n",
       "           0.34884372,  0.80053484],\n",
       "         ...,\n",
       "         [-0.9721513 , -0.70790637, -0.11721404, ..., -0.39793658,\n",
       "          -0.80318874, -0.6658809 ],\n",
       "         [-0.99266815, -0.9871337 , -0.9163126 , ..., -0.9874438 ,\n",
       "          -0.09841182, -0.720973  ],\n",
       "         [-0.96552426, -0.67999655,  0.6765528 , ..., -0.2358777 ,\n",
       "          -0.8072693 , -0.68300176]]],\n",
       "\n",
       "\n",
       "       [[[ 0.06701157,  0.9135677 , -0.4973959 , ...,  0.409241  ,\n",
       "           0.23859647, -0.22723222],\n",
       "         [-0.998378  , -0.7578006 , -0.77475125, ..., -0.7065298 ,\n",
       "          -0.9857221 ,  0.61288524],\n",
       "         [-0.9092579 , -0.47523117,  0.4357189 , ..., -0.0423432 ,\n",
       "          -0.54020816, -0.51382786],\n",
       "         ...,\n",
       "         [-0.9985422 , -0.9737912 ,  0.35457706, ..., -0.920064  ,\n",
       "          -0.6025275 , -0.04182867],\n",
       "         [-0.9904751 , -0.7572529 ,  0.37789673, ..., -0.9214274 ,\n",
       "          -0.44051617, -0.10391792],\n",
       "         [-0.9621426 , -0.9598749 ,  0.84127647, ..., -0.80996966,\n",
       "          -0.3861537 ,  0.5109349 ]],\n",
       "\n",
       "        [[-0.5366623 , -0.10000994,  0.92268836, ..., -0.6320553 ,\n",
       "           0.16889459, -0.65633357],\n",
       "         [-0.75745654,  0.6070803 ,  0.93765926, ...,  0.26334172,\n",
       "          -0.31333232, -0.9365618 ],\n",
       "         [ 0.206067  , -0.9584441 , -0.0589665 , ..., -0.79476476,\n",
       "           0.79895395, -0.6598295 ],\n",
       "         ...,\n",
       "         [ 0.6772755 , -0.67367977,  0.89258516, ..., -0.27228004,\n",
       "           0.98278487,  0.7870667 ],\n",
       "         [ 0.19535646, -0.8901865 ,  0.9650413 , ...,  0.7026878 ,\n",
       "           0.9570574 ,  0.7397126 ],\n",
       "         [ 0.7077894 ,  0.1416527 ,  0.8254491 , ...,  0.54256696,\n",
       "          -0.8021894 , -0.66878784]],\n",
       "\n",
       "        [[-0.52980906,  0.9877307 , -0.5691628 , ..., -0.17160708,\n",
       "          -0.8975487 , -0.6426052 ],\n",
       "         [-0.99963653,  0.546956  ,  0.26956952, ...,  0.8183535 ,\n",
       "           0.27939177, -0.9597258 ],\n",
       "         [-0.9289836 , -0.8959743 , -0.94933766, ...,  0.83957845,\n",
       "           0.34884372,  0.80053484],\n",
       "         ...,\n",
       "         [-0.9721513 , -0.70790637, -0.11721404, ..., -0.39793658,\n",
       "          -0.80318874, -0.6658809 ],\n",
       "         [-0.99266815, -0.9871337 , -0.9163126 , ..., -0.9874438 ,\n",
       "          -0.09841182, -0.720973  ],\n",
       "         [-0.96552426, -0.67999655,  0.6765528 , ..., -0.2358777 ,\n",
       "          -0.8072693 , -0.68300176]]]],\n",
       "      shape=(2, 3, 256, 256), dtype=float32)"
      ]
     },
     "execution_count": 14,
     "metadata": {},
     "output_type": "execute_result"
    }
   ],
   "source": [
    "img_processed.detach().numpy()"
   ]
  },
  {
   "cell_type": "code",
   "execution_count": null,
   "metadata": {},
   "outputs": [],
   "source": []
  }
 ],
 "metadata": {
  "colab": {
   "provenance": [],
   "toc_visible": true
  },
  "kernelspec": {
   "display_name": "aio2024-homework",
   "language": "python",
   "name": "python3"
  },
  "language_info": {
   "codemirror_mode": {
    "name": "ipython",
    "version": 3
   },
   "file_extension": ".py",
   "mimetype": "text/x-python",
   "name": "python",
   "nbconvert_exporter": "python",
   "pygments_lexer": "ipython3",
   "version": "3.10.16"
  }
 },
 "nbformat": 4,
 "nbformat_minor": 0
}
