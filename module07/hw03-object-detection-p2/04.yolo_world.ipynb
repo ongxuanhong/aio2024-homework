{
 "cells": [
  {
   "cell_type": "code",
   "execution_count": 1,
   "metadata": {},
   "outputs": [],
   "source": [
    "from ultralytics import YOLOWorld\n",
    "from ultralytics.engine.results import Boxes\n",
    "from utils import save_detection_results"
   ]
  },
  {
   "cell_type": "code",
   "execution_count": 2,
   "metadata": {},
   "outputs": [
    {
     "name": "stdout",
     "output_type": "stream",
     "text": [
      "Downloading https://github.com/ultralytics/assets/releases/download/v8.3.0/yolov8x-world.pt to 'yolov8x-world.pt'...\n"
     ]
    },
    {
     "name": "stderr",
     "output_type": "stream",
     "text": [
      "100%|██████████| 141M/141M [00:09<00:00, 15.4MB/s] \n"
     ]
    },
    {
     "name": "stdout",
     "output_type": "stream",
     "text": [
      "\u001b[31m\u001b[1mrequirements:\u001b[0m Ultralytics requirement ['git+https://github.com/ultralytics/CLIP.git'] not found, attempting AutoUpdate...\n"
     ]
    },
    {
     "name": "stderr",
     "output_type": "stream",
     "text": [
      "  Running command git clone --filter=blob:none --quiet https://github.com/ultralytics/CLIP.git /tmp/pip-req-build-x_s6mgjd\n"
     ]
    },
    {
     "name": "stdout",
     "output_type": "stream",
     "text": [
      "Collecting git+https://github.com/ultralytics/CLIP.git\n",
      "  Cloning https://github.com/ultralytics/CLIP.git to /tmp/pip-req-build-x_s6mgjd\n",
      "  Resolved https://github.com/ultralytics/CLIP.git to commit 092b5fee65f85fc0020920af395b162366d4bc16\n",
      "  Preparing metadata (setup.py): started\n",
      "  Preparing metadata (setup.py): finished with status 'done'\n",
      "Collecting ftfy (from clip==1.0)\n",
      "  Downloading ftfy-6.3.1-py3-none-any.whl.metadata (7.3 kB)\n",
      "Requirement already satisfied: regex in /home/hongong/anaconda3/envs/aio2024-homework/lib/python3.10/site-packages (from clip==1.0) (2024.11.6)\n",
      "Requirement already satisfied: tqdm in /home/hongong/anaconda3/envs/aio2024-homework/lib/python3.10/site-packages (from clip==1.0) (4.67.1)\n",
      "Requirement already satisfied: torch in /home/hongong/anaconda3/envs/aio2024-homework/lib/python3.10/site-packages (from clip==1.0) (2.5.1)\n",
      "Requirement already satisfied: torchvision in /home/hongong/anaconda3/envs/aio2024-homework/lib/python3.10/site-packages (from clip==1.0) (0.20.1)\n",
      "Requirement already satisfied: wcwidth in /home/hongong/anaconda3/envs/aio2024-homework/lib/python3.10/site-packages (from ftfy->clip==1.0) (0.2.13)\n",
      "Requirement already satisfied: filelock in /home/hongong/anaconda3/envs/aio2024-homework/lib/python3.10/site-packages (from torch->clip==1.0) (3.16.1)\n",
      "Requirement already satisfied: typing-extensions>=4.8.0 in /home/hongong/anaconda3/envs/aio2024-homework/lib/python3.10/site-packages (from torch->clip==1.0) (4.12.2)\n",
      "Requirement already satisfied: networkx in /home/hongong/anaconda3/envs/aio2024-homework/lib/python3.10/site-packages (from torch->clip==1.0) (3.4.2)\n",
      "Requirement already satisfied: jinja2 in /home/hongong/anaconda3/envs/aio2024-homework/lib/python3.10/site-packages (from torch->clip==1.0) (3.1.5)\n",
      "Requirement already satisfied: fsspec in /home/hongong/anaconda3/envs/aio2024-homework/lib/python3.10/site-packages (from torch->clip==1.0) (2024.9.0)\n",
      "Requirement already satisfied: nvidia-cuda-nvrtc-cu12==12.4.127 in /home/hongong/anaconda3/envs/aio2024-homework/lib/python3.10/site-packages (from torch->clip==1.0) (12.4.127)\n",
      "Requirement already satisfied: nvidia-cuda-runtime-cu12==12.4.127 in /home/hongong/anaconda3/envs/aio2024-homework/lib/python3.10/site-packages (from torch->clip==1.0) (12.4.127)\n",
      "Requirement already satisfied: nvidia-cuda-cupti-cu12==12.4.127 in /home/hongong/anaconda3/envs/aio2024-homework/lib/python3.10/site-packages (from torch->clip==1.0) (12.4.127)\n",
      "Requirement already satisfied: nvidia-cudnn-cu12==9.1.0.70 in /home/hongong/anaconda3/envs/aio2024-homework/lib/python3.10/site-packages (from torch->clip==1.0) (9.1.0.70)\n",
      "Requirement already satisfied: nvidia-cublas-cu12==12.4.5.8 in /home/hongong/anaconda3/envs/aio2024-homework/lib/python3.10/site-packages (from torch->clip==1.0) (12.4.5.8)\n",
      "Requirement already satisfied: nvidia-cufft-cu12==11.2.1.3 in /home/hongong/anaconda3/envs/aio2024-homework/lib/python3.10/site-packages (from torch->clip==1.0) (11.2.1.3)\n",
      "Requirement already satisfied: nvidia-curand-cu12==10.3.5.147 in /home/hongong/anaconda3/envs/aio2024-homework/lib/python3.10/site-packages (from torch->clip==1.0) (10.3.5.147)\n",
      "Requirement already satisfied: nvidia-cusolver-cu12==11.6.1.9 in /home/hongong/anaconda3/envs/aio2024-homework/lib/python3.10/site-packages (from torch->clip==1.0) (11.6.1.9)\n",
      "Requirement already satisfied: nvidia-cusparse-cu12==12.3.1.170 in /home/hongong/anaconda3/envs/aio2024-homework/lib/python3.10/site-packages (from torch->clip==1.0) (12.3.1.170)\n",
      "Requirement already satisfied: nvidia-nccl-cu12==2.21.5 in /home/hongong/anaconda3/envs/aio2024-homework/lib/python3.10/site-packages (from torch->clip==1.0) (2.21.5)\n",
      "Requirement already satisfied: nvidia-nvtx-cu12==12.4.127 in /home/hongong/anaconda3/envs/aio2024-homework/lib/python3.10/site-packages (from torch->clip==1.0) (12.4.127)\n",
      "Requirement already satisfied: nvidia-nvjitlink-cu12==12.4.127 in /home/hongong/anaconda3/envs/aio2024-homework/lib/python3.10/site-packages (from torch->clip==1.0) (12.4.127)\n",
      "Requirement already satisfied: triton==3.1.0 in /home/hongong/anaconda3/envs/aio2024-homework/lib/python3.10/site-packages (from torch->clip==1.0) (3.1.0)\n",
      "Requirement already satisfied: sympy==1.13.1 in /home/hongong/anaconda3/envs/aio2024-homework/lib/python3.10/site-packages (from torch->clip==1.0) (1.13.1)\n",
      "Requirement already satisfied: mpmath<1.4,>=1.1.0 in /home/hongong/anaconda3/envs/aio2024-homework/lib/python3.10/site-packages (from sympy==1.13.1->torch->clip==1.0) (1.3.0)\n",
      "Requirement already satisfied: numpy in /home/hongong/anaconda3/envs/aio2024-homework/lib/python3.10/site-packages (from torchvision->clip==1.0) (2.2.1)\n",
      "Requirement already satisfied: pillow!=8.3.*,>=5.3.0 in /home/hongong/anaconda3/envs/aio2024-homework/lib/python3.10/site-packages (from torchvision->clip==1.0) (11.0.0)\n",
      "Requirement already satisfied: MarkupSafe>=2.0 in /home/hongong/anaconda3/envs/aio2024-homework/lib/python3.10/site-packages (from jinja2->torch->clip==1.0) (3.0.2)\n",
      "Downloading ftfy-6.3.1-py3-none-any.whl (44 kB)\n",
      "Building wheels for collected packages: clip\n",
      "  Building wheel for clip (setup.py): started\n",
      "  Building wheel for clip (setup.py): finished with status 'done'\n",
      "  Created wheel for clip: filename=clip-1.0-py3-none-any.whl size=1382442 sha256=c04a7cbbb82bf16d82c806efece404fba0d3db8f3239a5cf0b0a14f087cdf433\n",
      "  Stored in directory: /tmp/pip-ephem-wheel-cache-50b0_5i9/wheels/2e/25/92/e26f2a227599930e19a8188891e9600b6dd36721a0f8d6ef40\n",
      "Successfully built clip\n",
      "Installing collected packages: ftfy, clip\n",
      "Successfully installed clip-1.0 ftfy-6.3.1\n",
      "\n",
      "\u001b[31m\u001b[1mrequirements:\u001b[0m AutoUpdate success ✅ 4.7s, installed 1 package: ['git+https://github.com/ultralytics/CLIP.git']\n",
      "\u001b[31m\u001b[1mrequirements:\u001b[0m ⚠️ \u001b[1mRestart runtime or rerun command for updates to take effect\u001b[0m\n",
      "\n"
     ]
    },
    {
     "name": "stderr",
     "output_type": "stream",
     "text": [
      "100%|███████████████████████████████████████| 338M/338M [00:37<00:00, 9.36MiB/s]\n"
     ]
    }
   ],
   "source": [
    "# Initialize a YOLO-World model\n",
    "model = YOLOWorld(\"yolov8x-world.pt\")\n",
    "\n",
    "# Define custom classes\n",
    "model.set_classes(\n",
    "    [\"phone\", \"mask\", \"glasses\", \"bus\"]\n",
    ")  # <--------- Change this to the class you want to detect"
   ]
  },
  {
   "cell_type": "code",
   "execution_count": null,
   "metadata": {},
   "outputs": [],
   "source": []
  },
  {
   "cell_type": "code",
   "execution_count": 3,
   "metadata": {},
   "outputs": [
    {
     "name": "stdout",
     "output_type": "stream",
     "text": [
      "\n",
      "image 1/1 /home/hongong/working/aio2024/aio2024-homework/module07/hw03-object-detection-p2/samples/vietnam-3.jpg: 384x640 1 phone, 3 masks, 3 glassess, 41.8ms\n",
      "Speed: 1.0ms preprocess, 41.8ms inference, 18.6ms postprocess per image at shape (1, 3, 384, 640)\n",
      "Image saved to /home/hongong/working/aio2024/aio2024-homework/module07/hw03-object-detection-p2/run/img_504711be-fbad-4a0a-88cc-ded158e3d095.jpg\n"
     ]
    },
    {
     "data": {
      "text/plain": [
       "['/home/hongong/working/aio2024/aio2024-homework/module07/hw03-object-detection-p2/run/img_504711be-fbad-4a0a-88cc-ded158e3d095.jpg']"
      ]
     },
     "execution_count": 3,
     "metadata": {},
     "output_type": "execute_result"
    }
   ],
   "source": [
    "# Execute prediction on an image\n",
    "results: Boxes = model.predict(\n",
    "    \"samples/vietnam-3.jpg\", max_det=100, iou=0.01, conf=0.01\n",
    ")\n",
    "\n",
    "# Save detection results as images\n",
    "save_detection_results(results)"
   ]
  },
  {
   "cell_type": "code",
   "execution_count": null,
   "metadata": {},
   "outputs": [],
   "source": []
  },
  {
   "cell_type": "code",
   "execution_count": null,
   "metadata": {},
   "outputs": [],
   "source": []
  }
 ],
 "metadata": {
  "kernelspec": {
   "display_name": "aio2024-homework",
   "language": "python",
   "name": "python3"
  },
  "language_info": {
   "codemirror_mode": {
    "name": "ipython",
    "version": 3
   },
   "file_extension": ".py",
   "mimetype": "text/x-python",
   "name": "python",
   "nbconvert_exporter": "python",
   "pygments_lexer": "ipython3",
   "version": "3.10.16"
  }
 },
 "nbformat": 4,
 "nbformat_minor": 2
}
