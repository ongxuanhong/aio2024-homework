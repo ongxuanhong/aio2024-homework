{
 "cells": [
  {
   "cell_type": "code",
   "execution_count": 5,
   "metadata": {
    "executionInfo": {
     "elapsed": 558,
     "status": "ok",
     "timestamp": 1737796074699,
     "user": {
      "displayName": "Hong Ong",
      "userId": "05692559250234889242"
     },
     "user_tz": -420
    },
    "id": "qvzaYTXvtRKW"
   },
   "outputs": [],
   "source": [
    "import argparse\n",
    "from collections import defaultdict\n",
    "\n",
    "import cv2\n",
    "import numpy as np\n",
    "from tqdm import tqdm\n",
    "from ultralytics import YOLO\n",
    "from loguru import logger"
   ]
  },
  {
   "cell_type": "code",
   "execution_count": 6,
   "metadata": {
    "executionInfo": {
     "elapsed": 552,
     "status": "ok",
     "timestamp": 1737796079118,
     "user": {
      "displayName": "Hong Ong",
      "userId": "05692559250234889242"
     },
     "user_tz": -420
    },
    "id": "Lvkpd3YftRKY"
   },
   "outputs": [],
   "source": [
    "def load_config():\n",
    "    \"\"\"Load and return configuration settings\"\"\"\n",
    "    return {\n",
    "        \"model_path\": \"yolo11x.pt\",\n",
    "        \"track_history_length\": 120,\n",
    "        \"batch_size\": 64,\n",
    "        \"line_thickness\": 4,\n",
    "        \"track_color\": (230, 230, 230),\n",
    "    }\n",
    "\n",
    "\n",
    "def initialize_video(video_path):\n",
    "    \"\"\"Initialize video capture and writer objects\"\"\"\n",
    "    cap = cv2.VideoCapture(video_path)\n",
    "    width = int(cap.get(cv2.CAP_PROP_FRAME_WIDTH))\n",
    "    height = int(cap.get(cv2.CAP_PROP_FRAME_HEIGHT))\n",
    "    fps = int(cap.get(cv2.CAP_PROP_FPS))\n",
    "\n",
    "    video_name = video_path.split(\"/\")[-1]\n",
    "    output_path = f\"run/{video_name.split('.')[0]}_tracked.mp4\"\n",
    "    fourcc = cv2.VideoWriter_fourcc(*\"mp4v\")\n",
    "    out = cv2.VideoWriter(output_path, fourcc, fps, (width, height))\n",
    "\n",
    "    return cap, out, output_path"
   ]
  },
  {
   "cell_type": "code",
   "execution_count": 6,
   "metadata": {
    "executionInfo": {
     "elapsed": 541,
     "status": "ok",
     "timestamp": 1737796082078,
     "user": {
      "displayName": "Hong Ong",
      "userId": "05692559250234889242"
     },
     "user_tz": -420
    },
    "id": "EEjdODjRtRKY"
   },
   "outputs": [],
   "source": []
  },
  {
   "cell_type": "code",
   "execution_count": 7,
   "metadata": {
    "executionInfo": {
     "elapsed": 2,
     "status": "ok",
     "timestamp": 1737796083033,
     "user": {
      "displayName": "Hong Ong",
      "userId": "05692559250234889242"
     },
     "user_tz": -420
    },
    "id": "NpKtXzSStRKY"
   },
   "outputs": [],
   "source": [
    "def update_track_history(\n",
    "    track_history,\n",
    "    last_seen,\n",
    "    track_ids,\n",
    "    frame_count,\n",
    "    batch_size,\n",
    "    frame_idx,\n",
    "    history_length,\n",
    "):\n",
    "    \"\"\"Update tracking history and remove old tracks\"\"\"\n",
    "    current_tracks = set(track_ids)\n",
    "    for track_id in list(track_history.keys()):\n",
    "        if track_id in current_tracks:\n",
    "            last_seen[track_id] = frame_count - (batch_size - frame_idx - 1)\n",
    "        elif frame_count - last_seen[track_id] > history_length:\n",
    "            del track_history[track_id]\n",
    "            del last_seen[track_id]\n",
    "\n",
    "\n",
    "def draw_tracks(frame, boxes, track_ids, track_history, config):\n",
    "    \"\"\"Draw tracking lines on frame\"\"\"\n",
    "    if not track_ids:\n",
    "        return frame\n",
    "\n",
    "    for box, track_id in zip(boxes, track_ids):\n",
    "        x, y, w, h = box\n",
    "        track = track_history[track_id]\n",
    "        track.append((float(x), float(y)))\n",
    "        if len(track) > config[\"track_history_length\"]:\n",
    "            track.pop(0)\n",
    "\n",
    "        points = np.hstack(track).astype(np.int32).reshape((-1, 1, 2))\n",
    "        cv2.polylines(\n",
    "            frame,\n",
    "            [points],\n",
    "            isClosed=False,\n",
    "            color=config[\"track_color\"],\n",
    "            thickness=config[\"line_thickness\"],\n",
    "        )\n",
    "    return frame"
   ]
  },
  {
   "cell_type": "code",
   "execution_count": 7,
   "metadata": {
    "executionInfo": {
     "elapsed": 1,
     "status": "ok",
     "timestamp": 1737796084568,
     "user": {
      "displayName": "Hong Ong",
      "userId": "05692559250234889242"
     },
     "user_tz": -420
    },
    "id": "HLu2i5R3tRKZ"
   },
   "outputs": [],
   "source": []
  },
  {
   "cell_type": "code",
   "execution_count": 8,
   "metadata": {
    "executionInfo": {
     "elapsed": 1,
     "status": "ok",
     "timestamp": 1737796085356,
     "user": {
      "displayName": "Hong Ong",
      "userId": "05692559250234889242"
     },
     "user_tz": -420
    },
    "id": "6ih0-lWAtRKZ"
   },
   "outputs": [],
   "source": [
    "def process_batch(model, batch_frames, track_history, last_seen, frame_count, config):\n",
    "    \"\"\"Process a batch of frames through YOLO model\"\"\"\n",
    "    results = model.track(\n",
    "        batch_frames,\n",
    "        persist=True,\n",
    "        tracker=\"botsort.yaml\",\n",
    "        show=False,\n",
    "        verbose=False,\n",
    "        iou=0.5,\n",
    "    )\n",
    "\n",
    "    processed_frames = []\n",
    "    for frame_idx, result in enumerate(results):\n",
    "        boxes = result.boxes.xywh.cpu()\n",
    "        track_ids = (\n",
    "            result.boxes.id.int().cpu().tolist() if result.boxes.id is not None else []\n",
    "        )\n",
    "\n",
    "        update_track_history(\n",
    "            track_history,\n",
    "            last_seen,\n",
    "            track_ids,\n",
    "            frame_count,\n",
    "            len(batch_frames),\n",
    "            frame_idx,\n",
    "            config[\"track_history_length\"],\n",
    "        )\n",
    "\n",
    "        annotated_frame = result.plot(font_size=4, line_width=2)\n",
    "        annotated_frame = draw_tracks(\n",
    "            annotated_frame, boxes, track_ids, track_history, config\n",
    "        )\n",
    "        processed_frames.append(annotated_frame)\n",
    "\n",
    "    return processed_frames"
   ]
  },
  {
   "cell_type": "code",
   "execution_count": 8,
   "metadata": {
    "executionInfo": {
     "elapsed": 1,
     "status": "ok",
     "timestamp": 1737796085356,
     "user": {
      "displayName": "Hong Ong",
      "userId": "05692559250234889242"
     },
     "user_tz": -420
    },
    "id": "WH1e2Z_0tRKZ"
   },
   "outputs": [],
   "source": []
  },
  {
   "cell_type": "code",
   "execution_count": 9,
   "metadata": {
    "executionInfo": {
     "elapsed": 513,
     "status": "ok",
     "timestamp": 1737796086494,
     "user": {
      "displayName": "Hong Ong",
      "userId": "05692559250234889242"
     },
     "user_tz": -420
    },
    "id": "yevWvvQOtRKZ"
   },
   "outputs": [],
   "source": [
    "def main(video_path):\n",
    "    \"\"\"Main function to process video\"\"\"\n",
    "    CONFIG = load_config()\n",
    "    model = YOLO(CONFIG.get(\"model_path\", \"yolo11x.pt\"))\n",
    "\n",
    "    cap, out, output_path = initialize_video(video_path)\n",
    "    track_history = defaultdict(lambda: [])\n",
    "    last_seen = defaultdict(int)\n",
    "    total_frames = int(cap.get(cv2.CAP_PROP_FRAME_COUNT))\n",
    "\n",
    "    with tqdm(\n",
    "        total=total_frames,\n",
    "        desc=\"Processing frames\",\n",
    "        colour=\"green\",\n",
    "    ) as pbar:\n",
    "        frame_count = 0\n",
    "        batch_frames = []\n",
    "\n",
    "        while cap.isOpened():\n",
    "            success, frame = cap.read()\n",
    "            if not success:\n",
    "                break\n",
    "\n",
    "            frame_count += 1\n",
    "            batch_frames.append(frame)\n",
    "\n",
    "            if len(batch_frames) == CONFIG[\"batch_size\"] or frame_count == total_frames:\n",
    "                try:\n",
    "                    processed_frames = process_batch(\n",
    "                        model,\n",
    "                        batch_frames,\n",
    "                        track_history,\n",
    "                        last_seen,\n",
    "                        frame_count,\n",
    "                        CONFIG,\n",
    "                    )\n",
    "                    for frame in processed_frames:\n",
    "                        out.write(frame)\n",
    "                        pbar.update(1)\n",
    "                    batch_frames = []\n",
    "\n",
    "                except Exception as e:\n",
    "                    logger.error(\n",
    "                        f\"Error processing frames {frame_count - len(batch_frames) + 1} to {frame_count}: {str(e)}\"\n",
    "                    )\n",
    "                    batch_frames = []\n",
    "                    continue\n",
    "\n",
    "    try:\n",
    "        cap.release()\n",
    "        out.release()\n",
    "        cv2.destroyAllWindows()\n",
    "        logger.info(f\"\\nVideo has been saved to {output_path}\")\n",
    "    except Exception as e:\n",
    "        logger.error(f\"Error during cleanup: {str(e)}\")"
   ]
  },
  {
   "cell_type": "code",
   "execution_count": null,
   "metadata": {
    "id": "gTBWXv_FtRKZ"
   },
   "outputs": [],
   "source": []
  },
  {
   "cell_type": "code",
   "execution_count": 10,
   "metadata": {
    "colab": {
     "base_uri": "https://localhost:8080/"
    },
    "executionInfo": {
     "elapsed": 90060,
     "status": "ok",
     "timestamp": 1737796187582,
     "user": {
      "displayName": "Hong Ong",
      "userId": "05692559250234889242"
     },
     "user_tz": -420
    },
    "id": "tkytnDI-tRKZ",
    "outputId": "9785d499-f11e-4146-a0fc-51954fa8796b"
   },
   "outputs": [
    {
     "name": "stdout",
     "output_type": "stream",
     "text": [
      "Downloading https://github.com/ultralytics/assets/releases/download/v8.3.0/yolo11x.pt to 'yolo11x.pt'...\n"
     ]
    },
    {
     "name": "stderr",
     "output_type": "stream",
     "text": [
      "100%|██████████| 109M/109M [00:03<00:00, 36.6MB/s]\n",
      "Processing frames:   0%|\u001b[32m          \u001b[0m| 0/780 [00:00<?, ?it/s]"
     ]
    },
    {
     "name": "stdout",
     "output_type": "stream",
     "text": [
      "\u001b[31m\u001b[1mrequirements:\u001b[0m Ultralytics requirement ['lap>=0.5.12'] not found, attempting AutoUpdate...\n",
      "Collecting lap>=0.5.12\n",
      "  Downloading lap-0.5.12-cp311-cp311-manylinux_2_5_x86_64.manylinux1_x86_64.manylinux_2_17_x86_64.manylinux2014_x86_64.whl.metadata (6.2 kB)\n",
      "Requirement already satisfied: numpy>=1.21.6 in /usr/local/lib/python3.11/dist-packages (from lap>=0.5.12) (1.26.4)\n",
      "Downloading lap-0.5.12-cp311-cp311-manylinux_2_5_x86_64.manylinux1_x86_64.manylinux_2_17_x86_64.manylinux2014_x86_64.whl (1.7 MB)\n",
      "   ━━━━━━━━━━━━━━━━━━━━━━━━━━━━━━━━━━━━━━━━ 1.7/1.7 MB 144.5 MB/s eta 0:00:00\n",
      "Installing collected packages: lap\n",
      "Successfully installed lap-0.5.12\n",
      "\n",
      "\u001b[31m\u001b[1mrequirements:\u001b[0m AutoUpdate success ✅ 2.0s, installed 1 package: ['lap>=0.5.12']\n",
      "\u001b[31m\u001b[1mrequirements:\u001b[0m ⚠️ \u001b[1mRestart runtime or rerun command for updates to take effect\u001b[0m\n",
      "\n"
     ]
    },
    {
     "name": "stderr",
     "output_type": "stream",
     "text": [
      "Processing frames: 100%|\u001b[32m██████████\u001b[0m| 780/780 [01:24<00:00,  9.22it/s]\n",
      "\u001b[32m2025-01-25 09:09:47.323\u001b[0m | \u001b[1mINFO    \u001b[0m | \u001b[36m__main__\u001b[0m:\u001b[36mmain\u001b[0m:\u001b[36m53\u001b[0m - \u001b[1m\n",
      "Video has been saved to run/vietnam_tracked.mp4\u001b[0m\n"
     ]
    },
    {
     "name": "stdout",
     "output_type": "stream",
     "text": [
      "CPU times: user 1min 21s, sys: 2.28 s, total: 1min 24s\n",
      "Wall time: 1min 29s\n"
     ]
    }
   ],
   "source": [
    "%%time\n",
    "video_path = \"samples/vietnam.mp4\"\n",
    "main(video_path)"
   ]
  },
  {
   "cell_type": "code",
   "execution_count": null,
   "metadata": {
    "id": "mxXqUG8Zuc06"
   },
   "outputs": [],
   "source": []
  }
 ],
 "metadata": {
  "accelerator": "GPU",
  "colab": {
   "gpuType": "T4",
   "provenance": []
  },
  "kernelspec": {
   "display_name": "aio2024-homework",
   "language": "python",
   "name": "python3"
  },
  "language_info": {
   "codemirror_mode": {
    "name": "ipython",
    "version": 3
   },
   "file_extension": ".py",
   "mimetype": "text/x-python",
   "name": "python",
   "nbconvert_exporter": "python",
   "pygments_lexer": "ipython3",
   "version": "3.10.16"
  }
 },
 "nbformat": 4,
 "nbformat_minor": 0
}
