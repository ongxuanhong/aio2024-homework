{
 "cells": [
  {
   "cell_type": "code",
   "execution_count": 2,
   "metadata": {},
   "outputs": [
    {
     "name": "stderr",
     "output_type": "stream",
     "text": [
      "[nltk_data] Downloading package stopwords to\n",
      "[nltk_data]     /Users/hongong/nltk_data...\n",
      "[nltk_data]   Unzipping corpora/stopwords.zip.\n"
     ]
    }
   ],
   "source": [
    "import numpy as np\n",
    "import pandas as pd\n",
    "import matplotlib.pyplot as plt\n",
    "import re\n",
    "import nltk\n",
    "\n",
    "nltk.download(\"stopwords\")\n",
    "\n",
    "from sklearn.model_selection import train_test_split\n",
    "from sklearn.feature_extraction.text import TfidfVectorizer\n",
    "from nltk.corpus import stopwords\n",
    "from nltk.stem import SnowballStemmer"
   ]
  },
  {
   "cell_type": "code",
   "execution_count": 3,
   "metadata": {},
   "outputs": [
    {
     "name": "stdout",
     "output_type": "stream",
     "text": [
      "(162980, 2)\n"
     ]
    },
    {
     "data": {
      "text/html": [
       "<div>\n",
       "<style scoped>\n",
       "    .dataframe tbody tr th:only-of-type {\n",
       "        vertical-align: middle;\n",
       "    }\n",
       "\n",
       "    .dataframe tbody tr th {\n",
       "        vertical-align: top;\n",
       "    }\n",
       "\n",
       "    .dataframe thead th {\n",
       "        text-align: right;\n",
       "    }\n",
       "</style>\n",
       "<table border=\"1\" class=\"dataframe\">\n",
       "  <thead>\n",
       "    <tr style=\"text-align: right;\">\n",
       "      <th></th>\n",
       "      <th>clean_text</th>\n",
       "      <th>category</th>\n",
       "    </tr>\n",
       "  </thead>\n",
       "  <tbody>\n",
       "    <tr>\n",
       "      <th>0</th>\n",
       "      <td>when modi promised “minimum government maximum...</td>\n",
       "      <td>-1.0</td>\n",
       "    </tr>\n",
       "    <tr>\n",
       "      <th>1</th>\n",
       "      <td>talk all the nonsense and continue all the dra...</td>\n",
       "      <td>0.0</td>\n",
       "    </tr>\n",
       "    <tr>\n",
       "      <th>2</th>\n",
       "      <td>what did just say vote for modi  welcome bjp t...</td>\n",
       "      <td>1.0</td>\n",
       "    </tr>\n",
       "    <tr>\n",
       "      <th>3</th>\n",
       "      <td>asking his supporters prefix chowkidar their n...</td>\n",
       "      <td>1.0</td>\n",
       "    </tr>\n",
       "    <tr>\n",
       "      <th>4</th>\n",
       "      <td>answer who among these the most powerful world...</td>\n",
       "      <td>1.0</td>\n",
       "    </tr>\n",
       "  </tbody>\n",
       "</table>\n",
       "</div>"
      ],
      "text/plain": [
       "                                          clean_text  category\n",
       "0  when modi promised “minimum government maximum...      -1.0\n",
       "1  talk all the nonsense and continue all the dra...       0.0\n",
       "2  what did just say vote for modi  welcome bjp t...       1.0\n",
       "3  asking his supporters prefix chowkidar their n...       1.0\n",
       "4  answer who among these the most powerful world...       1.0"
      ]
     },
     "execution_count": 3,
     "metadata": {},
     "output_type": "execute_result"
    }
   ],
   "source": [
    "df = pd.read_parquet(\"data/Twitter_Data.parquet\")\n",
    "print(df.shape)\n",
    "df.head()"
   ]
  },
  {
   "cell_type": "code",
   "execution_count": 5,
   "metadata": {},
   "outputs": [
    {
     "data": {
      "text/plain": [
       "(162969, 2)"
      ]
     },
     "execution_count": 5,
     "metadata": {},
     "output_type": "execute_result"
    }
   ],
   "source": [
    "df = df.dropna()\n",
    "df.shape"
   ]
  },
  {
   "cell_type": "code",
   "execution_count": 6,
   "metadata": {},
   "outputs": [],
   "source": [
    "def text_normalize(text):\n",
    "    # Lowercasing\n",
    "    text = text.lower()\n",
    "    # Retweet old acronym \"RT\" removal\n",
    "    text = re.sub(r\"^rt[\\s]+\", \"\", text)\n",
    "    # Hyperlinks removal\n",
    "    text = re.sub(r\"https?:\\/\\/.*[\\r\\n]*\", \"\", text)\n",
    "    # Punctuation removal\n",
    "    text = re.sub(r\"[^\\w\\s]\", \"\", text)\n",
    "    # Remove stopwords\n",
    "    stop_words = set(stopwords.words(\"english\"))\n",
    "    words = text.split()\n",
    "    words = [word for word in words if word not in stop_words]\n",
    "    text = \" \".join(words)\n",
    "    # Stemming\n",
    "    stemmer = SnowballStemmer(\"english\")\n",
    "    words = text.split()\n",
    "    words = [stemmer.stem(word) for word in words]\n",
    "    text = \" \".join(words)\n",
    "    return text"
   ]
  },
  {
   "cell_type": "code",
   "execution_count": 7,
   "metadata": {},
   "outputs": [],
   "source": [
    "vectorizer = TfidfVectorizer(max_features=2000)\n",
    "X = vectorizer.fit_transform(df[\"clean_text\"]).toarray()\n",
    "intercept = np.ones((X.shape[0], 1))\n",
    "X_b = np.concatenate((intercept, X), axis=1)"
   ]
  },
  {
   "cell_type": "code",
   "execution_count": 8,
   "metadata": {},
   "outputs": [],
   "source": [
    "n_classes = df[\"category\"].nunique()\n",
    "n_samples = df[\"category\"].size\n",
    "\n",
    "y = df[\"category\"].to_numpy() + 1\n",
    "y = y.astype(np.uint8)\n",
    "y_encoded = np.array([np.zeros(n_classes) for _ in range(n_samples)])\n",
    "y_encoded[np.arange(n_samples), y] = 1"
   ]
  },
  {
   "cell_type": "code",
   "execution_count": 9,
   "metadata": {},
   "outputs": [],
   "source": [
    "val_size = 0.2\n",
    "random_state = 2\n",
    "is_shuffle = True\n",
    "\n",
    "X_train, X_val, y_train, y_val = train_test_split(\n",
    "    X_b, y_encoded, test_size=val_size, random_state=random_state, shuffle=is_shuffle\n",
    ")\n",
    "\n",
    "X_train, X_test, y_train, y_test = train_test_split(\n",
    "    X_train, y_train, test_size=val_size, random_state=random_state, shuffle=is_shuffle\n",
    ")"
   ]
  },
  {
   "cell_type": "code",
   "execution_count": 10,
   "metadata": {},
   "outputs": [],
   "source": [
    "def softmax(z):\n",
    "    exp_z = np.exp(z)\n",
    "    return exp_z / exp_z.sum(axis=1)[:, None]\n",
    "\n",
    "\n",
    "def compute_loss(y_hat, y):\n",
    "    n = y.size\n",
    "    return (-1 / n) * np.sum(y * np.log(y_hat))\n",
    "\n",
    "\n",
    "def predict(X, theta):\n",
    "    z = np.dot(X, theta)\n",
    "    y_hat = softmax(z)\n",
    "    return y_hat\n",
    "\n",
    "\n",
    "def compute_gradient(X, y, y_hat):\n",
    "    n = y.size\n",
    "    return np.dot(X.T, (y_hat - y)) / n\n",
    "\n",
    "\n",
    "def update_theta(theta, gradient, lr):\n",
    "    return theta - lr * gradient\n",
    "\n",
    "\n",
    "def compute_accuracy(X, y, theta):\n",
    "    y_hat = predict(X, theta)\n",
    "    acc = (np.argmax(y_hat, axis=1) == np.argmax(y, axis=1)).mean()\n",
    "    return acc"
   ]
  },
  {
   "cell_type": "code",
   "execution_count": 11,
   "metadata": {},
   "outputs": [],
   "source": [
    "lr = 0.1\n",
    "epochs = 200\n",
    "batch_size = X_train.shape[0]\n",
    "n_features = X_train.shape[1]\n",
    "\n",
    "np.random.seed(random_state)\n",
    "theta = np.random.uniform(size=(n_features, n_classes))"
   ]
  },
  {
   "cell_type": "code",
   "execution_count": 12,
   "metadata": {},
   "outputs": [
    {
     "name": "stdout",
     "output_type": "stream",
     "text": [
      "EPOCH 1:\tTraining loss: 0.377\tValidation loss: 0.376\n",
      "EPOCH 2:\tTraining loss: 0.377\tValidation loss: 0.376\n",
      "EPOCH 3:\tTraining loss: 0.376\tValidation loss: 0.376\n",
      "EPOCH 4:\tTraining loss: 0.376\tValidation loss: 0.375\n",
      "EPOCH 5:\tTraining loss: 0.376\tValidation loss: 0.375\n",
      "EPOCH 6:\tTraining loss: 0.375\tValidation loss: 0.375\n",
      "EPOCH 7:\tTraining loss: 0.375\tValidation loss: 0.374\n",
      "EPOCH 8:\tTraining loss: 0.375\tValidation loss: 0.374\n",
      "EPOCH 9:\tTraining loss: 0.375\tValidation loss: 0.374\n",
      "EPOCH 10:\tTraining loss: 0.374\tValidation loss: 0.373\n",
      "EPOCH 11:\tTraining loss: 0.374\tValidation loss: 0.373\n",
      "EPOCH 12:\tTraining loss: 0.374\tValidation loss: 0.373\n",
      "EPOCH 13:\tTraining loss: 0.373\tValidation loss: 0.373\n",
      "EPOCH 14:\tTraining loss: 0.373\tValidation loss: 0.372\n",
      "EPOCH 15:\tTraining loss: 0.373\tValidation loss: 0.372\n",
      "EPOCH 16:\tTraining loss: 0.373\tValidation loss: 0.372\n",
      "EPOCH 17:\tTraining loss: 0.372\tValidation loss: 0.372\n",
      "EPOCH 18:\tTraining loss: 0.372\tValidation loss: 0.371\n",
      "EPOCH 19:\tTraining loss: 0.372\tValidation loss: 0.371\n",
      "EPOCH 20:\tTraining loss: 0.372\tValidation loss: 0.371\n",
      "EPOCH 21:\tTraining loss: 0.371\tValidation loss: 0.371\n",
      "EPOCH 22:\tTraining loss: 0.371\tValidation loss: 0.370\n",
      "EPOCH 23:\tTraining loss: 0.371\tValidation loss: 0.370\n",
      "EPOCH 24:\tTraining loss: 0.371\tValidation loss: 0.370\n",
      "EPOCH 25:\tTraining loss: 0.371\tValidation loss: 0.370\n",
      "EPOCH 26:\tTraining loss: 0.370\tValidation loss: 0.370\n",
      "EPOCH 27:\tTraining loss: 0.370\tValidation loss: 0.369\n",
      "EPOCH 28:\tTraining loss: 0.370\tValidation loss: 0.369\n",
      "EPOCH 29:\tTraining loss: 0.370\tValidation loss: 0.369\n",
      "EPOCH 30:\tTraining loss: 0.369\tValidation loss: 0.369\n",
      "EPOCH 31:\tTraining loss: 0.369\tValidation loss: 0.369\n",
      "EPOCH 32:\tTraining loss: 0.369\tValidation loss: 0.368\n",
      "EPOCH 33:\tTraining loss: 0.369\tValidation loss: 0.368\n",
      "EPOCH 34:\tTraining loss: 0.369\tValidation loss: 0.368\n",
      "EPOCH 35:\tTraining loss: 0.369\tValidation loss: 0.368\n",
      "EPOCH 36:\tTraining loss: 0.368\tValidation loss: 0.368\n",
      "EPOCH 37:\tTraining loss: 0.368\tValidation loss: 0.367\n",
      "EPOCH 38:\tTraining loss: 0.368\tValidation loss: 0.367\n",
      "EPOCH 39:\tTraining loss: 0.368\tValidation loss: 0.367\n",
      "EPOCH 40:\tTraining loss: 0.368\tValidation loss: 0.367\n",
      "EPOCH 41:\tTraining loss: 0.368\tValidation loss: 0.367\n",
      "EPOCH 42:\tTraining loss: 0.367\tValidation loss: 0.367\n",
      "EPOCH 43:\tTraining loss: 0.367\tValidation loss: 0.367\n",
      "EPOCH 44:\tTraining loss: 0.367\tValidation loss: 0.366\n",
      "EPOCH 45:\tTraining loss: 0.367\tValidation loss: 0.366\n",
      "EPOCH 46:\tTraining loss: 0.367\tValidation loss: 0.366\n",
      "EPOCH 47:\tTraining loss: 0.367\tValidation loss: 0.366\n",
      "EPOCH 48:\tTraining loss: 0.367\tValidation loss: 0.366\n",
      "EPOCH 49:\tTraining loss: 0.366\tValidation loss: 0.366\n",
      "EPOCH 50:\tTraining loss: 0.366\tValidation loss: 0.366\n",
      "EPOCH 51:\tTraining loss: 0.366\tValidation loss: 0.365\n",
      "EPOCH 52:\tTraining loss: 0.366\tValidation loss: 0.365\n",
      "EPOCH 53:\tTraining loss: 0.366\tValidation loss: 0.365\n",
      "EPOCH 54:\tTraining loss: 0.366\tValidation loss: 0.365\n",
      "EPOCH 55:\tTraining loss: 0.366\tValidation loss: 0.365\n",
      "EPOCH 56:\tTraining loss: 0.366\tValidation loss: 0.365\n",
      "EPOCH 57:\tTraining loss: 0.365\tValidation loss: 0.365\n",
      "EPOCH 58:\tTraining loss: 0.365\tValidation loss: 0.365\n",
      "EPOCH 59:\tTraining loss: 0.365\tValidation loss: 0.364\n",
      "EPOCH 60:\tTraining loss: 0.365\tValidation loss: 0.364\n",
      "EPOCH 61:\tTraining loss: 0.365\tValidation loss: 0.364\n",
      "EPOCH 62:\tTraining loss: 0.365\tValidation loss: 0.364\n",
      "EPOCH 63:\tTraining loss: 0.365\tValidation loss: 0.364\n",
      "EPOCH 64:\tTraining loss: 0.365\tValidation loss: 0.364\n",
      "EPOCH 65:\tTraining loss: 0.365\tValidation loss: 0.364\n",
      "EPOCH 66:\tTraining loss: 0.364\tValidation loss: 0.364\n",
      "EPOCH 67:\tTraining loss: 0.364\tValidation loss: 0.364\n",
      "EPOCH 68:\tTraining loss: 0.364\tValidation loss: 0.364\n",
      "EPOCH 69:\tTraining loss: 0.364\tValidation loss: 0.363\n",
      "EPOCH 70:\tTraining loss: 0.364\tValidation loss: 0.363\n",
      "EPOCH 71:\tTraining loss: 0.364\tValidation loss: 0.363\n",
      "EPOCH 72:\tTraining loss: 0.364\tValidation loss: 0.363\n",
      "EPOCH 73:\tTraining loss: 0.364\tValidation loss: 0.363\n",
      "EPOCH 74:\tTraining loss: 0.364\tValidation loss: 0.363\n",
      "EPOCH 75:\tTraining loss: 0.364\tValidation loss: 0.363\n",
      "EPOCH 76:\tTraining loss: 0.364\tValidation loss: 0.363\n",
      "EPOCH 77:\tTraining loss: 0.363\tValidation loss: 0.363\n",
      "EPOCH 78:\tTraining loss: 0.363\tValidation loss: 0.363\n",
      "EPOCH 79:\tTraining loss: 0.363\tValidation loss: 0.363\n",
      "EPOCH 80:\tTraining loss: 0.363\tValidation loss: 0.363\n",
      "EPOCH 81:\tTraining loss: 0.363\tValidation loss: 0.362\n",
      "EPOCH 82:\tTraining loss: 0.363\tValidation loss: 0.362\n",
      "EPOCH 83:\tTraining loss: 0.363\tValidation loss: 0.362\n",
      "EPOCH 84:\tTraining loss: 0.363\tValidation loss: 0.362\n",
      "EPOCH 85:\tTraining loss: 0.363\tValidation loss: 0.362\n",
      "EPOCH 86:\tTraining loss: 0.363\tValidation loss: 0.362\n",
      "EPOCH 87:\tTraining loss: 0.363\tValidation loss: 0.362\n",
      "EPOCH 88:\tTraining loss: 0.363\tValidation loss: 0.362\n",
      "EPOCH 89:\tTraining loss: 0.363\tValidation loss: 0.362\n",
      "EPOCH 90:\tTraining loss: 0.363\tValidation loss: 0.362\n",
      "EPOCH 91:\tTraining loss: 0.362\tValidation loss: 0.362\n",
      "EPOCH 92:\tTraining loss: 0.362\tValidation loss: 0.362\n",
      "EPOCH 93:\tTraining loss: 0.362\tValidation loss: 0.362\n",
      "EPOCH 94:\tTraining loss: 0.362\tValidation loss: 0.362\n",
      "EPOCH 95:\tTraining loss: 0.362\tValidation loss: 0.362\n",
      "EPOCH 96:\tTraining loss: 0.362\tValidation loss: 0.361\n",
      "EPOCH 97:\tTraining loss: 0.362\tValidation loss: 0.361\n",
      "EPOCH 98:\tTraining loss: 0.362\tValidation loss: 0.361\n",
      "EPOCH 99:\tTraining loss: 0.362\tValidation loss: 0.361\n",
      "EPOCH 100:\tTraining loss: 0.362\tValidation loss: 0.361\n",
      "EPOCH 101:\tTraining loss: 0.362\tValidation loss: 0.361\n",
      "EPOCH 102:\tTraining loss: 0.362\tValidation loss: 0.361\n",
      "EPOCH 103:\tTraining loss: 0.362\tValidation loss: 0.361\n",
      "EPOCH 104:\tTraining loss: 0.362\tValidation loss: 0.361\n",
      "EPOCH 105:\tTraining loss: 0.362\tValidation loss: 0.361\n",
      "EPOCH 106:\tTraining loss: 0.362\tValidation loss: 0.361\n",
      "EPOCH 107:\tTraining loss: 0.362\tValidation loss: 0.361\n",
      "EPOCH 108:\tTraining loss: 0.362\tValidation loss: 0.361\n",
      "EPOCH 109:\tTraining loss: 0.361\tValidation loss: 0.361\n",
      "EPOCH 110:\tTraining loss: 0.361\tValidation loss: 0.361\n",
      "EPOCH 111:\tTraining loss: 0.361\tValidation loss: 0.361\n",
      "EPOCH 112:\tTraining loss: 0.361\tValidation loss: 0.361\n",
      "EPOCH 113:\tTraining loss: 0.361\tValidation loss: 0.361\n",
      "EPOCH 114:\tTraining loss: 0.361\tValidation loss: 0.361\n",
      "EPOCH 115:\tTraining loss: 0.361\tValidation loss: 0.361\n",
      "EPOCH 116:\tTraining loss: 0.361\tValidation loss: 0.360\n",
      "EPOCH 117:\tTraining loss: 0.361\tValidation loss: 0.360\n",
      "EPOCH 118:\tTraining loss: 0.361\tValidation loss: 0.360\n",
      "EPOCH 119:\tTraining loss: 0.361\tValidation loss: 0.360\n",
      "EPOCH 120:\tTraining loss: 0.361\tValidation loss: 0.360\n",
      "EPOCH 121:\tTraining loss: 0.361\tValidation loss: 0.360\n",
      "EPOCH 122:\tTraining loss: 0.361\tValidation loss: 0.360\n",
      "EPOCH 123:\tTraining loss: 0.361\tValidation loss: 0.360\n",
      "EPOCH 124:\tTraining loss: 0.361\tValidation loss: 0.360\n",
      "EPOCH 125:\tTraining loss: 0.361\tValidation loss: 0.360\n",
      "EPOCH 126:\tTraining loss: 0.361\tValidation loss: 0.360\n",
      "EPOCH 127:\tTraining loss: 0.361\tValidation loss: 0.360\n",
      "EPOCH 128:\tTraining loss: 0.361\tValidation loss: 0.360\n",
      "EPOCH 129:\tTraining loss: 0.361\tValidation loss: 0.360\n",
      "EPOCH 130:\tTraining loss: 0.361\tValidation loss: 0.360\n",
      "EPOCH 131:\tTraining loss: 0.361\tValidation loss: 0.360\n",
      "EPOCH 132:\tTraining loss: 0.361\tValidation loss: 0.360\n",
      "EPOCH 133:\tTraining loss: 0.361\tValidation loss: 0.360\n",
      "EPOCH 134:\tTraining loss: 0.361\tValidation loss: 0.360\n",
      "EPOCH 135:\tTraining loss: 0.361\tValidation loss: 0.360\n",
      "EPOCH 136:\tTraining loss: 0.360\tValidation loss: 0.360\n",
      "EPOCH 137:\tTraining loss: 0.360\tValidation loss: 0.360\n",
      "EPOCH 138:\tTraining loss: 0.360\tValidation loss: 0.360\n",
      "EPOCH 139:\tTraining loss: 0.360\tValidation loss: 0.360\n",
      "EPOCH 140:\tTraining loss: 0.360\tValidation loss: 0.360\n",
      "EPOCH 141:\tTraining loss: 0.360\tValidation loss: 0.360\n",
      "EPOCH 142:\tTraining loss: 0.360\tValidation loss: 0.360\n",
      "EPOCH 143:\tTraining loss: 0.360\tValidation loss: 0.360\n",
      "EPOCH 144:\tTraining loss: 0.360\tValidation loss: 0.360\n",
      "EPOCH 145:\tTraining loss: 0.360\tValidation loss: 0.360\n",
      "EPOCH 146:\tTraining loss: 0.360\tValidation loss: 0.359\n",
      "EPOCH 147:\tTraining loss: 0.360\tValidation loss: 0.359\n",
      "EPOCH 148:\tTraining loss: 0.360\tValidation loss: 0.359\n",
      "EPOCH 149:\tTraining loss: 0.360\tValidation loss: 0.359\n",
      "EPOCH 150:\tTraining loss: 0.360\tValidation loss: 0.359\n",
      "EPOCH 151:\tTraining loss: 0.360\tValidation loss: 0.359\n",
      "EPOCH 152:\tTraining loss: 0.360\tValidation loss: 0.359\n",
      "EPOCH 153:\tTraining loss: 0.360\tValidation loss: 0.359\n",
      "EPOCH 154:\tTraining loss: 0.360\tValidation loss: 0.359\n",
      "EPOCH 155:\tTraining loss: 0.360\tValidation loss: 0.359\n",
      "EPOCH 156:\tTraining loss: 0.360\tValidation loss: 0.359\n",
      "EPOCH 157:\tTraining loss: 0.360\tValidation loss: 0.359\n",
      "EPOCH 158:\tTraining loss: 0.360\tValidation loss: 0.359\n",
      "EPOCH 159:\tTraining loss: 0.360\tValidation loss: 0.359\n",
      "EPOCH 160:\tTraining loss: 0.360\tValidation loss: 0.359\n",
      "EPOCH 161:\tTraining loss: 0.360\tValidation loss: 0.359\n",
      "EPOCH 162:\tTraining loss: 0.360\tValidation loss: 0.359\n",
      "EPOCH 163:\tTraining loss: 0.360\tValidation loss: 0.359\n",
      "EPOCH 164:\tTraining loss: 0.360\tValidation loss: 0.359\n",
      "EPOCH 165:\tTraining loss: 0.360\tValidation loss: 0.359\n",
      "EPOCH 166:\tTraining loss: 0.360\tValidation loss: 0.359\n",
      "EPOCH 167:\tTraining loss: 0.360\tValidation loss: 0.359\n",
      "EPOCH 168:\tTraining loss: 0.360\tValidation loss: 0.359\n",
      "EPOCH 169:\tTraining loss: 0.360\tValidation loss: 0.359\n",
      "EPOCH 170:\tTraining loss: 0.360\tValidation loss: 0.359\n",
      "EPOCH 171:\tTraining loss: 0.360\tValidation loss: 0.359\n",
      "EPOCH 172:\tTraining loss: 0.360\tValidation loss: 0.359\n",
      "EPOCH 173:\tTraining loss: 0.360\tValidation loss: 0.359\n",
      "EPOCH 174:\tTraining loss: 0.360\tValidation loss: 0.359\n",
      "EPOCH 175:\tTraining loss: 0.360\tValidation loss: 0.359\n",
      "EPOCH 176:\tTraining loss: 0.360\tValidation loss: 0.359\n",
      "EPOCH 177:\tTraining loss: 0.360\tValidation loss: 0.359\n",
      "EPOCH 178:\tTraining loss: 0.360\tValidation loss: 0.359\n",
      "EPOCH 179:\tTraining loss: 0.360\tValidation loss: 0.359\n",
      "EPOCH 180:\tTraining loss: 0.360\tValidation loss: 0.359\n",
      "EPOCH 181:\tTraining loss: 0.360\tValidation loss: 0.359\n",
      "EPOCH 182:\tTraining loss: 0.359\tValidation loss: 0.359\n",
      "EPOCH 183:\tTraining loss: 0.359\tValidation loss: 0.359\n",
      "EPOCH 184:\tTraining loss: 0.359\tValidation loss: 0.359\n",
      "EPOCH 185:\tTraining loss: 0.359\tValidation loss: 0.359\n",
      "EPOCH 186:\tTraining loss: 0.359\tValidation loss: 0.359\n",
      "EPOCH 187:\tTraining loss: 0.359\tValidation loss: 0.359\n",
      "EPOCH 188:\tTraining loss: 0.359\tValidation loss: 0.359\n",
      "EPOCH 189:\tTraining loss: 0.359\tValidation loss: 0.359\n",
      "EPOCH 190:\tTraining loss: 0.359\tValidation loss: 0.359\n",
      "EPOCH 191:\tTraining loss: 0.359\tValidation loss: 0.359\n",
      "EPOCH 192:\tTraining loss: 0.359\tValidation loss: 0.359\n",
      "EPOCH 193:\tTraining loss: 0.359\tValidation loss: 0.359\n",
      "EPOCH 194:\tTraining loss: 0.359\tValidation loss: 0.359\n",
      "EPOCH 195:\tTraining loss: 0.359\tValidation loss: 0.359\n",
      "EPOCH 196:\tTraining loss: 0.359\tValidation loss: 0.359\n",
      "EPOCH 197:\tTraining loss: 0.359\tValidation loss: 0.359\n",
      "EPOCH 198:\tTraining loss: 0.359\tValidation loss: 0.359\n",
      "EPOCH 199:\tTraining loss: 0.359\tValidation loss: 0.358\n",
      "EPOCH 200:\tTraining loss: 0.359\tValidation loss: 0.358\n"
     ]
    }
   ],
   "source": [
    "train_accs = []\n",
    "train_losses = []\n",
    "val_accs = []\n",
    "val_losses = []\n",
    "\n",
    "for epoch in range(epochs):\n",
    "    train_batch_losses = []\n",
    "    train_batch_accs = []\n",
    "    val_batch_losses = []\n",
    "    val_batch_accs = []\n",
    "\n",
    "    for i in range(0, X_train.shape[0], batch_size):\n",
    "        X_i = X_train[i : i + batch_size]\n",
    "        y_i = y_train[i : i + batch_size]\n",
    "\n",
    "        y_hat = predict(X_i, theta)\n",
    "\n",
    "        train_loss = compute_loss(y_hat, y_i)\n",
    "        gradient = compute_gradient(X_i, y_i, y_hat)\n",
    "        theta = update_theta(theta, gradient, lr)\n",
    "\n",
    "        train_batch_losses.append(train_loss)\n",
    "        train_acc = compute_accuracy(X_train, y_train, theta)\n",
    "        train_batch_accs.append(train_acc)\n",
    "\n",
    "        y_val_hat = predict(X_val, theta)\n",
    "        val_loss = compute_loss(y_val_hat, y_val)\n",
    "        val_batch_losses.append(val_loss)\n",
    "\n",
    "        val_acc = compute_accuracy(X_val, y_val, theta)\n",
    "        val_batch_accs.append(val_acc)\n",
    "\n",
    "    train_batch_losses = sum(train_batch_losses) / len(train_batch_losses)\n",
    "    val_batch_losses = sum(val_batch_losses) / len(val_batch_losses)\n",
    "    train_batch_acc = sum(train_batch_accs) / len(train_batch_accs)\n",
    "    val_batch_acc = sum(val_batch_accs) / len(val_batch_accs)\n",
    "\n",
    "    train_losses.append(train_batch_losses)\n",
    "    val_losses.append(val_batch_losses)\n",
    "    train_accs.append(train_batch_acc)\n",
    "    val_accs.append(val_batch_acc)\n",
    "\n",
    "    print(\n",
    "        f\"EPOCH {epoch + 1}:\\tTraining loss: {train_batch_losses:.3f}\\tValidation loss: {val_batch_losses:.3f}\"\n",
    "    )"
   ]
  },
  {
   "cell_type": "code",
   "execution_count": 13,
   "metadata": {},
   "outputs": [
    {
     "data": {
      "image/png": "[encoded data removed]",
      "text/plain": [
       "<Figure size 1200x1000 with 4 Axes>"
      ]
     },
     "metadata": {},
     "output_type": "display_data"
    }
   ],
   "source": [
    "fig, ax = plt.subplots(2, 2, figsize=(12, 10))\n",
    "ax[0, 0].plot(train_losses)\n",
    "ax[0, 0].set(xlabel=\"Epoch\", ylabel=\"Loss\")\n",
    "ax[0, 0].set_title(\"Training Loss\")\n",
    "\n",
    "ax[0, 1].plot(val_losses, \"orange\")\n",
    "ax[0, 1].set(xlabel=\"Epoch\", ylabel=\"Loss\")\n",
    "ax[0, 1].set_title(\"Validation Loss\")\n",
    "\n",
    "ax[1, 0].plot(train_accs)\n",
    "ax[1, 0].set(xlabel=\"Epoch\", ylabel=\"Accuracy\")\n",
    "ax[1, 0].set_title(\"Training Accuracy\")\n",
    "\n",
    "ax[1, 1].plot(val_accs, \"orange\")\n",
    "ax[1, 1].set(xlabel=\"Epoch\", ylabel=\"Accuracy\")\n",
    "ax[1, 1].set_title(\"Validation Accuracy\")\n",
    "\n",
    "plt.show()"
   ]
  },
  {
   "cell_type": "code",
   "execution_count": 14,
   "metadata": {},
   "outputs": [
    {
     "name": "stdout",
     "output_type": "stream",
     "text": [
      "Evaluation on validation and test set:\n",
      "Accuracy: 0.4340062588206418\n",
      "Accuracy: 0.42983700862895496\n"
     ]
    }
   ],
   "source": [
    "val_set_acc = compute_accuracy(X_val, y_val, theta)\n",
    "test_set_acc = compute_accuracy(X_test, y_test, theta)\n",
    "print(\"Evaluation on validation and test set:\")\n",
    "print(f\"Accuracy: {val_set_acc}\")\n",
    "print(f\"Accuracy: {test_set_acc}\")"
   ]
  },
  {
   "cell_type": "markdown",
   "metadata": {},
   "source": [
    "# Excercises"
   ]
  },
  {
   "cell_type": "code",
   "execution_count": 20,
   "metadata": {},
   "outputs": [
    {
     "data": {
      "text/plain": [
       "np.float64(0.916290731874155)"
      ]
     },
     "execution_count": 20,
     "metadata": {},
     "output_type": "execute_result"
    }
   ],
   "source": [
    "def cross_entropy(y_hat, y):\n",
    "    return -np.sum(y * np.log(y_hat))\n",
    "\n",
    "\n",
    "y_hat = np.array([0.4, 0.15, 0.05, 0.4])\n",
    "y = np.array([1, 0, 0, 0])\n",
    "cross_entropy(y_hat, y)"
   ]
  },
  {
   "cell_type": "code",
   "execution_count": 23,
   "metadata": {},
   "outputs": [
    {
     "data": {
      "text/plain": [
       "array([0.01314897, 0.00483724, 0.71790961, 0.26410418])"
      ]
     },
     "execution_count": 23,
     "metadata": {},
     "output_type": "execute_result"
    }
   ],
   "source": [
    "def softmax(z):\n",
    "    exp_z = np.exp(z)\n",
    "    return exp_z / exp_z.sum()\n",
    "\n",
    "\n",
    "z = np.array([-1, -2, 3, 2])\n",
    "softmax(z)"
   ]
  },
  {
   "cell_type": "code",
   "execution_count": null,
   "metadata": {},
   "outputs": [
    {
     "data": {
      "text/plain": [
       "np.float64(0.5)"
      ]
     },
     "execution_count": 24,
     "metadata": {},
     "output_type": "execute_result"
    }
   ],
   "source": [
    "def accuracy(y_hat, y):\n",
    "    return (y_hat == y).mean()\n",
    "\n",
    "\n",
    "y_hat = np.array([0, 1, 3, 2, 0, 2, 1, 2])\n",
    "y = np.array([0, 0, 3, 2, 1, 2, 2, 1])\n",
    "accuracy(y_hat, y)"
   ]
  },
  {
   "cell_type": "code",
   "execution_count": null,
   "metadata": {},
   "outputs": [],
   "source": []
  }
 ],
 "metadata": {
  "kernelspec": {
   "display_name": "aio2024-homework",
   "language": "python",
   "name": "python3"
  },
  "language_info": {
   "codemirror_mode": {
    "name": "ipython",
    "version": 3
   },
   "file_extension": ".py",
   "mimetype": "text/x-python",
   "name": "python",
   "nbconvert_exporter": "python",
   "pygments_lexer": "ipython3",
   "version": "3.10.14"
  }
 },
 "nbformat": 4,
 "nbformat_minor": 2
}
