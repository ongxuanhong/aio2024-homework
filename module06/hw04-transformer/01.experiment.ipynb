{
 "cells": [
  {
   "cell_type": "code",
   "execution_count": 3,
   "metadata": {},
   "outputs": [],
   "source": [
    "import torch\n",
    "from transformer import Transformer"
   ]
  },
  {
   "cell_type": "code",
   "execution_count": 2,
   "metadata": {},
   "outputs": [
    {
     "name": "stdout",
     "output_type": "stream",
     "text": [
      "torch.Size([128, 100, 2000])\n"
     ]
    }
   ],
   "source": [
    "batch_size = 128\n",
    "src_vocab_size = 1000\n",
    "tgt_vocab_size = 2000\n",
    "embed_dim = 200\n",
    "max_length = 100\n",
    "num_layers = 2\n",
    "num_heads = 4\n",
    "ff_dim = 256\n",
    "model = Transformer(\n",
    "    src_vocab_size, tgt_vocab_size, embed_dim, max_length, num_layers, num_heads, ff_dim\n",
    ")\n",
    "src = torch.randint(high=2, size=(batch_size, max_length), dtype=torch.int64)\n",
    "tgt = torch.randint(high=2, size=(batch_size, max_length), dtype=torch.int64)\n",
    "prediction = model(src, tgt)\n",
    "\n",
    "# batch_size x max_length x tgt_vocab_size\n",
    "print(prediction.shape)  # torch.Size([128, 100, 2000])"
   ]
  },
  {
   "cell_type": "code",
   "execution_count": null,
   "metadata": {},
   "outputs": [],
   "source": []
  },
  {
   "cell_type": "code",
   "execution_count": null,
   "metadata": {},
   "outputs": [],
   "source": []
  },
  {
   "cell_type": "code",
   "execution_count": null,
   "metadata": {},
   "outputs": [],
   "source": []
  }
 ],
 "metadata": {
  "kernelspec": {
   "display_name": "aio2024-homework",
   "language": "python",
   "name": "python3"
  },
  "language_info": {
   "codemirror_mode": {
    "name": "ipython",
    "version": 3
   },
   "file_extension": ".py",
   "mimetype": "text/x-python",
   "name": "python",
   "nbconvert_exporter": "python",
   "pygments_lexer": "ipython3",
   "version": "3.10.14"
  }
 },
 "nbformat": 4,
 "nbformat_minor": 2
}
