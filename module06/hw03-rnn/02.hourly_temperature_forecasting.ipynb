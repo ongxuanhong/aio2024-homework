{
 "cells": [
  {
   "cell_type": "code",
   "execution_count": 1,
   "metadata": {},
   "outputs": [],
   "source": [
    "import torch\n",
    "import torch.nn as nn\n",
    "\n",
    "seed = 1\n",
    "torch.manual_seed(seed)\n",
    "\n",
    "import numpy as np\n",
    "import pandas as pd\n",
    "import matplotlib.pyplot as plt\n",
    "\n",
    "from torch.utils.data import Dataset, DataLoader"
   ]
  },
  {
   "cell_type": "code",
   "execution_count": null,
   "metadata": {},
   "outputs": [],
   "source": []
  },
  {
   "cell_type": "markdown",
   "metadata": {},
   "source": [
    "# Data preparation"
   ]
  },
  {
   "cell_type": "code",
   "execution_count": 3,
   "metadata": {},
   "outputs": [
    {
     "name": "stdout",
     "output_type": "stream",
     "text": [
      "(96453, 12)\n"
     ]
    },
    {
     "data": {
      "text/html": [
       "<div>\n",
       "<style scoped>\n",
       "    .dataframe tbody tr th:only-of-type {\n",
       "        vertical-align: middle;\n",
       "    }\n",
       "\n",
       "    .dataframe tbody tr th {\n",
       "        vertical-align: top;\n",
       "    }\n",
       "\n",
       "    .dataframe thead th {\n",
       "        text-align: right;\n",
       "    }\n",
       "</style>\n",
       "<table border=\"1\" class=\"dataframe\">\n",
       "  <thead>\n",
       "    <tr style=\"text-align: right;\">\n",
       "      <th></th>\n",
       "      <th>Formatted Date</th>\n",
       "      <th>Summary</th>\n",
       "      <th>Precip Type</th>\n",
       "      <th>Temperature (C)</th>\n",
       "      <th>Apparent Temperature (C)</th>\n",
       "      <th>Humidity</th>\n",
       "      <th>Wind Speed (km/h)</th>\n",
       "      <th>Wind Bearing (degrees)</th>\n",
       "      <th>Visibility (km)</th>\n",
       "      <th>Loud Cover</th>\n",
       "      <th>Pressure (millibars)</th>\n",
       "      <th>Daily Summary</th>\n",
       "    </tr>\n",
       "  </thead>\n",
       "  <tbody>\n",
       "    <tr>\n",
       "      <th>0</th>\n",
       "      <td>2006-04-01 00:00:00.000 +0200</td>\n",
       "      <td>Partly Cloudy</td>\n",
       "      <td>rain</td>\n",
       "      <td>9.472222</td>\n",
       "      <td>7.388889</td>\n",
       "      <td>0.89</td>\n",
       "      <td>14.1197</td>\n",
       "      <td>251.0</td>\n",
       "      <td>15.8263</td>\n",
       "      <td>0.0</td>\n",
       "      <td>1015.13</td>\n",
       "      <td>Partly cloudy throughout the day.</td>\n",
       "    </tr>\n",
       "    <tr>\n",
       "      <th>1</th>\n",
       "      <td>2006-04-01 01:00:00.000 +0200</td>\n",
       "      <td>Partly Cloudy</td>\n",
       "      <td>rain</td>\n",
       "      <td>9.355556</td>\n",
       "      <td>7.227778</td>\n",
       "      <td>0.86</td>\n",
       "      <td>14.2646</td>\n",
       "      <td>259.0</td>\n",
       "      <td>15.8263</td>\n",
       "      <td>0.0</td>\n",
       "      <td>1015.63</td>\n",
       "      <td>Partly cloudy throughout the day.</td>\n",
       "    </tr>\n",
       "    <tr>\n",
       "      <th>2</th>\n",
       "      <td>2006-04-01 02:00:00.000 +0200</td>\n",
       "      <td>Mostly Cloudy</td>\n",
       "      <td>rain</td>\n",
       "      <td>9.377778</td>\n",
       "      <td>9.377778</td>\n",
       "      <td>0.89</td>\n",
       "      <td>3.9284</td>\n",
       "      <td>204.0</td>\n",
       "      <td>14.9569</td>\n",
       "      <td>0.0</td>\n",
       "      <td>1015.94</td>\n",
       "      <td>Partly cloudy throughout the day.</td>\n",
       "    </tr>\n",
       "    <tr>\n",
       "      <th>3</th>\n",
       "      <td>2006-04-01 03:00:00.000 +0200</td>\n",
       "      <td>Partly Cloudy</td>\n",
       "      <td>rain</td>\n",
       "      <td>8.288889</td>\n",
       "      <td>5.944444</td>\n",
       "      <td>0.83</td>\n",
       "      <td>14.1036</td>\n",
       "      <td>269.0</td>\n",
       "      <td>15.8263</td>\n",
       "      <td>0.0</td>\n",
       "      <td>1016.41</td>\n",
       "      <td>Partly cloudy throughout the day.</td>\n",
       "    </tr>\n",
       "    <tr>\n",
       "      <th>4</th>\n",
       "      <td>2006-04-01 04:00:00.000 +0200</td>\n",
       "      <td>Mostly Cloudy</td>\n",
       "      <td>rain</td>\n",
       "      <td>8.755556</td>\n",
       "      <td>6.977778</td>\n",
       "      <td>0.83</td>\n",
       "      <td>11.0446</td>\n",
       "      <td>259.0</td>\n",
       "      <td>15.8263</td>\n",
       "      <td>0.0</td>\n",
       "      <td>1016.51</td>\n",
       "      <td>Partly cloudy throughout the day.</td>\n",
       "    </tr>\n",
       "  </tbody>\n",
       "</table>\n",
       "</div>"
      ],
      "text/plain": [
       "                  Formatted Date        Summary Precip Type  Temperature (C)  \\\n",
       "0  2006-04-01 00:00:00.000 +0200  Partly Cloudy        rain         9.472222   \n",
       "1  2006-04-01 01:00:00.000 +0200  Partly Cloudy        rain         9.355556   \n",
       "2  2006-04-01 02:00:00.000 +0200  Mostly Cloudy        rain         9.377778   \n",
       "3  2006-04-01 03:00:00.000 +0200  Partly Cloudy        rain         8.288889   \n",
       "4  2006-04-01 04:00:00.000 +0200  Mostly Cloudy        rain         8.755556   \n",
       "\n",
       "   Apparent Temperature (C)  Humidity  Wind Speed (km/h)  \\\n",
       "0                  7.388889      0.89            14.1197   \n",
       "1                  7.227778      0.86            14.2646   \n",
       "2                  9.377778      0.89             3.9284   \n",
       "3                  5.944444      0.83            14.1036   \n",
       "4                  6.977778      0.83            11.0446   \n",
       "\n",
       "   Wind Bearing (degrees)  Visibility (km)  Loud Cover  Pressure (millibars)  \\\n",
       "0                   251.0          15.8263         0.0               1015.13   \n",
       "1                   259.0          15.8263         0.0               1015.63   \n",
       "2                   204.0          14.9569         0.0               1015.94   \n",
       "3                   269.0          15.8263         0.0               1016.41   \n",
       "4                   259.0          15.8263         0.0               1016.51   \n",
       "\n",
       "                       Daily Summary  \n",
       "0  Partly cloudy throughout the day.  \n",
       "1  Partly cloudy throughout the day.  \n",
       "2  Partly cloudy throughout the day.  \n",
       "3  Partly cloudy throughout the day.  \n",
       "4  Partly cloudy throughout the day.  "
      ]
     },
     "execution_count": 3,
     "metadata": {},
     "output_type": "execute_result"
    }
   ],
   "source": [
    "dataset_filepath = 'data/weatherHistory.csv'\n",
    "df = pd.read_csv(dataset_filepath)\n",
    "print(df.shape)\n",
    "df.head()"
   ]
  },
  {
   "cell_type": "code",
   "execution_count": 4,
   "metadata": {},
   "outputs": [
    {
     "data": {
      "text/plain": [
       "Formatted Date\n",
       "2006-04-01 00:00:00.000 +0200    9.472222\n",
       "2006-04-01 01:00:00.000 +0200    9.355556\n",
       "2006-04-01 02:00:00.000 +0200    9.377778\n",
       "2006-04-01 03:00:00.000 +0200    8.288889\n",
       "2006-04-01 04:00:00.000 +0200    8.755556\n",
       "Name: Temperature (C), dtype: float64"
      ]
     },
     "execution_count": 4,
     "metadata": {},
     "output_type": "execute_result"
    }
   ],
   "source": [
    "univariate_df = df['Temperature (C)']\n",
    "univariate_df.index = df['Formatted Date']\n",
    "univariate_df.head()"
   ]
  },
  {
   "cell_type": "code",
   "execution_count": null,
   "metadata": {},
   "outputs": [],
   "source": []
  },
  {
   "cell_type": "markdown",
   "metadata": {},
   "source": [
    "## Windowing"
   ]
  },
  {
   "cell_type": "code",
   "execution_count": 5,
   "metadata": {},
   "outputs": [],
   "source": [
    "input_size = 6\n",
    "label_size = 1\n",
    "offset = 1\n",
    "\n",
    "def slicing_window(df, df_start_idx, df_end_idx, input_size, label_size, offset):\n",
    "    features = []\n",
    "    labels = []\n",
    "\n",
    "    window_size = input_size + offset\n",
    "\n",
    "    if df_end_idx == None:\n",
    "        df_end_idx = len(df) - window_size\n",
    "\n",
    "    for idx in range(df_start_idx, df_end_idx):\n",
    "        feature_end_idx = idx + input_size\n",
    "        label_start_idx = idx + window_size - label_size\n",
    "\n",
    "        feature = df[idx:feature_end_idx]\n",
    "        label = df[label_start_idx:(idx + window_size)]\n",
    "\n",
    "        features.append(feature)\n",
    "        labels.append(label)\n",
    "\n",
    "    features = np.expand_dims(np.array(features), -1)\n",
    "    labels = np.array(labels)\n",
    "\n",
    "    return features, labels"
   ]
  },
  {
   "cell_type": "code",
   "execution_count": 6,
   "metadata": {},
   "outputs": [
    {
     "name": "stdout",
     "output_type": "stream",
     "text": [
      "(67517, 6, 1) (67517, 1)\n",
      "(19290, 6, 1) (19290, 1)\n",
      "(9639, 6, 1) (9639, 1)\n"
     ]
    }
   ],
   "source": [
    "dataset_length = len(univariate_df)\n",
    "train_size = 0.7\n",
    "val_size = 0.2\n",
    "train_end_idx = int(train_size * dataset_length)\n",
    "val_end_idx = int(val_size * dataset_length) + train_end_idx\n",
    "\n",
    "X_train, y_train = slicing_window(\n",
    "    univariate_df,\n",
    "    df_start_idx=0,\n",
    "    df_end_idx=train_end_idx,\n",
    "    input_size=input_size,\n",
    "    label_size=label_size,\n",
    "    offset=offset\n",
    ")\n",
    "\n",
    "X_val, y_val = slicing_window(\n",
    "    univariate_df,\n",
    "    df_start_idx=train_end_idx,\n",
    "    df_end_idx=val_end_idx,\n",
    "    input_size=input_size,\n",
    "    label_size=label_size,\n",
    "    offset=offset\n",
    ")\n",
    "\n",
    "X_test, y_test = slicing_window(\n",
    "    univariate_df,\n",
    "    df_start_idx=val_end_idx,\n",
    "    df_end_idx=None,\n",
    "    input_size=input_size,\n",
    "    label_size=label_size,\n",
    "    offset=offset\n",
    ")\n",
    "\n",
    "print(X_train.shape, y_train.shape)\n",
    "print(X_val.shape, y_val.shape)\n",
    "print(X_test.shape, y_test.shape)"
   ]
  },
  {
   "cell_type": "code",
   "execution_count": null,
   "metadata": {},
   "outputs": [],
   "source": []
  },
  {
   "cell_type": "markdown",
   "metadata": {},
   "source": [
    "## Dataset and Dataloader"
   ]
  },
  {
   "cell_type": "code",
   "execution_count": 9,
   "metadata": {},
   "outputs": [],
   "source": [
    "class WeatherForecast(Dataset):\n",
    "    def __init__(self, X, y, transform=None):\n",
    "        self.X = X\n",
    "        self.y = y\n",
    "        self.transform = transform\n",
    "\n",
    "    def __len__(self):\n",
    "        return len(self.X)\n",
    "\n",
    "    def __getitem__(self, idx):\n",
    "        X = self.X[idx]\n",
    "        y = self.y[idx]\n",
    "\n",
    "        if self.transform:\n",
    "            X = self.transform(X)\n",
    "\n",
    "        X = torch.tensor(X, dtype=torch.float32)\n",
    "        y = torch.tensor(y, dtype=torch.float32)\n",
    "\n",
    "        return X, y"
   ]
  },
  {
   "cell_type": "code",
   "execution_count": 10,
   "metadata": {},
   "outputs": [],
   "source": [
    "train_dataset = WeatherForecast(X_train, y_train)\n",
    "val_dataset = WeatherForecast(X_val, y_val)\n",
    "test_dataset = WeatherForecast(X_test, y_test)\n",
    "\n",
    "train_batch_size = 128\n",
    "test_batch_size = 8\n",
    "\n",
    "train_loader = DataLoader(train_dataset, batch_size=train_batch_size, shuffle=True)\n",
    "val_loader = DataLoader(val_dataset, batch_size=test_batch_size, shuffle=False)\n",
    "test_loader = DataLoader(test_dataset, batch_size=test_batch_size, shuffle=False)"
   ]
  },
  {
   "cell_type": "code",
   "execution_count": null,
   "metadata": {},
   "outputs": [],
   "source": []
  },
  {
   "cell_type": "markdown",
   "metadata": {},
   "source": [
    "# Modeling"
   ]
  },
  {
   "cell_type": "code",
   "execution_count": 11,
   "metadata": {},
   "outputs": [],
   "source": [
    "class WeatherForecastor(nn.Module):\n",
    "    def __init__(self, input_size, hidden_size, n_layers, dropout_prob):\n",
    "        super(WeatherForecastor, self).__init__()\n",
    "        self.rnn = nn.RNN(input_size, hidden_size, n_layers, batch_first=True)\n",
    "        self.norm = nn.LayerNorm(hidden_size)\n",
    "\n",
    "        self.dropout = nn.Dropout(dropout_prob)\n",
    "        self.fc = nn.Linear(hidden_size, 1)\n",
    "\n",
    "    def forward(self, x):\n",
    "        x, hn = self.rnn(x)\n",
    "        x = x[:, -1, :]\n",
    "        x = self.norm(x)\n",
    "        x = self.dropout(x)\n",
    "        x = self.fc(x)\n",
    "\n",
    "        return x"
   ]
  },
  {
   "cell_type": "code",
   "execution_count": 12,
   "metadata": {},
   "outputs": [
    {
     "name": "stdout",
     "output_type": "stream",
     "text": [
      "cuda\n"
     ]
    },
    {
     "data": {
      "text/plain": [
       "WeatherForecastor(\n",
       "  (rnn): RNN(1, 8, num_layers=3, batch_first=True)\n",
       "  (norm): LayerNorm((8,), eps=1e-05, elementwise_affine=True)\n",
       "  (dropout): Dropout(p=0.2, inplace=False)\n",
       "  (fc): Linear(in_features=8, out_features=1, bias=True)\n",
       ")"
      ]
     },
     "execution_count": 12,
     "metadata": {},
     "output_type": "execute_result"
    }
   ],
   "source": [
    "embedding_dim = 1\n",
    "hidden_size = 8\n",
    "n_layers = 3\n",
    "dropout_prob = 0.2\n",
    "device = 'cuda' if torch.cuda.is_available() else 'cpu'\n",
    "print(device)\n",
    "\n",
    "model = WeatherForecastor(\n",
    "    input_size=embedding_dim,\n",
    "    hidden_size=hidden_size,\n",
    "    n_layers=n_layers,\n",
    "    dropout_prob=dropout_prob\n",
    ").to(device)\n",
    "\n",
    "model"
   ]
  },
  {
   "cell_type": "code",
   "execution_count": 13,
   "metadata": {},
   "outputs": [
    {
     "name": "stdout",
     "output_type": "stream",
     "text": [
      "==========================================================================================\n",
      "Layer (type:depth-idx)                   Output Shape              Param #\n",
      "==========================================================================================\n",
      "├─RNN: 1-1                               [-1, 6, 8]                376\n",
      "├─LayerNorm: 1-2                         [-1, 8]                   16\n",
      "├─Dropout: 1-3                           [-1, 8]                   --\n",
      "├─Linear: 1-4                            [-1, 1]                   9\n",
      "==========================================================================================\n",
      "Total params: 401\n",
      "Trainable params: 401\n",
      "Non-trainable params: 0\n",
      "Total mult-adds (M): 0.00\n",
      "==========================================================================================\n",
      "Input size (MB): 0.00\n",
      "Forward/backward pass size (MB): 0.00\n",
      "Params size (MB): 0.00\n",
      "Estimated Total Size (MB): 0.00\n",
      "==========================================================================================\n"
     ]
    },
    {
     "data": {
      "text/plain": [
       "==========================================================================================\n",
       "Layer (type:depth-idx)                   Output Shape              Param #\n",
       "==========================================================================================\n",
       "├─RNN: 1-1                               [-1, 6, 8]                376\n",
       "├─LayerNorm: 1-2                         [-1, 8]                   16\n",
       "├─Dropout: 1-3                           [-1, 8]                   --\n",
       "├─Linear: 1-4                            [-1, 1]                   9\n",
       "==========================================================================================\n",
       "Total params: 401\n",
       "Trainable params: 401\n",
       "Non-trainable params: 0\n",
       "Total mult-adds (M): 0.00\n",
       "==========================================================================================\n",
       "Input size (MB): 0.00\n",
       "Forward/backward pass size (MB): 0.00\n",
       "Params size (MB): 0.00\n",
       "Estimated Total Size (MB): 0.00\n",
       "=========================================================================================="
      ]
     },
     "execution_count": 13,
     "metadata": {},
     "output_type": "execute_result"
    }
   ],
   "source": [
    "# summary model\n",
    "from torchsummary import summary\n",
    "summary(model, (input_size, 1))"
   ]
  },
  {
   "cell_type": "code",
   "execution_count": null,
   "metadata": {},
   "outputs": [],
   "source": []
  },
  {
   "cell_type": "markdown",
   "metadata": {},
   "source": [
    "# Training"
   ]
  },
  {
   "cell_type": "code",
   "execution_count": 14,
   "metadata": {},
   "outputs": [],
   "source": [
    "lr = 1e-3\n",
    "n_epochs = 50\n",
    "criterion = nn.MSELoss()\n",
    "optimizer = torch.optim.Adam(model.parameters(), lr=lr)"
   ]
  },
  {
   "cell_type": "code",
   "execution_count": 15,
   "metadata": {},
   "outputs": [],
   "source": [
    "def evaluate(model, dataloader, criterion, device):\n",
    "    model.eval()\n",
    "    correct = 0\n",
    "    total = 0\n",
    "    losses = []\n",
    "    with torch.no_grad():\n",
    "        for inputs, labels in dataloader:\n",
    "            inputs, labels = inputs.to(device), labels.to(device)\n",
    "            outputs = model(inputs)\n",
    "            loss = criterion(outputs, labels)\n",
    "            losses.append(loss.item())\n",
    "            _, predicted = torch.max(outputs.data, 1)\n",
    "            total += labels.size(0)\n",
    "            correct += (predicted == labels).sum().item()\n",
    "\n",
    "        loss = sum(losses) / len(losses)\n",
    "        acc = correct / total\n",
    "\n",
    "    return loss, acc"
   ]
  },
  {
   "cell_type": "code",
   "execution_count": 16,
   "metadata": {},
   "outputs": [],
   "source": [
    "def fit(model, train_loader, val_loader, criterion, optimizer, device, epochs):\n",
    "    train_losses = []\n",
    "    val_losses = []\n",
    "\n",
    "    for epoch in range(epochs):\n",
    "        batch_train_losses = []\n",
    "        model.train()\n",
    "        for idx, (inputs, labels) in enumerate(train_loader):\n",
    "            inputs, labels = inputs.to(device), labels.to(device)\n",
    "\n",
    "            optimizer.zero_grad()\n",
    "            outputs = model(inputs)\n",
    "            loss = criterion(outputs, labels)\n",
    "            loss.backward()\n",
    "            optimizer.step()\n",
    "\n",
    "            batch_train_losses.append(loss.item())\n",
    "\n",
    "        train_loss = sum(batch_train_losses) / len(batch_train_losses)\n",
    "        train_losses.append(train_loss)\n",
    "\n",
    "        val_loss, val_acc = evaluate(model, val_loader, criterion, device)\n",
    "        val_losses.append(val_loss)\n",
    "\n",
    "        print(\n",
    "            f\"EPOCH {epoch + 1}:\\tTrain loss: {train_loss:.4f}\\tVal loss: {val_loss:.4f}\"\n",
    "        )\n",
    "\n",
    "    return train_losses, val_losses"
   ]
  },
  {
   "cell_type": "code",
   "execution_count": null,
   "metadata": {},
   "outputs": [],
   "source": []
  },
  {
   "cell_type": "code",
   "execution_count": 17,
   "metadata": {},
   "outputs": [
    {
     "name": "stdout",
     "output_type": "stream",
     "text": [
      "EPOCH 1:\tTrain loss: 125.6110\tVal loss: 40.0632\n",
      "EPOCH 2:\tTrain loss: 29.6635\tVal loss: 7.5205\n",
      "EPOCH 3:\tTrain loss: 16.1789\tVal loss: 3.6744\n",
      "EPOCH 4:\tTrain loss: 13.1660\tVal loss: 2.8986\n",
      "EPOCH 5:\tTrain loss: 11.6732\tVal loss: 2.0154\n",
      "EPOCH 6:\tTrain loss: 10.5726\tVal loss: 1.9575\n",
      "EPOCH 7:\tTrain loss: 10.0353\tVal loss: 2.3740\n",
      "EPOCH 8:\tTrain loss: 9.7876\tVal loss: 1.8620\n",
      "EPOCH 9:\tTrain loss: 9.3519\tVal loss: 1.7614\n",
      "EPOCH 10:\tTrain loss: 9.1991\tVal loss: 1.5855\n",
      "EPOCH 11:\tTrain loss: 8.9834\tVal loss: 1.5921\n",
      "EPOCH 12:\tTrain loss: 8.8370\tVal loss: 1.6054\n",
      "EPOCH 13:\tTrain loss: 8.4807\tVal loss: 1.9468\n",
      "EPOCH 14:\tTrain loss: 8.4195\tVal loss: 1.6401\n",
      "EPOCH 15:\tTrain loss: 8.2200\tVal loss: 1.7347\n",
      "EPOCH 16:\tTrain loss: 8.0862\tVal loss: 1.6067\n",
      "EPOCH 17:\tTrain loss: 7.8504\tVal loss: 1.6445\n",
      "EPOCH 18:\tTrain loss: 7.7084\tVal loss: 2.0802\n",
      "EPOCH 19:\tTrain loss: 7.5869\tVal loss: 1.5381\n",
      "EPOCH 20:\tTrain loss: 7.4330\tVal loss: 1.5016\n",
      "EPOCH 21:\tTrain loss: 7.2155\tVal loss: 1.5960\n",
      "EPOCH 22:\tTrain loss: 7.0282\tVal loss: 1.8414\n",
      "EPOCH 23:\tTrain loss: 7.1106\tVal loss: 1.5800\n",
      "EPOCH 24:\tTrain loss: 6.8826\tVal loss: 1.5090\n",
      "EPOCH 25:\tTrain loss: 6.8214\tVal loss: 1.6277\n",
      "EPOCH 26:\tTrain loss: 6.6260\tVal loss: 1.4983\n",
      "EPOCH 27:\tTrain loss: 6.5743\tVal loss: 1.5944\n",
      "EPOCH 28:\tTrain loss: 6.4600\tVal loss: 1.5948\n",
      "EPOCH 29:\tTrain loss: 6.4316\tVal loss: 1.4908\n",
      "EPOCH 30:\tTrain loss: 6.3276\tVal loss: 1.4523\n",
      "EPOCH 31:\tTrain loss: 6.2490\tVal loss: 1.6134\n",
      "EPOCH 32:\tTrain loss: 6.1997\tVal loss: 1.5479\n",
      "EPOCH 33:\tTrain loss: 6.1651\tVal loss: 1.5848\n",
      "EPOCH 34:\tTrain loss: 6.0361\tVal loss: 1.5077\n",
      "EPOCH 35:\tTrain loss: 5.9368\tVal loss: 1.5805\n",
      "EPOCH 36:\tTrain loss: 5.8411\tVal loss: 1.5757\n",
      "EPOCH 37:\tTrain loss: 5.9546\tVal loss: 1.7040\n",
      "EPOCH 38:\tTrain loss: 5.8628\tVal loss: 1.5819\n",
      "EPOCH 39:\tTrain loss: 5.8709\tVal loss: 1.5745\n",
      "EPOCH 40:\tTrain loss: 5.8483\tVal loss: 1.8156\n",
      "EPOCH 41:\tTrain loss: 5.8039\tVal loss: 1.5391\n",
      "EPOCH 42:\tTrain loss: 5.7855\tVal loss: 1.5418\n",
      "EPOCH 43:\tTrain loss: 5.7707\tVal loss: 1.5743\n",
      "EPOCH 44:\tTrain loss: 5.6835\tVal loss: 1.5692\n",
      "EPOCH 45:\tTrain loss: 5.6760\tVal loss: 1.5295\n",
      "EPOCH 46:\tTrain loss: 5.6073\tVal loss: 1.5407\n",
      "EPOCH 47:\tTrain loss: 5.6482\tVal loss: 1.4986\n",
      "EPOCH 48:\tTrain loss: 5.5827\tVal loss: 1.7810\n",
      "EPOCH 49:\tTrain loss: 5.5905\tVal loss: 1.4920\n",
      "EPOCH 50:\tTrain loss: 5.5364\tVal loss: 1.5709\n"
     ]
    }
   ],
   "source": [
    "train_losses, val_losses = fit(\n",
    "    model,\n",
    "    train_loader,\n",
    "    val_loader,\n",
    "    criterion,\n",
    "    optimizer,\n",
    "    device,\n",
    "    n_epochs\n",
    ")"
   ]
  },
  {
   "cell_type": "code",
   "execution_count": 18,
   "metadata": {},
   "outputs": [
    {
     "data": {
      "image/png": "[encoded data removed]",
      "text/plain": [
       "<Figure size 640x480 with 1 Axes>"
      ]
     },
     "metadata": {},
     "output_type": "display_data"
    }
   ],
   "source": [
    "# plot losses\n",
    "plt.plot(train_losses, label=\"train loss\")\n",
    "plt.plot(val_losses, label=\"val loss\")\n",
    "plt.legend()\n",
    "plt.show()"
   ]
  },
  {
   "cell_type": "code",
   "execution_count": 19,
   "metadata": {},
   "outputs": [
    {
     "name": "stdout",
     "output_type": "stream",
     "text": [
      "Evaluation on val/test dataset\n",
      "Val accuracy: 0.005391394504924832\n",
      "Test accuracy: 0.006639692914202718\n"
     ]
    }
   ],
   "source": [
    "val_loss, val_acc = evaluate(model, val_loader, criterion, device)\n",
    "test_loss, test_acc = evaluate(model, test_loader, criterion, device)\n",
    "\n",
    "print(\"Evaluation on val/test dataset\")\n",
    "print(\"Val accuracy:\", val_acc)\n",
    "print(\"Test accuracy:\", test_acc)"
   ]
  },
  {
   "cell_type": "code",
   "execution_count": null,
   "metadata": {},
   "outputs": [],
   "source": []
  },
  {
   "cell_type": "code",
   "execution_count": 20,
   "metadata": {},
   "outputs": [
    {
     "data": {
      "image/png": "[encoded data removed]",
      "text/plain": [
       "<Figure size 2000x600 with 1 Axes>"
      ]
     },
     "metadata": {},
     "output_type": "display_data"
    }
   ],
   "source": [
    "def plot_difference(y, pred):\n",
    "    plt.figure(figsize=(20, 6))\n",
    "    times = range(len(y))\n",
    "    y_to_plot = y.flatten()\n",
    "    pred_to_plot = pred.flatten()\n",
    "\n",
    "    plt.plot(times, y_to_plot, color='steelblue', marker='o', label='True value')\n",
    "    plt.plot(times, pred_to_plot, color='orangered', marker='X', label='Prediction')\n",
    "\n",
    "    plt.title('Temperature in every hours')\n",
    "    plt.xlabel('Hour')\n",
    "    plt.ylabel('Temperature (C)')\n",
    "    plt.legend()\n",
    "    plt.show()\n",
    "\n",
    "inputs = torch.tensor(X_test[:100], dtype=torch.float32).to(device)\n",
    "model.eval()\n",
    "with torch.no_grad():\n",
    "    outputs = model(inputs).detach().cpu().numpy()\n",
    "plot_difference(y_test[:100], outputs)"
   ]
  },
  {
   "cell_type": "code",
   "execution_count": null,
   "metadata": {},
   "outputs": [],
   "source": []
  },
  {
   "cell_type": "code",
   "execution_count": null,
   "metadata": {},
   "outputs": [],
   "source": []
  },
  {
   "cell_type": "code",
   "execution_count": null,
   "metadata": {},
   "outputs": [],
   "source": []
  }
 ],
 "metadata": {
  "kernelspec": {
   "display_name": "aio2024-homework",
   "language": "python",
   "name": "python3"
  },
  "language_info": {
   "codemirror_mode": {
    "name": "ipython",
    "version": 3
   },
   "file_extension": ".py",
   "mimetype": "text/x-python",
   "name": "python",
   "nbconvert_exporter": "python",
   "pygments_lexer": "ipython3",
   "version": "3.9.19"
  }
 },
 "nbformat": 4,
 "nbformat_minor": 2
}
