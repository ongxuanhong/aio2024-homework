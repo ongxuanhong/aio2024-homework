{
 "cells": [
  {
   "cell_type": "markdown",
   "id": "a5718c35",
   "metadata": {},
   "source": [
    "## **1. Import libraries**"
   ]
  },
  {
   "cell_type": "code",
   "execution_count": 1,
   "id": "7313d0fe",
   "metadata": {},
   "outputs": [],
   "source": [
    "import json\n",
    "import os\n",
    "\n",
    "os.environ[\"CUDA_VISIBLE_DEVICES\"] = \"0\"\n",
    "import torch\n",
    "from transformers import pipeline\n",
    "\n",
    "\n",
    "def set_seed(seed):\n",
    "    torch.manual_seed(seed)\n",
    "    torch.cuda.manual_seed_all(seed)\n",
    "    torch.backends.cudnn.deterministic = True\n",
    "    torch.backends.cudnn.benchmark = False\n",
    "\n",
    "\n",
    "set_seed(42)"
   ]
  },
  {
   "cell_type": "markdown",
   "id": "1029e2a4",
   "metadata": {},
   "source": [
    "## **2. Load dataset**"
   ]
  },
  {
   "cell_type": "code",
   "execution_count": 2,
   "id": "92f933e8",
   "metadata": {},
   "outputs": [],
   "source": [
    "math_dataset = \"/mnt/VLAI_data/MATH-500/test.jsonl\"\n",
    "\n",
    "with open(math_dataset, \"r\") as f:\n",
    "    data = [json.loads(line) for line in f]"
   ]
  },
  {
   "cell_type": "markdown",
   "id": "79cf1bca",
   "metadata": {},
   "source": [
    "## **3. Load Model**"
   ]
  },
  {
   "cell_type": "code",
   "execution_count": 3,
   "id": "57b681ed",
   "metadata": {},
   "outputs": [
    {
     "data": {
      "application/vnd.jupyter.widget-view+json": {
       "model_id": "7ce16ea170ba4c65b1405b5a6e3b71fc",
       "version_major": 2,
       "version_minor": 0
      },
      "text/plain": [
       "Loading checkpoint shards:   0%|          | 0/2 [00:00<?, ?it/s]"
      ]
     },
     "metadata": {},
     "output_type": "display_data"
    },
    {
     "name": "stderr",
     "output_type": "stream",
     "text": [
      "Device set to use cuda:0\n"
     ]
    }
   ],
   "source": [
    "model_id = \"meta-llama/Llama-3.2-3B-Instruct\"\n",
    "pipe = pipeline(\n",
    "    \"text-generation\",\n",
    "    model=model_id,\n",
    "    torch_dtype=torch.bfloat16,\n",
    "    device_map=\"auto\",\n",
    ")"
   ]
  },
  {
   "cell_type": "markdown",
   "id": "11d73b2c",
   "metadata": {},
   "source": [
    "## **4. Inference**\n",
    "\n",
    "#### Normal prompt"
   ]
  },
  {
   "cell_type": "code",
   "execution_count": 4,
   "id": "94653056",
   "metadata": {},
   "outputs": [
    {
     "name": "stderr",
     "output_type": "stream",
     "text": [
      "Setting `pad_token_id` to `eos_token_id`:128001 for open-end generation.\n"
     ]
    },
    {
     "name": "stdout",
     "output_type": "stream",
     "text": [
      "Problem: What is the smallest positive perfect cube that can be written as the sum of three consecutive integers?\n",
      "Answer: 1008\n"
     ]
    }
   ],
   "source": [
    "question = data[6][\"problem\"]\n",
    "\n",
    "system_prompt = \"\"\"You will be given a math problem and need to provide a concise factoid answer in Markdown format.\n",
    "Answer in the form: `Answer: <answer>`. The answer must be a single number or a mathematical expression.\"\"\"\n",
    "\n",
    "messages = [\n",
    "    {\"role\": \"system\", \"content\": system_prompt},\n",
    "    {\"role\": \"user\", \"content\": f\"Problem: {question}\"},\n",
    "]\n",
    "\n",
    "outputs = pipe(\n",
    "    messages,\n",
    "    max_new_tokens=100,\n",
    ")\n",
    "print(f\"Problem: {question}\")\n",
    "print(outputs[0][\"generated_text\"][-1][\"content\"].strip())"
   ]
  },
  {
   "cell_type": "markdown",
   "id": "c045a95b",
   "metadata": {},
   "source": [
    "#### Chain-of-Thought Prompting"
   ]
  },
  {
   "cell_type": "code",
   "execution_count": 5,
   "id": "98d6a65e",
   "metadata": {},
   "outputs": [
    {
     "name": "stderr",
     "output_type": "stream",
     "text": [
      "/home/binhdt/.local/lib/python3.10/site-packages/transformers/generation/configuration_utils.py:631: UserWarning: `do_sample` is set to `False`. However, `temperature` is set to `0.6` -- this flag is only used in sample-based generation modes. You should set `do_sample=True` or unset `temperature`.\n",
      "  warnings.warn(\n",
      "/home/binhdt/.local/lib/python3.10/site-packages/transformers/generation/configuration_utils.py:636: UserWarning: `do_sample` is set to `False`. However, `top_p` is set to `0.9` -- this flag is only used in sample-based generation modes. You should set `do_sample=True` or unset `top_p`.\n",
      "  warnings.warn(\n",
      "Setting `pad_token_id` to `eos_token_id`:128001 for open-end generation.\n"
     ]
    },
    {
     "name": "stdout",
     "output_type": "stream",
     "text": [
      "Problem: What is the smallest positive perfect cube that can be written as the sum of three consecutive integers?\n",
      "To solve this problem, let's consider the general form of three consecutive integers: n, n+1, and n+2.\n",
      "\n",
      "We want to find the smallest positive perfect cube that can be written as the sum of these three consecutive integers. \n",
      "\n",
      "The sum of the three consecutive integers is: n + (n+1) + (n+2) = 3n + 3.\n",
      "\n",
      "We need to find the smallest positive integer n such that 3n + 3 is a perfect cube.\n",
      "\n",
      "Let's try to find the smallest perfect cube that can be written in the form 3n + 3.\n",
      "\n",
      "We can start by listing some perfect cubes: 1, 8, 27, 64, 125,...\n",
      "\n",
      "We can see that 27 = 3(3) + 3, which is in the form 3n + 3.\n",
      "\n",
      "However, we need to check if 27 is the smallest perfect cube that can be written in this form.\n",
      "\n",
      "Let's check the previous perfect cube, which is 8. We can see that 8 = 3(1) + 5, which is not in the form 3n + 3.\n",
      "\n",
      "Therefore, 27 is indeed the smallest positive perfect cube that can be written as the sum of three consecutive integers.\n",
      "\n",
      "Answer: 27\n"
     ]
    }
   ],
   "source": [
    "system_prompt_cot = \"\"\"You will be given a math problem. Think step by step to solve it and showing your intermediate reasoning. \n",
    "Answer in the form: `Answer: <single number or expression>`.\"\"\"\n",
    "\n",
    "messages = [\n",
    "    {\"role\": \"system\", \"content\": system_prompt_cot},\n",
    "    {\"role\": \"user\", \"content\": f\"Problem: {question}\"},\n",
    "]\n",
    "out = pipe(messages, max_new_tokens=2000, do_sample=False)\n",
    "\n",
    "print(f\"Problem: {question}\")\n",
    "print(out[0][\"generated_text\"][-1][\"content\"].strip())"
   ]
  },
  {
   "cell_type": "markdown",
   "id": "f320b3bd",
   "metadata": {},
   "source": [
    "#### Tree-of-Thought Prompting"
   ]
  },
  {
   "cell_type": "code",
   "execution_count": 6,
   "id": "1204ac86",
   "metadata": {},
   "outputs": [
    {
     "name": "stderr",
     "output_type": "stream",
     "text": [
      "Setting `pad_token_id` to `eos_token_id`:128001 for open-end generation.\n"
     ]
    },
    {
     "name": "stdout",
     "output_type": "stream",
     "text": [
      "Problem: What is the smallest positive perfect cube that can be written as the sum of three consecutive integers?\n",
      "**Expert 1: Math Teacher**\n",
      "\n",
      "Step 1: To find the smallest positive perfect cube that can be written as the sum of three consecutive integers, let's consider the general form of three consecutive integers: n, n+1, and n+2. The sum of these integers is 3n + 3.\n",
      "\n",
      "Now, we need to find a perfect cube that can be expressed in the form 3n + 3. Let's start by trying to find the smallest perfect cube that is greater than 3.\n",
      "\n",
      "Step 2: The smallest perfect cube greater than 3 is 8. We can check if 8 can be expressed in the form 3n + 3. However, 8 cannot be written in this form.\n",
      "\n",
      "Next, we'll try the next perfect cube, which is 27.\n",
      "\n",
      "Step 3: We can check if 27 can be expressed in the form 3n + 3. Since 27 = 3(9), we can see that 27 can be written as the sum of three consecutive integers: 9, 10, and 11.\n",
      "\n",
      "Therefore, the smallest positive perfect cube that can be written as the sum of three consecutive integers is 27.\n",
      "\n",
      "**Expert 2: Number Theorist**\n",
      "\n",
      "Step 1: Let's consider the properties of perfect cubes and consecutive integers. A perfect cube can be expressed in the form x^3, where x is an integer. A sum of three consecutive integers can be expressed in the form 3n + 3, where n is an integer.\n",
      "\n",
      "Step 2: We can rewrite the sum of three consecutive integers as 3n + 3 = 3(n + 1). This shows that the sum of three consecutive integers is always a multiple of 3.\n",
      "\n",
      "Step 3: Since a perfect cube is always a multiple of 3^3 = 27, we can conclude that the smallest positive perfect cube that can be written as the sum of three consecutive integers must be a multiple of 27.\n",
      "\n",
      "Next, we'll try to find the smallest multiple of 27 that can be expressed in the form 3n + 3.\n",
      "\n",
      "Step 4: We can start by trying n = 1. Then, 3n + 3 = 3(1) + 3 = 6, which is not a multiple of 27.\n",
      "\n",
      "Next, we'll try n = 2. Then, 3n + 3 = 3(2) + 3 = 9, which is not a multiple of 27.\n",
      "\n",
      "Next, we'll try n = 3. Then, 3n + 3 = 3(3) + 3 = 12, which is not a multiple of 27.\n",
      "\n",
      "Next, we'll try n = 4. Then, 3n + 3 = 3(4) + 3 = 15, which is not a multiple of 27.\n",
      "\n",
      "Next, we'll try n = 5. Then, 3n + 3 = 3(5) + 3 = 18, which is not a multiple of 27.\n",
      "\n",
      "Next, we'll try n = 6. Then, 3n + 3 = 3(6) + 3 = 21, which is not a multiple of 27.\n",
      "\n",
      "Next, we'll try n = 7. Then, 3n + 3 = 3(7) + 3 = 24, which is not a multiple of 27.\n",
      "\n",
      "Next, we'll try n = 8. Then, 3n + 3 = 3(8) + 3 = 27, which is a multiple of 27.\n",
      "\n",
      "Therefore, the smallest positive perfect cube that can be written as the sum of three consecutive integers is 27.\n",
      "\n",
      "**Expert 3: Computer Scientist**\n",
      "\n",
      "Step 1: To find the smallest positive perfect cube that can be written as the sum of three consecutive integers, we can use a brute-force approach. We can generate all possible sums of three consecutive integers and check if they are perfect cubes.\n",
      "\n",
      "Step 2: We can start by generating the first few sums of three consecutive integers: 1 + 2 + 3 = 6, 2 + 3 + 4 = 9, 3 + 4 + 5 = 12,...\n",
      "\n",
      "Step 3: We can then check if each sum is a perfect cube. We can use a function to check if a number is a perfect cube.\n",
      "\n",
      "```python\n",
      "import math\n",
      "\n",
      "def is_perfect_cube(n):\n",
      "    return round(n ** (1. / 3)) ** 3 == n\n",
      "\n",
      "# Generate the first few sums of three consecutive integers\n",
      "sums = [i + (i + 1) + (i + 2) for i in range(100)]\n",
      "\n",
      "# Check if each sum is a perfect cube\n",
      "for s in sums:\n",
      "    if is_perfect_cube(s):\n",
      "        print(s)\n",
      "        break\n",
      "```\n",
      "\n",
      "Step 4: We can run the code and find that the smallest positive perfect cube that can be written as the sum of three consecutive integers is indeed 27.\n",
      "\n",
      "All experts agree that the smallest positive perfect cube that can be written as the sum of three consecutive integers is 27.\n"
     ]
    }
   ],
   "source": [
    "prompt_tree = f\"\"\"\n",
    "Imagine three different experts are independently solving this question.\n",
    "All experts will write down 1 step of their thinking, then share it with the group.\n",
    "Then all experts will go on to the next step, etc. \n",
    "If any expert realises they're wrong at any point then they leave.\"\"\"\n",
    "\n",
    "\n",
    "messages = [\n",
    "    {\"role\": \"system\", \"content\": prompt_tree},\n",
    "    {\"role\": \"user\", \"content\": f\"The question is: {question}\"},\n",
    "]\n",
    "out = pipe(messages, max_new_tokens=2000, do_sample=False)\n",
    "\n",
    "print(f\"Problem: {question}\")\n",
    "print(out[0][\"generated_text\"][-1][\"content\"].strip())"
   ]
  },
  {
   "cell_type": "code",
   "execution_count": 7,
   "id": "b13463ef",
   "metadata": {},
   "outputs": [
    {
     "name": "stderr",
     "output_type": "stream",
     "text": [
      "Setting `pad_token_id` to `eos_token_id`:128001 for open-end generation.\n",
      "Setting `pad_token_id` to `eos_token_id`:128001 for open-end generation.\n"
     ]
    },
    {
     "name": "stdout",
     "output_type": "stream",
     "text": [
      "====================Sample 1====================\n",
      "Answer: 27\n"
     ]
    },
    {
     "name": "stderr",
     "output_type": "stream",
     "text": [
      "Setting `pad_token_id` to `eos_token_id`:128001 for open-end generation.\n"
     ]
    },
    {
     "name": "stdout",
     "output_type": "stream",
     "text": [
      "====================Sample 2====================\n",
      "Answer: 9\n"
     ]
    },
    {
     "name": "stderr",
     "output_type": "stream",
     "text": [
      "Setting `pad_token_id` to `eos_token_id`:128001 for open-end generation.\n"
     ]
    },
    {
     "name": "stdout",
     "output_type": "stream",
     "text": [
      "====================Sample 3====================\n",
      "Answer: 27\n"
     ]
    },
    {
     "name": "stderr",
     "output_type": "stream",
     "text": [
      "Setting `pad_token_id` to `eos_token_id`:128001 for open-end generation.\n"
     ]
    },
    {
     "name": "stdout",
     "output_type": "stream",
     "text": [
      "====================Sample 4====================\n",
      "Answer: 216\n"
     ]
    },
    {
     "name": "stderr",
     "output_type": "stream",
     "text": [
      "Setting `pad_token_id` to `eos_token_id`:128001 for open-end generation.\n"
     ]
    },
    {
     "name": "stdout",
     "output_type": "stream",
     "text": [
      "====================Sample 5====================\n",
      "Answer: 1\n"
     ]
    },
    {
     "name": "stderr",
     "output_type": "stream",
     "text": [
      "Setting `pad_token_id` to `eos_token_id`:128001 for open-end generation.\n"
     ]
    },
    {
     "name": "stdout",
     "output_type": "stream",
     "text": [
      "====================Sample 6====================\n",
      "Answer: 27\n"
     ]
    },
    {
     "name": "stderr",
     "output_type": "stream",
     "text": [
      "You seem to be using the pipelines sequentially on GPU. In order to maximize efficiency please use a dataset\n",
      "Setting `pad_token_id` to `eos_token_id`:128001 for open-end generation.\n"
     ]
    },
    {
     "name": "stdout",
     "output_type": "stream",
     "text": [
      "====================Sample 7====================\n",
      "Answer: 64\n"
     ]
    },
    {
     "name": "stderr",
     "output_type": "stream",
     "text": [
      "Setting `pad_token_id` to `eos_token_id`:128001 for open-end generation.\n"
     ]
    },
    {
     "name": "stdout",
     "output_type": "stream",
     "text": [
      "====================Sample 8====================\n",
      "Answer: 93\n"
     ]
    },
    {
     "name": "stderr",
     "output_type": "stream",
     "text": [
      "Setting `pad_token_id` to `eos_token_id`:128001 for open-end generation.\n"
     ]
    },
    {
     "name": "stdout",
     "output_type": "stream",
     "text": [
      "====================Sample 9====================\n",
      "Answer: \n",
      "====================Sample 10====================\n",
      "Answer: 512\n",
      "Problem: What is the smallest positive perfect cube that can be written as the sum of three consecutive integers?\n",
      "Final (self-consistent) Answer: 27\n"
     ]
    }
   ],
   "source": [
    "from collections import Counter\n",
    "import re\n",
    "\n",
    "system_prompt_sc = \"\"\"You will be given a math problem. Think step by step to solve it and showing your intermediate reasoning. \n",
    "Answer in the form: `Answer: <single number or expression>`\"\"\"\n",
    "\n",
    "\n",
    "answers = []\n",
    "samples = 10\n",
    "for _ in range(samples):\n",
    "    messages = [\n",
    "        {\"role\": \"system\", \"content\": system_prompt_sc},\n",
    "        {\"role\": \"user\", \"content\": f\"Problem: {question}\"},\n",
    "    ]\n",
    "    out = pipe(messages, max_new_tokens=2000, do_sample=True)\n",
    "    text = out[0][\"generated_text\"][-1][\"content\"].strip()\n",
    "    if \"Answer:\" in text:\n",
    "        ans = text.split(\"Answer:\")[-1].strip().split()[0]\n",
    "    else:\n",
    "        ans = text.split()[-1]\n",
    "        ans = re.sub(r\"[^0-9]+\", \"\", ans)\n",
    "\n",
    "    print(\"=\" * 20 + f\"Sample {_+1}\" + \"=\" * 20)\n",
    "    print(f\"Answer: {ans}\")\n",
    "    answers.append(ans)\n",
    "\n",
    "final = Counter(answers).most_common(1)[0][0]\n",
    "print(f\"Problem: {question}\")\n",
    "print(f\"Final (self-consistent) Answer: {final}\")"
   ]
  }
 ],
 "metadata": {
  "kernelspec": {
   "display_name": "reasoning_env",
   "language": "python",
   "name": "python3"
  },
  "language_info": {
   "codemirror_mode": {
    "name": "ipython",
    "version": 3
   },
   "file_extension": ".py",
   "mimetype": "text/x-python",
   "name": "python",
   "nbconvert_exporter": "python",
   "pygments_lexer": "ipython3",
   "version": "3.10.16"
  }
 },
 "nbformat": 4,
 "nbformat_minor": 5
}
