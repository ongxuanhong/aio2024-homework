{
 "cells": [
  {
   "cell_type": "code",
   "execution_count": null,
   "metadata": {
    "colab": {
     "base_uri": "https://localhost:8080/"
    },
    "executionInfo": {
     "elapsed": 7894,
     "status": "ok",
     "timestamp": 1746846053639,
     "user": {
      "displayName": "Thái Nguyễn Quốc",
      "userId": "04072932238722635186"
     },
     "user_tz": -420
    },
    "id": "z1Yas4kvwh5G",
    "outputId": "db0f8108-9a5b-47d1-dc23-47f38a7ce32d"
   },
   "outputs": [],
   "source": [
    "!pip install -U langchain==0.3.24 langchain-openai==0.3.14 langgraph==0.3.33 langchain-tavily==0.1.6"
   ]
  },
  {
   "cell_type": "code",
   "execution_count": 68,
   "metadata": {
    "executionInfo": {
     "elapsed": 15,
     "status": "ok",
     "timestamp": 1746846043114,
     "user": {
      "displayName": "Thái Nguyễn Quốc",
      "userId": "04072932238722635186"
     },
     "user_tz": -420
    },
    "id": "ImHVUlXUwq4_"
   },
   "outputs": [],
   "source": [
    "import os\n",
    "os.environ[\"LANGCHAIN_API_KEY\"] = ### Your-key\n",
    "os.environ[\"LANGCHAIN_PROJECT\"] = \"Reasoning-Agent\"\n",
    "os.environ[\"LANGCHAIN_TRACING_V2\"] = \"true\"\n",
    "os.environ[\"TAVILY_API_KEY\"] = ### Your-key\n",
    "os.environ[\"OPENAI_API_KEY\"] = ### Your-key"
   ]
  },
  {
   "cell_type": "markdown",
   "metadata": {
    "id": "_-Ebk311-Pe3"
   },
   "source": [
    "# **Refection Agent**"
   ]
  },
  {
   "cell_type": "code",
   "execution_count": 127,
   "metadata": {
    "colab": {
     "base_uri": "https://localhost:8080/"
    },
    "executionInfo": {
     "elapsed": 1999,
     "status": "ok",
     "timestamp": 1746855941012,
     "user": {
      "displayName": "Thái Nguyễn Quốc",
      "userId": "04072932238722635186"
     },
     "user_tz": -420
    },
    "id": "4b9phArUBgpm",
    "outputId": "590d981c-006e-4535-fe68-e93b001358ed"
   },
   "outputs": [
    {
     "data": {
      "text/plain": [
       "{'messages': [HumanMessage(content='what is the weather in Vietnam?', additional_kwargs={}, response_metadata={}, id='3a3de624-b9cf-4c13-9839-83137356c263'),\n",
       "  AIMessage(content='', additional_kwargs={'tool_calls': [{'id': 'call_OMX1ai4ju4DuDSY0q8MMajpv', 'function': {'arguments': '{\"city\":\"Vietnam\"}', 'name': 'get_weather'}, 'type': 'function'}], 'refusal': None}, response_metadata={'token_usage': {'completion_tokens': 15, 'prompt_tokens': 57, 'total_tokens': 72, 'completion_tokens_details': {'accepted_prediction_tokens': 0, 'audio_tokens': 0, 'reasoning_tokens': 0, 'rejected_prediction_tokens': 0}, 'prompt_tokens_details': {'audio_tokens': 0, 'cached_tokens': 0}}, 'model_name': 'gpt-4.1-nano-2025-04-14', 'system_fingerprint': 'fp_eede8f0d45', 'id': 'chatcmpl-BVXJjhc8oGKRwttfM0pJmlveEifDY', 'finish_reason': 'tool_calls', 'logprobs': None}, id='run--8adf8a68-0a99-4918-9b49-fa24fe65fbf3-0', tool_calls=[{'name': 'get_weather', 'args': {'city': 'Vietnam'}, 'id': 'call_OMX1ai4ju4DuDSY0q8MMajpv', 'type': 'tool_call'}], usage_metadata={'input_tokens': 57, 'output_tokens': 15, 'total_tokens': 72, 'input_token_details': {'audio': 0, 'cache_read': 0}, 'output_token_details': {'audio': 0, 'reasoning': 0}}),\n",
       "  ToolMessage(content=\"It's always sunny in Vietnam!\", name='get_weather', id='bd81e751-f41b-4ac1-adee-f337b452343b', tool_call_id='call_OMX1ai4ju4DuDSY0q8MMajpv'),\n",
       "  AIMessage(content='The current weather in Vietnam is sunny.', additional_kwargs={'refusal': None}, response_metadata={'token_usage': {'completion_tokens': 10, 'prompt_tokens': 85, 'total_tokens': 95, 'completion_tokens_details': {'accepted_prediction_tokens': 0, 'audio_tokens': 0, 'reasoning_tokens': 0, 'rejected_prediction_tokens': 0}, 'prompt_tokens_details': {'audio_tokens': 0, 'cached_tokens': 0}}, 'model_name': 'gpt-4.1-nano-2025-04-14', 'system_fingerprint': 'fp_eede8f0d45', 'id': 'chatcmpl-BVXJkgYRtxTiuxVa8vBk6UPIQKi2M', 'finish_reason': 'stop', 'logprobs': None}, id='run--77a1409d-0cd0-4a9a-b9e1-7551a511970a-0', usage_metadata={'input_tokens': 85, 'output_tokens': 10, 'total_tokens': 95, 'input_token_details': {'audio': 0, 'cache_read': 0}, 'output_token_details': {'audio': 0, 'reasoning': 0}})]}"
      ]
     },
     "execution_count": 127,
     "metadata": {},
     "output_type": "execute_result"
    }
   ],
   "source": [
    "from langgraph.prebuilt import create_react_agent\n",
    "\n",
    "def get_weather(city: str) -> str:\n",
    "    \"\"\"Get weather for a given city.\"\"\"\n",
    "    return f\"It's always sunny in {city}!\"\n",
    "\n",
    "agent = create_react_agent(\n",
    "    model=\"gpt-4.1-nano\",\n",
    "    tools=[get_weather],\n",
    "    prompt=\"You are a helpful assistant\"\n",
    ")\n",
    "\n",
    "# Run the agent\n",
    "agent.invoke(\n",
    "    {\"messages\": [{\"role\": \"user\", \"content\": \"what is the weather in Vietnam?\"}]}\n",
    ")"
   ]
  },
  {
   "cell_type": "markdown",
   "metadata": {
    "id": "zsj4_N1hx4_t"
   },
   "source": [
    "## **Generate**"
   ]
  },
  {
   "cell_type": "code",
   "execution_count": 32,
   "metadata": {
    "executionInfo": {
     "elapsed": 387,
     "status": "ok",
     "timestamp": 1746808240472,
     "user": {
      "displayName": "Thái Nguyễn Quốc",
      "userId": "04072932238722635186"
     },
     "user_tz": -420
    },
    "id": "dbz1JIIcxyN0"
   },
   "outputs": [],
   "source": [
    "from langchain_core.prompts import ChatPromptTemplate, MessagesPlaceholder\n",
    "from langchain_core.messages import AIMessage, HumanMessage\n",
    "from langchain_openai import ChatOpenAI\n",
    "\n",
    "generation_prompt = ChatPromptTemplate.from_messages(\n",
    "    [\n",
    "        (\n",
    "            \"system\",\n",
    "            \"You are a twitter techie influencer assistant tasked with writing excellent twitter posts.\"\n",
    "            \" Generate the best twitter post possible for the user's request.\"\n",
    "            \" If the user provides critique, respond with a revised version of your previous attempts.\",\n",
    "        ),\n",
    "        MessagesPlaceholder(variable_name=\"messages\"),\n",
    "    ]\n",
    ")\n",
    "\n",
    "llm = ChatOpenAI(model=\"gpt-4.1-nano\")\n",
    "generate_chain = generation_prompt | llm"
   ]
  },
  {
   "cell_type": "code",
   "execution_count": 33,
   "metadata": {
    "colab": {
     "base_uri": "https://localhost:8080/",
     "height": 53
    },
    "executionInfo": {
     "elapsed": 1328,
     "status": "ok",
     "timestamp": 1746808243885,
     "user": {
      "displayName": "Thái Nguyễn Quốc",
      "userId": "04072932238722635186"
     },
     "user_tz": -420
    },
    "id": "XHnUmWqryjci",
    "outputId": "2bc06251-6da3-45d4-b05f-94620563a51b"
   },
   "outputs": [
    {
     "data": {
      "application/vnd.google.colaboratory.intrinsic+json": {
       "type": "string"
      },
      "text/plain": [
       "'✨The Little Prince teaches timeless lessons: see with your heart, value genuine friendships, and nurture curiosity. In a world obsessed with screens, its message reminds kids (and adults) to cherish imagination & kindness. 🌟📖 #Childhood #TheLittlePrince #LifeLessons'"
      ]
     },
     "execution_count": 33,
     "metadata": {},
     "output_type": "execute_result"
    }
   ],
   "source": [
    "request = HumanMessage(\n",
    "    content=\"Write a twitter on why the little prince is relevant in modern childhood\"\n",
    ")\n",
    "response = generate_chain.invoke({\"messages\": [request]})\n",
    "response.content"
   ]
  },
  {
   "cell_type": "markdown",
   "metadata": {
    "id": "yNkkz2gvzFYS"
   },
   "source": [
    "##Reflect"
   ]
  },
  {
   "cell_type": "code",
   "execution_count": 34,
   "metadata": {
    "executionInfo": {
     "elapsed": 8,
     "status": "ok",
     "timestamp": 1746808244188,
     "user": {
      "displayName": "Thái Nguyễn Quốc",
      "userId": "04072932238722635186"
     },
     "user_tz": -420
    },
    "id": "cYYhD77xxeXw"
   },
   "outputs": [],
   "source": [
    "from langchain_core.prompts import ChatPromptTemplate, MessagesPlaceholder\n",
    "from langchain_openai import ChatOpenAI\n",
    "\n",
    "reflection_prompt = ChatPromptTemplate.from_messages(\n",
    "    [\n",
    "        (\n",
    "            \"system\",\n",
    "            \"You are a viral twitter influencer grading a tweet. Generate critique and recommendations for the user's tweet.\"\n",
    "            \"Always provide detailed recommendations, including requests for length, virality, style, etc.\",\n",
    "        ),\n",
    "        MessagesPlaceholder(variable_name=\"messages\"),\n",
    "    ]\n",
    ")\n",
    "\n",
    "reflect_chain = reflection_prompt | llm"
   ]
  },
  {
   "cell_type": "code",
   "execution_count": 35,
   "metadata": {
    "colab": {
     "base_uri": "https://localhost:8080/",
     "height": 161
    },
    "executionInfo": {
     "elapsed": 2969,
     "status": "ok",
     "timestamp": 1746808250721,
     "user": {
      "displayName": "Thái Nguyễn Quốc",
      "userId": "04072932238722635186"
     },
     "user_tz": -420
    },
    "id": "0kA_t1wczT9q",
    "outputId": "74c88869-64e7-4383-dca1-5afa8cc500b3"
   },
   "outputs": [
    {
     "data": {
      "application/vnd.google.colaboratory.intrinsic+json": {
       "type": "string"
      },
      "text/plain": [
       "'Great start! You\\'ve captured the essence of *The Little Prince* and connected it to modern childhood themes effectively. Here are some detailed recommendations to elevate your tweet for maximum impact and virality:\\n\\n1. **Length & Clarity:**  \\n   - Current length is good, but to make it more punchy, consider condensing slightly. Twitter favors brevity, especially if you want more engagement.\\n\\n2. **Hook & Opening:**  \\n   - Start with a compelling hook that instantly captures attention. For example, \"Why is *The Little Prince* still a must-read for kids today?\"\\n\\n3. **Emphasize Virality & Shareability:**  \\n   - Incorporate a relatable or provocative question or statement to evoke emotional responses or curiosity.  \\n   - For instance, referencing a common modern dilemma can spark connection: \"In a world overwhelmed by screens, does *The Little Prince* hold the key to childhood innocence?\"\\n\\n4. **Style & Tone:**  \\n   - Use poetic or metaphorical language to match the whimsical and profound tone of the book.  \\n   - Consider using an emoji or two in strategic places for visual appeal but avoid overuse.\\n\\n5. **Hashtags & Engagement:**  \\n   - Use trending or more specific hashtags (#Childhood, #LifeLessons, #Literature for Kids) to increase visibility.  \\n   - Add a call to action such as \"Share if you agree!\" or pose a question at the end to boost engagement.\\n\\n6. **Suggested Revision:**  \\nHere\\'s a revised version incorporating these points:\\n\\n---\\n\\n**Why is *The Little Prince* still vital for kids today?**  \\nBecause in a world obsessed with screens, it reminds us that true treasures are seen with the heart—genuine friendship, curiosity, kindness. 🌟✨  \\nDoes childhood need more imagination? Share your thoughts! #Childhood #LifeLessons #TheLittlePrince\\n\\n---\\n\\nWould you like me to help craft a series of tweets for a thread? Or suggest visual elements to pair with your message?'"
      ]
     },
     "execution_count": 35,
     "metadata": {},
     "output_type": "execute_result"
    }
   ],
   "source": [
    "reflected_response = reflect_chain.invoke({\"messages\": [request, HumanMessage(content=response.content)]})\n",
    "reflected_response.content"
   ]
  },
  {
   "cell_type": "markdown",
   "metadata": {
    "id": "Po7M_7dyzy1K"
   },
   "source": [
    "## Repeat"
   ]
  },
  {
   "cell_type": "code",
   "execution_count": 36,
   "metadata": {
    "colab": {
     "base_uri": "https://localhost:8080/",
     "height": 161
    },
    "executionInfo": {
     "elapsed": 2148,
     "status": "ok",
     "timestamp": 1746808252871,
     "user": {
      "displayName": "Thái Nguyễn Quốc",
      "userId": "04072932238722635186"
     },
     "user_tz": -420
    },
    "id": "tR5k3U6IzMnJ",
    "outputId": "360ce54d-7445-4971-969b-46632badffe7"
   },
   "outputs": [
    {
     "data": {
      "application/vnd.google.colaboratory.intrinsic+json": {
       "type": "string"
      },
      "text/plain": [
       "'Absolutely, your initial tweet has a solid foundation! To maximize reach, consider making it more engaging and concise. Here are some specific suggestions:\\n\\n1. **Hook & Opening:**  \\n   Start with a captivating question or statement to immediately grab attention. For example:  \\n   *\"Ever wonder why *The Little Prince* still resonates with kids today?\"*\\n\\n2. **Length & Clarity:**  \\n   Keep your message tight—about 2-3 lines—so it\\'s easily retweeted and appreciated. Use punchy language that emphasizes the core message about timeless lessons and relevance.\\n\\n3. **Virality & Shareability:**  \\n   Incorporate an emotional or provocative element. Asking a question at the end encourages replies and interaction.\\n\\n4. **Tone & Style:**  \\n   Use poetic or evocative language consistent with the book\\'s whimsical tone. Emojis can add visual appeal but should be used sparingly.\\n\\n5. **Hashtags & Engagement:**  \\n   Use targeted hashtags to increase visibility and invite sharing with a call to action.\\n\\n**Here’s a revised tweet example:**  \\n\\n\"Why does *The Little Prince* still teach kids today?  \\nBecause in a tech-driven world, it’s a gentle reminder: true childhood magic lives in curiosity, kindness, and seeing with the heart. 🌟  \\nWhat lesson has this story taught you? #Childhood #LifeLessons #TheLittlePrince\"\\n\\nWould you like help creating a series of tweets or suggestions for accompanying images or videos?'"
      ]
     },
     "execution_count": 36,
     "metadata": {},
     "output_type": "execute_result"
    }
   ],
   "source": [
    "reflected_response = reflect_chain.invoke({\"messages\": [request, AIMessage(content=response.content), HumanMessage(content=reflected_response.content)]})\n",
    "reflected_response.content"
   ]
  },
  {
   "cell_type": "markdown",
   "metadata": {
    "id": "JsMef27t0UEA"
   },
   "source": [
    "## **Graph**"
   ]
  },
  {
   "cell_type": "code",
   "execution_count": 41,
   "metadata": {
    "colab": {
     "base_uri": "https://localhost:8080/"
    },
    "executionInfo": {
     "elapsed": 396,
     "status": "ok",
     "timestamp": 1746808446970,
     "user": {
      "displayName": "Thái Nguyễn Quốc",
      "userId": "04072932238722635186"
     },
     "user_tz": -420
    },
    "id": "LJ_s_a8g0WCy",
    "outputId": "134582af-4b82-4be9-de49-dd4ff5eeb3df"
   },
   "outputs": [
    {
     "name": "stdout",
     "output_type": "stream",
     "text": [
      "          +-----------+            \n",
      "          | __start__ |            \n",
      "          +-----------+            \n",
      "                *                  \n",
      "                *                  \n",
      "                *                  \n",
      "          +----------+             \n",
      "          | generate |             \n",
      "          +----------+             \n",
      "          ...        ***           \n",
      "         .              *          \n",
      "       ..                **        \n",
      "+---------+           +---------+  \n",
      "| __end__ |           | reflect |  \n",
      "+---------+           +---------+  \n"
     ]
    }
   ],
   "source": [
    "from typing import List, Sequence\n",
    "from langchain_core.messages import BaseMessage\n",
    "from langgraph.graph import END, MessageGraph\n",
    "\n",
    "REFLECT = \"reflect\"\n",
    "GENERATE = \"generate\"\n",
    "\n",
    "\n",
    "def generation_node(state: Sequence[BaseMessage]):\n",
    "    return generate_chain.invoke({\"messages\": state})\n",
    "\n",
    "\n",
    "def reflection_node(messages: Sequence[BaseMessage]) -> List[BaseMessage]:\n",
    "    res = reflect_chain.invoke({\"messages\": messages})\n",
    "    return [HumanMessage(content=res.content)]\n",
    "\n",
    "\n",
    "builder = MessageGraph()\n",
    "builder.add_node(GENERATE, generation_node)\n",
    "builder.add_node(REFLECT, reflection_node)\n",
    "builder.set_entry_point(GENERATE)\n",
    "\n",
    "\n",
    "def should_continue(state: List[BaseMessage]):\n",
    "    if len(state) > 6:\n",
    "        return END\n",
    "    return REFLECT\n",
    "\n",
    "\n",
    "builder.add_conditional_edges(\"generate\", should_continue, {END:END, \"reflect\":\"reflect\"})\n",
    "builder.add_edge(REFLECT, GENERATE)\n",
    "graph = builder.compile()\n",
    "graph.get_graph().draw_mermaid_png(output_file_path=\"graph.png\")\n",
    "graph.get_graph().print_ascii()"
   ]
  },
  {
   "cell_type": "code",
   "execution_count": 42,
   "metadata": {
    "colab": {
     "base_uri": "https://localhost:8080/"
    },
    "executionInfo": {
     "elapsed": 11764,
     "status": "ok",
     "timestamp": 1746808461247,
     "user": {
      "displayName": "Thái Nguyễn Quốc",
      "userId": "04072932238722635186"
     },
     "user_tz": -420
    },
    "id": "idT4IrBF2BBf",
    "outputId": "09f7ed15-3cc9-4bcc-ea04-4f0d8d181363"
   },
   "outputs": [
    {
     "data": {
      "text/plain": [
       "[HumanMessage(content='Write a twitter on why the little prince is relevant in modern childhood', additional_kwargs={}, response_metadata={}, id='436e2c31-6d88-4ee2-8c29-14b36fd4514e'),\n",
       " AIMessage(content='🌟 The Little Prince reminds us that curiosity, kindness, and imagination are timeless virtues. In a world dominated by screens, his lessons on seeing with the heart help children understand what truly matters—love, friendship, and wonder. #Childhood #TimelessStories #TheLittlePrince', additional_kwargs={'refusal': None}, response_metadata={'token_usage': {'completion_tokens': 58, 'prompt_tokens': 66, 'total_tokens': 124, 'completion_tokens_details': {'accepted_prediction_tokens': 0, 'audio_tokens': 0, 'reasoning_tokens': 0, 'rejected_prediction_tokens': 0}, 'prompt_tokens_details': {'audio_tokens': 0, 'cached_tokens': 0}}, 'model_name': 'gpt-4.1-nano-2025-04-14', 'system_fingerprint': 'fp_8fd43718b3', 'id': 'chatcmpl-BVKxl7HRR9ypuiGdhxrjuuVxBiIr5', 'service_tier': 'default', 'finish_reason': 'stop', 'logprobs': None}, id='run--3293dcfa-b842-4e2a-9e05-834ec5f2124a-0', usage_metadata={'input_tokens': 66, 'output_tokens': 58, 'total_tokens': 124, 'input_token_details': {'audio': 0, 'cache_read': 0}, 'output_token_details': {'audio': 0, 'reasoning': 0}}),\n",
       " HumanMessage(content='This is a good start! The core message about The Little Prince\\'s relevance is clear and meaningful. However, to maximize impact and virality, here are some detailed recommendations:\\n\\n1. **Length & Depth:**  \\n   Aim for a tweet that\\'s around 180-220 characters — enough to be concise but with enough room to add emotional resonance or a call-to-action. For example, elaborate slightly on *how* his lessons apply today.\\n\\n2. **Hook & Emotional Appeal:**  \\n   Start with a compelling hook that grabs attention. For instance, “In an age of endless screens, one story still teaches children to see with their hearts...”  \\n\\n3. **Style & Tone:**  \\n   Use poetic, evocative language—something that sparks imagination and emotion. Incorporate a quote or a memorable line from the book to increase authenticity and engagement.\\n\\n4. **Virality Factors:**  \\n   Ask a question or include a call-to-action to encourage replies/retweets, e.g., \"What lesson from The Little Prince resonates most with you today?\" or \"Share how you\\'ve seen this timeless wisdom in your child\\'s life.\"\\n\\n5. **Formatting:**  \\n   Break the tweet into 1-2 sentences for readability, or consider a short thread with a punchy opening.\\n\\n**Sample rewrite:**  \\n*In a world obsessed with screens, The Little Prince still whispers that true seeing is with the heart. His magic reminds us—kindness, curiosity, wonder—are eternal. Which lesson from him touches your heart today?* #Childhood #TimelessWisdom\\n\\nWould you like me to craft a full, polished tweet with these ideas?', additional_kwargs={}, response_metadata={}, id='881fb838-6324-4305-a7e1-3869c382cb7f'),\n",
       " AIMessage(content=\"Absolutely! Here's a polished tweet incorporating your feedback:\\n\\n🌟 In a world obsessed with screens, The Little Prince still reminds us: true seeing is with the heart. His timeless lessons on kindness, curiosity, and wonder are vital in shaping modern childhood. Which lesson from him touches your heart today? #Childhood #TimelessWisdom\", additional_kwargs={'refusal': None}, response_metadata={'token_usage': {'completion_tokens': 68, 'prompt_tokens': 461, 'total_tokens': 529, 'completion_tokens_details': {'accepted_prediction_tokens': 0, 'audio_tokens': 0, 'reasoning_tokens': 0, 'rejected_prediction_tokens': 0}, 'prompt_tokens_details': {'audio_tokens': 0, 'cached_tokens': 0}}, 'model_name': 'gpt-4.1-nano-2025-04-14', 'system_fingerprint': 'fp_8fd43718b3', 'id': 'chatcmpl-BVKxoiFg8QX1kcZvqnJv7pdSRz2fi', 'service_tier': 'default', 'finish_reason': 'stop', 'logprobs': None}, id='run--b38b7f40-816d-4d85-9eb5-c19212658eca-0', usage_metadata={'input_tokens': 461, 'output_tokens': 68, 'total_tokens': 529, 'input_token_details': {'audio': 0, 'cache_read': 0}, 'output_token_details': {'audio': 0, 'reasoning': 0}}),\n",
       " HumanMessage(content='Great job capturing the core message! To enhance its impact and virality, consider the following suggestions:\\n\\n1. **Length & Clarity:**  \\n   Keep it concise—aim for around 180 characters—to maximize readability and retweets. Your current one is well within that.\\n\\n2. **Hook & Engagement:**  \\n   Start with a hook that immediately addresses a common experience, like \"In today\\'s digital age,\" or \"While screens dominate today’s childhood,\" to draw attention.\\n\\n3. **Emotional & Poetic Language:**  \\n   Use evocative words to inspire feelings—words like \"whispers,\" \"timeless,\" \"wonder,\" \"heart.\" These create a poetic tone that resonates.\\n\\n4. **Question or Call-to-Action:**  \\n   End with a question to boost engagement: \"Which lesson from him resonates most with you?\" or \"Share your favorite lesson.\"\\n\\n5. **Formatting & Style:**  \\n   Consider breaking into two sentences for better flow, or adding emojis for visual appeal.\\n\\n**Sample revised tweet:**  \\n\"In today\\'s digital age, The Little Prince whispers that real magic is seeing with the heart. His timeless lessons on kindness and wonder are more vital than ever. Which lesson touches your heart most? 🌟 #Childhood #TimelessWisdom\"\\n\\nWould you like a few more variations or a longer thread idea to expand on this?', additional_kwargs={}, response_metadata={}, id='418006e1-6c65-4ac0-abee-3ad13912ec2d'),\n",
       " AIMessage(content=\"Certainly! Here's a slightly more engaging variation with a strong hook and a conversational tone, optimized for impact and virality:\\n\\n---\\n\\nIn today’s digital age, The Little Prince reminds us that true magic is seeing with the heart. His timeless lessons on kindness, wonder, and love are more vital than ever in childhood. Which lesson resonates most with you? 🌟 #Childhood #TimelessWisdom\\n\\n---\\n\\nWould you like me to craft a Twitter thread expanding on different lessons from the book or include a personal anecdote?\", additional_kwargs={'refusal': None}, response_metadata={'token_usage': {'completion_tokens': 106, 'prompt_tokens': 809, 'total_tokens': 915, 'completion_tokens_details': {'accepted_prediction_tokens': 0, 'audio_tokens': 0, 'reasoning_tokens': 0, 'rejected_prediction_tokens': 0}, 'prompt_tokens_details': {'audio_tokens': 0, 'cached_tokens': 0}}, 'model_name': 'gpt-4.1-nano-2025-04-14', 'system_fingerprint': 'fp_8fd43718b3', 'id': 'chatcmpl-BVKxs87IdrwZ2TMMpX6msVNLyLOJo', 'service_tier': 'default', 'finish_reason': 'stop', 'logprobs': None}, id='run--f2615997-fca3-4705-9e51-7037d560290c-0', usage_metadata={'input_tokens': 809, 'output_tokens': 106, 'total_tokens': 915, 'input_token_details': {'audio': 0, 'cache_read': 0}, 'output_token_details': {'audio': 0, 'reasoning': 0}}),\n",
       " HumanMessage(content=\"Great work! To maximize virality and emotional impact, here are some detailed suggestions:\\n\\n- **Hook First:** Start with a compelling hook that directly addresses current challenges in childhood, e.g., “In a world flooded with screens...” or “While children are glued to devices...”\\n\\n- **Emotion & Poetics:** Use evocative, poetic language to evoke feelings—words like “whispers,” “magic,” “timeless,” “heart”—that draw readers in emotionally.\\n\\n- **Engagement & CTA:** End with a question to encourage replies, sharing, or retweets. For example: “What lesson from The Little Prince stays with you?”\\n\\n- **Formatting & Length:** Keep it concise (~180 characters), easy to read, and possibly break into two sentences for rhythm.\\n\\n- **Visuals & Emojis:** Consider adding relevant emojis to boost visual appeal without overdoing it.\\n\\n**Example rewrite:**\\n\\n> While screens dominate childhood today, The Little Prince whispers that real magic is seeing with the heart. His timeless lessons of kindness and wonder are more vital than ever. What's your favorite lesson? 🌟 #Childhood #TimelessWisdom\\n\\nWant me to craft more variations or a longer thread?\", additional_kwargs={}, response_metadata={}, id='e52639a5-2d6d-4b14-a341-4aa62de3aa9d'),\n",
       " AIMessage(content=\"Absolutely! Here are a few more variations inspired by your suggestions, each maintaining emotional depth and designed to maximize engagement:\\n\\n---\\n\\n**Variation 1:**  \\nWhile children are glued to devices, The Little Prince softly reminds us: true beauty and truth are seen with the heart. His timeless lessons of kindness and wonder are more vital than ever. Which lesson stays with you? 🌟 #Childhood #TimelessWisdom\\n\\n**Variation 2:**  \\nIn a world flooded with screens and noise, The Little Prince whispers that real magic lies in seeing with the heart. His timeless wisdom on kindness and curiosity is essential for today's kids. What's your favorite lesson? 💫 #Childhood #Wonder\\n\\n**Variation 3:**  \\nToday’s childhood is digital, but The Little Prince teaches us that the most important things are felt with the heart—kindness, wonder, love. Which lesson from him touches you most? ✨ #Childhood #TimelessWisdom\\n\\nWould you like me to help craft a series of tweets or a thread expanding on key themes from The Little Prince?\", additional_kwargs={'refusal': None}, response_metadata={'token_usage': {'completion_tokens': 218, 'prompt_tokens': 1164, 'total_tokens': 1382, 'completion_tokens_details': {'accepted_prediction_tokens': 0, 'audio_tokens': 0, 'reasoning_tokens': 0, 'rejected_prediction_tokens': 0}, 'prompt_tokens_details': {'audio_tokens': 0, 'cached_tokens': 0}}, 'model_name': 'gpt-4.1-nano-2025-04-14', 'system_fingerprint': 'fp_8fd43718b3', 'id': 'chatcmpl-BVKxvcslff5BSAaXWDC8N1bPyXHqw', 'service_tier': 'default', 'finish_reason': 'stop', 'logprobs': None}, id='run--4c9d277c-f28a-42dc-8dd4-a6aa6693096f-0', usage_metadata={'input_tokens': 1164, 'output_tokens': 218, 'total_tokens': 1382, 'input_token_details': {'audio': 0, 'cache_read': 0}, 'output_token_details': {'audio': 0, 'reasoning': 0}})]"
      ]
     },
     "execution_count": 42,
     "metadata": {},
     "output_type": "execute_result"
    }
   ],
   "source": [
    "request = HumanMessage(\n",
    "    content=\"Write a twitter on why the little prince is relevant in modern childhood\"\n",
    ")\n",
    "response = graph.invoke(request)\n",
    "response"
   ]
  },
  {
   "cell_type": "markdown",
   "metadata": {
    "id": "zHoJghAu-UH7"
   },
   "source": [
    "# **ReAct Agent**"
   ]
  },
  {
   "cell_type": "markdown",
   "metadata": {
    "id": "KCyXCNTIEZoz"
   },
   "source": [
    "## **State**"
   ]
  },
  {
   "cell_type": "code",
   "execution_count": 7,
   "metadata": {
    "executionInfo": {
     "elapsed": 1453,
     "status": "ok",
     "timestamp": 1746842016735,
     "user": {
      "displayName": "Thái Nguyễn Quốc",
      "userId": "04072932238722635186"
     },
     "user_tz": -420
    },
    "id": "kvLnX6j05ZyC"
   },
   "outputs": [],
   "source": [
    "from typing import Annotated,Sequence, TypedDict\n",
    "\n",
    "from langchain_core.messages import BaseMessage\n",
    "from langgraph.graph.message import add_messages\n",
    "\n",
    "class AgentState(TypedDict):\n",
    "    \"\"\"The state of the agent.\"\"\"\n",
    "    messages: Annotated[Sequence[BaseMessage], add_messages]\n",
    "    number_of_steps: int"
   ]
  },
  {
   "cell_type": "markdown",
   "metadata": {
    "id": "kHal0_dHEcMJ"
   },
   "source": [
    "## **Tools**"
   ]
  },
  {
   "cell_type": "code",
   "execution_count": 52,
   "metadata": {
    "executionInfo": {
     "elapsed": 14,
     "status": "ok",
     "timestamp": 1746844781836,
     "user": {
      "displayName": "Thái Nguyễn Quốc",
      "userId": "04072932238722635186"
     },
     "user_tz": -420
    },
    "id": "KVu_VaKK5fLa"
   },
   "outputs": [],
   "source": [
    "from langchain_tavily import TavilySearch\n",
    "from langchain_core.tools import tool\n",
    "\n",
    "@tool\n",
    "def triple(num: float) -> float:\n",
    "    \"\"\"\n",
    "    :param num: a number to triple\n",
    "    :return: the number tripled ->  multiplied by 3\n",
    "    \"\"\"\n",
    "    return 3 * float(num)\n",
    "\n",
    "\n",
    "tools = [TavilySearch(max_results=1), triple]"
   ]
  },
  {
   "cell_type": "code",
   "execution_count": 74,
   "metadata": {
    "executionInfo": {
     "elapsed": 128,
     "status": "ok",
     "timestamp": 1746846158736,
     "user": {
      "displayName": "Thái Nguyễn Quốc",
      "userId": "04072932238722635186"
     },
     "user_tz": -420
    },
    "id": "fwVSEDiFJPZC"
   },
   "outputs": [],
   "source": [
    "model = ChatOpenAI(model=\"gpt-4.1-nano\")"
   ]
  },
  {
   "cell_type": "markdown",
   "metadata": {
    "id": "ViV_YMRvEd3e"
   },
   "source": [
    "## **Agent**"
   ]
  },
  {
   "cell_type": "code",
   "execution_count": 53,
   "metadata": {
    "executionInfo": {
     "elapsed": 14,
     "status": "ok",
     "timestamp": 1746844785104,
     "user": {
      "displayName": "Thái Nguyễn Quốc",
      "userId": "04072932238722635186"
     },
     "user_tz": -420
    },
    "id": "4zqbMhaS55JN"
   },
   "outputs": [],
   "source": [
    "from langchain_core.messages import SystemMessage\n",
    "\n",
    "system_prompt = SystemMessage(\n",
    "\"\"\"\n",
    "You are a reasoning agent. Always think step-by-step.\n",
    "\n",
    "Use the following format:\n",
    "\n",
    "Thought: what you are thinking\n",
    "Action: the action to take, e.g. `search`, `calculate`\n",
    "Action Input: the input to the action\n",
    "Observation: the result of the action\n",
    "\n",
    "(Repeat Thought/Action/Observation if needed)\n",
    "\n",
    "Final Answer: your answer to the user\n",
    "\n",
    "Question: {input}\n",
    "\"\"\"\n",
    ")"
   ]
  },
  {
   "cell_type": "code",
   "execution_count": 54,
   "metadata": {
    "executionInfo": {
     "elapsed": 46,
     "status": "ok",
     "timestamp": 1746844786961,
     "user": {
      "displayName": "Thái Nguyễn Quốc",
      "userId": "04072932238722635186"
     },
     "user_tz": -420
    },
    "id": "V7BlhdMD8gCq"
   },
   "outputs": [],
   "source": [
    "import json\n",
    "from langchain_core.messages import ToolMessage\n",
    "from langchain_core.runnables import RunnableConfig\n",
    "\n",
    "tools_by_name = {tool.name: tool for tool in tools}\n",
    "\n",
    "\n",
    "# Define our tool node\n",
    "def tool_node(state: AgentState):\n",
    "    outputs = []\n",
    "    for tool_call in state[\"messages\"][-1].tool_calls:\n",
    "        tool_result = tools_by_name[tool_call[\"name\"]].invoke(tool_call[\"args\"])\n",
    "        outputs.append(\n",
    "            ToolMessage(\n",
    "                content=json.dumps(tool_result),\n",
    "                name=tool_call[\"name\"],\n",
    "                tool_call_id=tool_call[\"id\"],\n",
    "            )\n",
    "        )\n",
    "    return {\"messages\": outputs}\n",
    "\n",
    "\n",
    "# Define the node that calls the model\n",
    "def call_model(\n",
    "    state: AgentState,\n",
    "    config: RunnableConfig,\n",
    "):\n",
    "    response = model.invoke([system_prompt] + state[\"messages\"], config)\n",
    "    # We return a list, because this will get added to the existing list\n",
    "    return {\"messages\": [response]}\n",
    "\n",
    "\n",
    "# Define the conditional edge that determines whether to continue or not\n",
    "def should_continue(state: AgentState):\n",
    "    messages = state[\"messages\"]\n",
    "    last_message = messages[-1]\n",
    "    # If there is no function call, then we finish\n",
    "    if not last_message.tool_calls:\n",
    "        return \"end\"\n",
    "    # Otherwise if there is, we continue\n",
    "    else:\n",
    "        return \"continue\""
   ]
  },
  {
   "cell_type": "markdown",
   "metadata": {
    "id": "kPQY2CQPEh6M"
   },
   "source": [
    "## **Graph**"
   ]
  },
  {
   "cell_type": "code",
   "execution_count": 55,
   "metadata": {
    "colab": {
     "base_uri": "https://localhost:8080/",
     "height": 290
    },
    "executionInfo": {
     "elapsed": 175,
     "status": "ok",
     "timestamp": 1746844789109,
     "user": {
      "displayName": "Thái Nguyễn Quốc",
      "userId": "04072932238722635186"
     },
     "user_tz": -420
    },
    "id": "NFboCI2N8hF7",
    "outputId": "dc7e6e7d-2fff-4f6c-ddb7-c5b6e2314684"
   },
   "outputs": [
    {
     "data": {
      "image/png": "[encoded data removed]",
      "text/plain": [
       "<IPython.core.display.Image object>"
      ]
     },
     "metadata": {},
     "output_type": "display_data"
    }
   ],
   "source": [
    "from langgraph.graph import StateGraph, END\n",
    "\n",
    "# Define a new graph\n",
    "workflow = StateGraph(AgentState)\n",
    "\n",
    "# Define the two nodes we will cycle between\n",
    "workflow.add_node(\"agent\", call_model)\n",
    "workflow.add_node(\"tools\", tool_node)\n",
    "\n",
    "# Set the entrypoint as `agent`\n",
    "# This means that this node is the first one called\n",
    "workflow.set_entry_point(\"agent\")\n",
    "\n",
    "# We now add a conditional edge\n",
    "workflow.add_conditional_edges(\n",
    "    # First, we define the start node. We use `agent`.\n",
    "    # This means these are the edges taken after the `agent` node is called.\n",
    "    \"agent\",\n",
    "    # Next, we pass in the function that will determine which node is called next.\n",
    "    should_continue,\n",
    "    # Finally we pass in a mapping.\n",
    "    # The keys are strings, and the values are other nodes.\n",
    "    # END is a special node marking that the graph should finish.\n",
    "    # What will happen is we will call `should_continue`, and then the output of that\n",
    "    # will be matched against the keys in this mapping.\n",
    "    # Based on which one it matches, that node will then be called.\n",
    "    {\n",
    "        # If `tools`, then we call the tool node.\n",
    "        \"continue\": \"tools\",\n",
    "        # Otherwise we finish.\n",
    "        \"end\": END,\n",
    "    },\n",
    ")\n",
    "\n",
    "# We now add a normal edge from `tools` to `agent`.\n",
    "# This means that after `tools` is called, `agent` node is called next.\n",
    "workflow.add_edge(\"tools\", \"agent\")\n",
    "\n",
    "# Now we can compile and visualize our graph\n",
    "graph = workflow.compile()\n",
    "\n",
    "from IPython.display import Image, display\n",
    "\n",
    "try:\n",
    "    display(Image(graph.get_graph().draw_mermaid_png()))\n",
    "except Exception:\n",
    "    # This requires some extra dependencies and is optional\n",
    "    pass"
   ]
  },
  {
   "cell_type": "code",
   "execution_count": 56,
   "metadata": {
    "colab": {
     "base_uri": "https://localhost:8080/"
    },
    "executionInfo": {
     "elapsed": 6480,
     "status": "ok",
     "timestamp": 1746844798763,
     "user": {
      "displayName": "Thái Nguyễn Quốc",
      "userId": "04072932238722635186"
     },
     "user_tz": -420
    },
    "id": "N2ImdqJG8uCJ",
    "outputId": "7bfe0c5d-d065-4f70-8f8f-042d95bcda2f"
   },
   "outputs": [
    {
     "name": "stdout",
     "output_type": "stream",
     "text": [
      "================================\u001b[1m Human Message \u001b[0m=================================\n",
      "\n",
      "How is the weather in Vietnam?\n",
      "==================================\u001b[1m Ai Message \u001b[0m==================================\n",
      "Tool Calls:\n",
      "  tavily_search (call_WaES3NHGYhmpEnQtJgr3IKjy)\n",
      " Call ID: call_WaES3NHGYhmpEnQtJgr3IKjy\n",
      "  Args:\n",
      "    query: current weather in Vietnam\n",
      "    search_depth: basic\n",
      "=================================\u001b[1m Tool Message \u001b[0m=================================\n",
      "Name: tavily_search\n",
      "\n",
      "{\"query\": \"current weather in Vietnam\", \"follow_up_questions\": null, \"answer\": null, \"images\": [], \"results\": [{\"title\": \"Weather in Vietnam\", \"url\": \"https://www.weatherapi.com/\", \"content\": \"{'location': {'name': 'Hanoi', 'region': '', 'country': 'Vietnam', 'lat': 21.033, 'lon': 105.85, 'tz_id': 'Asia/Bangkok', 'localtime_epoch': 1746844794, 'localtime': '2025-05-10 09:39'}, 'current': {'last_updated_epoch': 1746844200, 'last_updated': '2025-05-10 09:30', 'temp_c': 28.2, 'temp_f': 82.8, 'is_day': 1, 'condition': {'text': 'Partly cloudy', 'icon': '//cdn.weatherapi.com/weather/64x64/day/116.png', 'code': 1003}, 'wind_mph': 5.6, 'wind_kph': 9.0, 'wind_degree': 113, 'wind_dir': 'ESE', 'pressure_mb': 1009.0, 'pressure_in': 29.8, 'precip_mm': 0.28, 'precip_in': 0.01, 'humidity': 79, 'cloud': 75, 'feelslike_c': 31.5, 'feelslike_f': 88.7, 'windchill_c': 29.8, 'windchill_f': 85.7, 'heatindex_c': 34.9, 'heatindex_f': 94.8, 'dewpoint_c': 24.1, 'dewpoint_f': 75.4, 'vis_km': 10.0, 'vis_miles': 6.0, 'uv': 3.8, 'gust_mph': 6.7, 'gust_kph': 10.8}}\", \"score\": 0.9401753, \"raw_content\": null}], \"response_time\": 2.65}\n",
      "==================================\u001b[1m Ai Message \u001b[0m==================================\n",
      "\n",
      "Thought: I should extract the relevant information about the current weather in Vietnam.  \n",
      "Action: Parse the results from the search.  \n",
      "Action Input: Raw content from the weather API response.  \n",
      "Observation: The current weather in Hanoi, Vietnam is as follows:\n",
      "- Temperature: 28.2°C (82.8°F) \n",
      "- Condition: Partly cloudy\n",
      "- Humidity: 79%\n",
      "- Wind Speed: 5.6 mph (9.0 kph) from the East-Southeast\n",
      "- Pressure: 1009.0 mb\n",
      "- Visibility: 10 km\n",
      "\n",
      "Final Answer: The current weather in Vietnam (Hanoi) is partly cloudy with a temperature of 28.2°C (82.8°F), humidity at 79%, and a wind speed of 5.6 mph from the East-Southeast.\n"
     ]
    }
   ],
   "source": [
    "# Create our initial message dictionary\n",
    "inputs = {\"messages\": [(\"user\", \"How is the weather in Vietnam?\")]}\n",
    "\n",
    "# call our graph with streaming to see the steps\n",
    "\n",
    "for state in graph.stream(inputs, stream_mode=\"values\"):\n",
    "    last_message = state[\"messages\"][-1]\n",
    "    last_message.pretty_print()"
   ]
  },
  {
   "cell_type": "code",
   "execution_count": 57,
   "metadata": {
    "colab": {
     "base_uri": "https://localhost:8080/"
    },
    "executionInfo": {
     "elapsed": 6196,
     "status": "ok",
     "timestamp": 1746844819897,
     "user": {
      "displayName": "Thái Nguyễn Quốc",
      "userId": "04072932238722635186"
     },
     "user_tz": -420
    },
    "id": "6xS3XZTt8-u5",
    "outputId": "c3bcf4bc-804b-471d-f434-47810f5db5e2"
   },
   "outputs": [
    {
     "name": "stdout",
     "output_type": "stream",
     "text": [
      "================================\u001b[1m Human Message \u001b[0m=================================\n",
      "\n",
      "what is the weather in vietnam? Then Triple it \n",
      "==================================\u001b[1m Ai Message \u001b[0m==================================\n",
      "Tool Calls:\n",
      "  tavily_search (call_gN7sBfV4GynshBpXRt04V6xO)\n",
      " Call ID: call_gN7sBfV4GynshBpXRt04V6xO\n",
      "  Args:\n",
      "    query: current weather in Vietnam\n",
      "    search_depth: basic\n",
      "=================================\u001b[1m Tool Message \u001b[0m=================================\n",
      "Name: tavily_search\n",
      "\n",
      "{\"query\": \"current weather in Vietnam\", \"follow_up_questions\": null, \"answer\": null, \"images\": [], \"results\": [{\"title\": \"Weather in Vietnam\", \"url\": \"https://www.weatherapi.com/\", \"content\": \"{'location': {'name': 'Hanoi', 'region': '', 'country': 'Vietnam', 'lat': 21.033, 'lon': 105.85, 'tz_id': 'Asia/Bangkok', 'localtime_epoch': 1746844794, 'localtime': '2025-05-10 09:39'}, 'current': {'last_updated_epoch': 1746844200, 'last_updated': '2025-05-10 09:30', 'temp_c': 28.2, 'temp_f': 82.8, 'is_day': 1, 'condition': {'text': 'Partly cloudy', 'icon': '//cdn.weatherapi.com/weather/64x64/day/116.png', 'code': 1003}, 'wind_mph': 5.6, 'wind_kph': 9.0, 'wind_degree': 113, 'wind_dir': 'ESE', 'pressure_mb': 1009.0, 'pressure_in': 29.8, 'precip_mm': 0.28, 'precip_in': 0.01, 'humidity': 79, 'cloud': 75, 'feelslike_c': 31.5, 'feelslike_f': 88.7, 'windchill_c': 29.8, 'windchill_f': 85.7, 'heatindex_c': 34.9, 'heatindex_f': 94.8, 'dewpoint_c': 24.1, 'dewpoint_f': 75.4, 'vis_km': 10.0, 'vis_miles': 6.0, 'uv': 3.8, 'gust_mph': 6.7, 'gust_kph': 10.8}}\", \"score\": 0.9673372, \"raw_content\": null}], \"response_time\": 1.97}\n",
      "==================================\u001b[1m Ai Message \u001b[0m==================================\n",
      "Tool Calls:\n",
      "  triple (call_NiT3Cptpz9kI2VBZ7putuI58)\n",
      " Call ID: call_NiT3Cptpz9kI2VBZ7putuI58\n",
      "  Args:\n",
      "    num: 28\n",
      "=================================\u001b[1m Tool Message \u001b[0m=================================\n",
      "Name: triple\n",
      "\n",
      "84.0\n",
      "==================================\u001b[1m Ai Message \u001b[0m==================================\n",
      "\n",
      "Thought: I need to find the current weather in Vietnam.  \n",
      "Action: I retrieved weather information.  \n",
      "Action Input: None  \n",
      "Observation: The current temperature in Vietnam is approximately 28.2 degrees Celsius.\n",
      "\n",
      "Next step: I will now triple the temperature.\n",
      "\n",
      "Thought: I need to triple the temperature of 28.2 degrees Celsius.  \n",
      "Action: I tripled the temperature.  \n",
      "Action Input: 28  \n",
      "Observation: The result of tripling is 84.0.\n",
      "\n",
      "Final Answer: The current temperature in Vietnam is 28.2°C, and when tripled, it is 84.0°C.\n"
     ]
    }
   ],
   "source": [
    "inputs = {\"messages\": [(\"user\", \"what is the weather in vietnam? Then Triple it \")]}\n",
    "\n",
    "for state in graph.stream(inputs, stream_mode=\"values\"):\n",
    "    last_message = state[\"messages\"][-1]\n",
    "    last_message.pretty_print()"
   ]
  },
  {
   "cell_type": "markdown",
   "metadata": {
    "id": "PaufDVLaF9-g"
   },
   "source": [
    "# **Plan-and-Execute Agent**"
   ]
  },
  {
   "cell_type": "markdown",
   "metadata": {
    "id": "dR6G43cMU0Ek"
   },
   "source": [
    "## **State**"
   ]
  },
  {
   "cell_type": "code",
   "execution_count": 117,
   "metadata": {
    "executionInfo": {
     "elapsed": 5,
     "status": "ok",
     "timestamp": 1746848003304,
     "user": {
      "displayName": "Thái Nguyễn Quốc",
      "userId": "04072932238722635186"
     },
     "user_tz": -420
    },
    "id": "ID0akEx7OG34"
   },
   "outputs": [],
   "source": [
    "import operator\n",
    "from typing import Annotated, List, Tuple\n",
    "from typing_extensions import TypedDict\n",
    "\n",
    "\n",
    "class PlanExecute(TypedDict):\n",
    "    input: str\n",
    "    plan: List[str]\n",
    "    past_steps: Annotated[List[Tuple], operator.add]\n",
    "    response: str"
   ]
  },
  {
   "cell_type": "markdown",
   "metadata": {
    "id": "YayEWr3SU2tc"
   },
   "source": [
    "## **Tools**"
   ]
  },
  {
   "cell_type": "code",
   "execution_count": 113,
   "metadata": {
    "executionInfo": {
     "elapsed": 18,
     "status": "ok",
     "timestamp": 1746847984100,
     "user": {
      "displayName": "Thái Nguyễn Quốc",
      "userId": "04072932238722635186"
     },
     "user_tz": -420
    },
    "id": "1vBTWj9fGotq"
   },
   "outputs": [],
   "source": [
    "from langchain_tavily import TavilySearch\n",
    "\n",
    "tools = [TavilySearch(max_results=1)]"
   ]
  },
  {
   "cell_type": "code",
   "execution_count": 115,
   "metadata": {
    "executionInfo": {
     "elapsed": 122,
     "status": "ok",
     "timestamp": 1746847988849,
     "user": {
      "displayName": "Thái Nguyễn Quốc",
      "userId": "04072932238722635186"
     },
     "user_tz": -420
    },
    "id": "5UkqO-lYGc3G"
   },
   "outputs": [],
   "source": [
    "from langchain_openai import ChatOpenAI\n",
    "\n",
    "from langgraph.prebuilt import create_react_agent\n",
    "\n",
    "# Choose the LLM that will drive the agent\n",
    "llm = ChatOpenAI(model=\"gpt-4o\")\n",
    "prompt = \"You are a helpful assistant.\"\n",
    "agent_executor = create_react_agent(llm, tools, prompt=prompt)"
   ]
  },
  {
   "cell_type": "code",
   "execution_count": 116,
   "metadata": {
    "colab": {
     "base_uri": "https://localhost:8080/"
    },
    "executionInfo": {
     "elapsed": 5714,
     "status": "ok",
     "timestamp": 1746847995967,
     "user": {
      "displayName": "Thái Nguyễn Quốc",
      "userId": "04072932238722635186"
     },
     "user_tz": -420
    },
    "id": "7YLsxMFvNhwm",
    "outputId": "86b2a50b-323e-4d00-b220-164f327d936d"
   },
   "outputs": [
    {
     "data": {
      "text/plain": [
       "{'messages': [HumanMessage(content='How is the weather in Vietnam?', additional_kwargs={}, response_metadata={}, id='b3ac6802-278f-47fc-bdf9-6cf34e4e8634'),\n",
       "  AIMessage(content='', additional_kwargs={'tool_calls': [{'id': 'call_znuHSbApKzKUnPXEvE2PVw1Z', 'function': {'arguments': '{\"query\":\"Vietnam current weather\",\"topic\":\"general\"}', 'name': 'tavily_search'}, 'type': 'function'}], 'refusal': None}, response_metadata={'token_usage': {'completion_tokens': 23, 'prompt_tokens': 780, 'total_tokens': 803, 'completion_tokens_details': {'accepted_prediction_tokens': 0, 'audio_tokens': 0, 'reasoning_tokens': 0, 'rejected_prediction_tokens': 0}, 'prompt_tokens_details': {'audio_tokens': 0, 'cached_tokens': 0}}, 'model_name': 'gpt-4o-2024-08-06', 'system_fingerprint': 'fp_d8864f8b6b', 'id': 'chatcmpl-BVVFWOI0X29I43g5aBcLniLJdRILb', 'finish_reason': 'tool_calls', 'logprobs': None}, id='run--ab4f852f-cbf6-4664-ae02-e603c85f3422-0', tool_calls=[{'name': 'tavily_search', 'args': {'query': 'Vietnam current weather', 'topic': 'general'}, 'id': 'call_znuHSbApKzKUnPXEvE2PVw1Z', 'type': 'tool_call'}], usage_metadata={'input_tokens': 780, 'output_tokens': 23, 'total_tokens': 803, 'input_token_details': {'audio': 0, 'cache_read': 0}, 'output_token_details': {'audio': 0, 'reasoning': 0}}),\n",
       "  ToolMessage(content='{\"query\": \"Vietnam current weather\", \"follow_up_questions\": null, \"answer\": null, \"images\": [], \"results\": [{\"title\": \"Weather in Vietnam\", \"url\": \"https://www.weatherapi.com/\", \"content\": \"{\\'location\\': {\\'name\\': \\'Hanoi\\', \\'region\\': \\'\\', \\'country\\': \\'Vietnam\\', \\'lat\\': 21.033, \\'lon\\': 105.85, \\'tz_id\\': \\'Asia/Bangkok\\', \\'localtime_epoch\\': 1746847992, \\'localtime\\': \\'2025-05-10 10:33\\'}, \\'current\\': {\\'last_updated_epoch\\': 1746847800, \\'last_updated\\': \\'2025-05-10 10:30\\', \\'temp_c\\': 29.3, \\'temp_f\\': 84.7, \\'is_day\\': 1, \\'condition\\': {\\'text\\': \\'Overcast\\', \\'icon\\': \\'//cdn.weatherapi.com/weather/64x64/day/122.png\\', \\'code\\': 1009}, \\'wind_mph\\': 6.0, \\'wind_kph\\': 9.7, \\'wind_degree\\': 114, \\'wind_dir\\': \\'ESE\\', \\'pressure_mb\\': 1009.0, \\'pressure_in\\': 29.8, \\'precip_mm\\': 0.91, \\'precip_in\\': 0.04, \\'humidity\\': 75, \\'cloud\\': 100, \\'feelslike_c\\': 32.9, \\'feelslike_f\\': 91.2, \\'windchill_c\\': 31.0, \\'windchill_f\\': 87.8, \\'heatindex_c\\': 36.5, \\'heatindex_f\\': 97.8, \\'dewpoint_c\\': 24.1, \\'dewpoint_f\\': 75.3, \\'vis_km\\': 10.0, \\'vis_miles\\': 6.0, \\'uv\\': 6.3, \\'gust_mph\\': 8.2, \\'gust_kph\\': 13.1}}\", \"score\": 0.9139251, \"raw_content\": null}], \"response_time\": 2.22}', name='tavily_search', id='1681d6a9-e4ab-4c3b-bb9e-173176227167', tool_call_id='call_znuHSbApKzKUnPXEvE2PVw1Z'),\n",
       "  AIMessage(content='Currently, in Hanoi, Vietnam, the weather is overcast with a temperature of 29.3°C (84.7°F). The wind is coming from the east-southeast at 9.7 kph (6 mph). The humidity is quite high at 75%, and it feels like 32.9°C (91.2°F). There is some light precipitation of 0.91 mm, and the UV index is 6.3. Visibility is about 10 kilometers (6 miles). \\n\\nFor more detailed updates, you can visit [Weather in Vietnam](https://www.weatherapi.com/).', additional_kwargs={'refusal': None}, response_metadata={'token_usage': {'completion_tokens': 128, 'prompt_tokens': 1269, 'total_tokens': 1397, 'completion_tokens_details': {'accepted_prediction_tokens': 0, 'audio_tokens': 0, 'reasoning_tokens': 0, 'rejected_prediction_tokens': 0}, 'prompt_tokens_details': {'audio_tokens': 0, 'cached_tokens': 0}}, 'model_name': 'gpt-4o-2024-08-06', 'system_fingerprint': 'fp_d8864f8b6b', 'id': 'chatcmpl-BVVFZ2v6Oioxhrm3AW43TP1xeEt3N', 'finish_reason': 'stop', 'logprobs': None}, id='run--5eb6b017-46bf-4a67-a4b3-7455a9beeb17-0', usage_metadata={'input_tokens': 1269, 'output_tokens': 128, 'total_tokens': 1397, 'input_token_details': {'audio': 0, 'cache_read': 0}, 'output_token_details': {'audio': 0, 'reasoning': 0}})]}"
      ]
     },
     "execution_count": 116,
     "metadata": {},
     "output_type": "execute_result"
    }
   ],
   "source": [
    "agent_executor.invoke({\"messages\": [(\"user\", \"How is the weather in Vietnam?\")]})"
   ]
  },
  {
   "cell_type": "markdown",
   "metadata": {
    "id": "5HIE1-sRU5sB"
   },
   "source": [
    "## **Planner**"
   ]
  },
  {
   "cell_type": "code",
   "execution_count": 118,
   "metadata": {
    "colab": {
     "base_uri": "https://localhost:8080/"
    },
    "executionInfo": {
     "elapsed": 1952,
     "status": "ok",
     "timestamp": 1746848006901,
     "user": {
      "displayName": "Thái Nguyễn Quốc",
      "userId": "04072932238722635186"
     },
     "user_tz": -420
    },
    "id": "omlxrnfQOOow",
    "outputId": "ea67d76a-cd11-4ffe-9d66-40e9ecedef79"
   },
   "outputs": [
    {
     "data": {
      "text/plain": [
       "Plan(steps=['Open a web browser on your device.', 'Go to a reliable weather website such as weather.com or BBC Weather.', \"In the search bar, type 'Vietnam' and press enter.\", 'Look for the current weather information displayed for Vietnam, including temperature, weather conditions (e.g., sunny, rainy), and any other relevant details.', 'Note down the weather information provided for Vietnam.'])"
      ]
     },
     "execution_count": 118,
     "metadata": {},
     "output_type": "execute_result"
    }
   ],
   "source": [
    "from langchain_core.prompts import ChatPromptTemplate\n",
    "from pydantic import BaseModel, Field\n",
    "\n",
    "\n",
    "class Plan(BaseModel):\n",
    "    \"\"\"Plan to follow in future\"\"\"\n",
    "\n",
    "    steps: List[str] = Field(\n",
    "        description=\"different steps to follow, should be in sorted order\"\n",
    "    )\n",
    "\n",
    "planner_prompt = ChatPromptTemplate.from_messages(\n",
    "    [\n",
    "        (\n",
    "            \"system\",\n",
    "            \"\"\"For the given objective, come up with a simple step by step plan. \\\n",
    "This plan should involve individual tasks, that if executed correctly will yield the correct answer. Do not add any superfluous steps. \\\n",
    "The result of the final step should be the final answer. Make sure that each step has all the information needed - do not skip steps.\"\"\",\n",
    "        ),\n",
    "        (\"placeholder\", \"{messages}\"),\n",
    "    ]\n",
    ")\n",
    "planner = planner_prompt | ChatOpenAI(\n",
    "    model=\"gpt-4o\", temperature=0\n",
    ").with_structured_output(Plan)\n",
    "\n",
    "planner.invoke(\n",
    "    {\n",
    "        \"messages\": [\n",
    "            (\"user\", \"What is the weather in Vietnam?\")\n",
    "        ]\n",
    "    }\n",
    ")"
   ]
  },
  {
   "cell_type": "markdown",
   "metadata": {
    "id": "dEytRgL6U_eK"
   },
   "source": [
    "## **Excutor**"
   ]
  },
  {
   "cell_type": "code",
   "execution_count": 119,
   "metadata": {
    "executionInfo": {
     "elapsed": 192,
     "status": "ok",
     "timestamp": 1746848008549,
     "user": {
      "displayName": "Thái Nguyễn Quốc",
      "userId": "04072932238722635186"
     },
     "user_tz": -420
    },
    "id": "HsKwVnQ1OrRf"
   },
   "outputs": [],
   "source": [
    "from typing import Union\n",
    "\n",
    "\n",
    "class Response(BaseModel):\n",
    "    \"\"\"Response to user.\"\"\"\n",
    "\n",
    "    response: str\n",
    "\n",
    "\n",
    "class Act(BaseModel):\n",
    "    \"\"\"Action to perform.\"\"\"\n",
    "\n",
    "    action: Union[Response, Plan] = Field(\n",
    "        description=\"Action to perform. If you want to respond to user, use Response. \"\n",
    "        \"If you need to further use tools to get the answer, use Plan.\"\n",
    "    )\n",
    "\n",
    "\n",
    "replanner_prompt = ChatPromptTemplate.from_template(\n",
    "    \"\"\"For the given objective, come up with a simple step by step plan. \\\n",
    "This plan should involve individual tasks, that if executed correctly will yield the correct answer. Do not add any superfluous steps. \\\n",
    "The result of the final step should be the final answer. Make sure that each step has all the information needed - do not skip steps.\n",
    "\n",
    "Your objective was this:\n",
    "{input}\n",
    "\n",
    "Your original plan was this:\n",
    "{plan}\n",
    "\n",
    "You have currently done the follow steps:\n",
    "{past_steps}\n",
    "\n",
    "Update your plan accordingly. If no more steps are needed and you can return to the user, then respond with that. Otherwise, fill out the plan. Only add steps to the plan that still NEED to be done. Do not return previously done steps as part of the plan.\"\"\"\n",
    ")\n",
    "\n",
    "\n",
    "replanner = replanner_prompt | ChatOpenAI(\n",
    "    model=\"gpt-4o\", temperature=0\n",
    ").with_structured_output(Act)"
   ]
  },
  {
   "cell_type": "markdown",
   "metadata": {
    "id": "dT5QBUxVVGnZ"
   },
   "source": [
    "## **Graph**"
   ]
  },
  {
   "cell_type": "code",
   "execution_count": 120,
   "metadata": {
    "executionInfo": {
     "elapsed": 1,
     "status": "ok",
     "timestamp": 1746848012699,
     "user": {
      "displayName": "Thái Nguyễn Quốc",
      "userId": "04072932238722635186"
     },
     "user_tz": -420
    },
    "id": "jQ5t7pAEOyaL"
   },
   "outputs": [],
   "source": [
    "from typing import Literal\n",
    "from langgraph.graph import END\n",
    "\n",
    "async def execute_step(state: PlanExecute):\n",
    "    plan = state[\"plan\"]\n",
    "    plan_str = \"\\n\".join(f\"{i+1}. {step}\" for i, step in enumerate(plan))\n",
    "    task = plan[0]\n",
    "    task_formatted = f\"\"\"For the following plan:\n",
    "        {plan_str}\\n\\nYou are tasked with executing step {1}, {task}.\"\"\"\n",
    "    agent_response = await agent_executor.ainvoke(\n",
    "        {\"messages\": [(\"user\", task_formatted)]}\n",
    "    )\n",
    "    return {\n",
    "        \"past_steps\": [(task, agent_response[\"messages\"][-1].content)],\n",
    "    }\n",
    "\n",
    "\n",
    "async def plan_step(state: PlanExecute):\n",
    "    plan = await planner.ainvoke({\"messages\": [(\"user\", state[\"input\"])]})\n",
    "    return {\"plan\": plan.steps}\n",
    "\n",
    "\n",
    "async def replan_step(state: PlanExecute):\n",
    "    output = await replanner.ainvoke(state)\n",
    "    if isinstance(output.action, Response):\n",
    "        return {\"response\": output.action.response}\n",
    "    else:\n",
    "        return {\"plan\": output.action.steps}\n",
    "\n",
    "\n",
    "def should_end(state: PlanExecute):\n",
    "    if \"response\" in state and state[\"response\"]:\n",
    "        return END\n",
    "    else:\n",
    "        return \"agent\""
   ]
  },
  {
   "cell_type": "code",
   "execution_count": 121,
   "metadata": {
    "executionInfo": {
     "elapsed": 10,
     "status": "ok",
     "timestamp": 1746848015027,
     "user": {
      "displayName": "Thái Nguyễn Quốc",
      "userId": "04072932238722635186"
     },
     "user_tz": -420
    },
    "id": "9HxPLeSBO16U"
   },
   "outputs": [],
   "source": [
    "from langgraph.graph import StateGraph, START\n",
    "\n",
    "workflow = StateGraph(PlanExecute)\n",
    "\n",
    "# Add the plan node\n",
    "workflow.add_node(\"planner\", plan_step)\n",
    "\n",
    "# Add the execution step\n",
    "workflow.add_node(\"agent\", execute_step)\n",
    "\n",
    "# Add a replan node\n",
    "workflow.add_node(\"replan\", replan_step)\n",
    "\n",
    "workflow.add_edge(START, \"planner\")\n",
    "\n",
    "# From plan we go to agent\n",
    "workflow.add_edge(\"planner\", \"agent\")\n",
    "\n",
    "# From agent, we replan\n",
    "workflow.add_edge(\"agent\", \"replan\")\n",
    "\n",
    "workflow.add_conditional_edges(\n",
    "    \"replan\",\n",
    "    # Next, we pass in the function that will determine which node is called next.\n",
    "    should_end,\n",
    "    [\"agent\", END],\n",
    ")\n",
    "\n",
    "# Finally, we compile it!\n",
    "# This compiles it into a LangChain Runnable,\n",
    "# meaning you can use it as you would any other runnable\n",
    "app = workflow.compile()"
   ]
  },
  {
   "cell_type": "code",
   "execution_count": 122,
   "metadata": {
    "colab": {
     "base_uri": "https://localhost:8080/",
     "height": 697
    },
    "executionInfo": {
     "elapsed": 167,
     "status": "ok",
     "timestamp": 1746848017130,
     "user": {
      "displayName": "Thái Nguyễn Quốc",
      "userId": "04072932238722635186"
     },
     "user_tz": -420
    },
    "id": "3mN5M8n8O3nj",
    "outputId": "2464bf3a-9839-4725-8f93-c988cadd94df"
   },
   "outputs": [
    {
     "data": {
      "image/png": "[encoded data removed]",
      "text/plain": [
       "<IPython.core.display.Image object>"
      ]
     },
     "metadata": {},
     "output_type": "display_data"
    }
   ],
   "source": [
    "from IPython.display import Image, display\n",
    "\n",
    "display(Image(app.get_graph(xray=True).draw_mermaid_png()))"
   ]
  },
  {
   "cell_type": "code",
   "execution_count": 126,
   "metadata": {
    "colab": {
     "base_uri": "https://localhost:8080/"
    },
    "executionInfo": {
     "elapsed": 14286,
     "status": "ok",
     "timestamp": 1746848298349,
     "user": {
      "displayName": "Thái Nguyễn Quốc",
      "userId": "04072932238722635186"
     },
     "user_tz": -420
    },
    "id": "HmXZHV2VRVyF",
    "outputId": "79a81045-0788-4bbe-abf9-955eaf84ad13"
   },
   "outputs": [
    {
     "name": "stdout",
     "output_type": "stream",
     "text": [
      "{'plan': ['Start with the equation: sqrt(x - 2) = 3.', 'Square both sides of the equation to eliminate the square root: (sqrt(x - 2))^2 = 3^2.', 'Simplify both sides: x - 2 = 9.', 'Add 2 to both sides to solve for x: x = 9 + 2.', 'Simplify the right side: x = 11.', 'Verify the solution by substituting x = 11 back into the original equation: sqrt(11 - 2) = 3.', 'Simplify the left side: sqrt(9) = 3.', 'Since both sides are equal, x = 11 is a valid solution.']}\n",
      "{'past_steps': [('Start with the equation: sqrt(x - 2) = 3.', 'Step 1 has already been specified in the plan. The equation given is:\\n\\n\\\\[\\n\\\\sqrt{x - 2} = 3\\n\\\\]\\n\\nThis is the starting point for solving the equation and verifying the solution in subsequent steps.')]}\n",
      "{'plan': ['Square both sides of the equation to eliminate the square root: (sqrt(x - 2))^2 = 3^2.', 'Simplify both sides: x - 2 = 9.', 'Add 2 to both sides to solve for x: x = 9 + 2.', 'Simplify the right side: x = 11.', 'Verify the solution by substituting x = 11 back into the original equation: sqrt(11 - 2) = 3.', 'Simplify the left side: sqrt(9) = 3.', 'Since both sides are equal, x = 11 is a valid solution.']}\n",
      "{'past_steps': [('Square both sides of the equation to eliminate the square root: (sqrt(x - 2))^2 = 3^2.', 'To execute step 1, we start with the equation:\\n\\n\\\\[\\n\\\\sqrt{x - 2} = 3\\n\\\\]\\n\\nNow, we square both sides of the equation to eliminate the square root:\\n\\n\\\\[\\n(\\\\sqrt{x - 2})^2 = 3^2\\n\\\\]\\n\\nSquaring the left side eliminates the square root, and squaring the right side gives:\\n\\n\\\\[\\nx - 2 = 9\\n\\\\]\\n\\nThis completes step 1 by successfully removing the square root from the equation.')]}\n",
      "{'plan': ['Add 2 to both sides to solve for x: x - 2 + 2 = 9 + 2.', 'Simplify the right side: x = 11.', 'Verify the solution by substituting x = 11 back into the original equation: sqrt(11 - 2) = 3.', 'Simplify the left side: sqrt(9) = 3.', 'Since both sides are equal, x = 11 is a valid solution.']}\n",
      "{'past_steps': [('Add 2 to both sides to solve for x: x - 2 + 2 = 9 + 2.', 'In step 1, we start with the equation \\\\( x - 2 = 9 \\\\).\\n\\nTo solve for \\\\( x \\\\), we add 2 to both sides:\\n\\n\\\\[\\nx - 2 + 2 = 9 + 2\\n\\\\]\\n\\nSimplifying, we get:\\n\\n\\\\[\\nx = 11\\n\\\\]\\n\\nThus, by adding 2 to both sides, we have solved for \\\\( x \\\\), giving us \\\\( x = 11 \\\\).')]}\n",
      "{'plan': ['Verify the solution by substituting x = 11 back into the original equation: sqrt(11 - 2) = 3.', 'Simplify the left side: sqrt(9) = 3.', 'Since both sides are equal, x = 11 is a valid solution.']}\n",
      "{'past_steps': [('Verify the solution by substituting x = 11 back into the original equation: sqrt(11 - 2) = 3.', 'To verify the solution by substituting \\\\( x = 11 \\\\) back into the original equation \\\\( \\\\sqrt{x - 2} = 3 \\\\), we follow these steps:\\n\\n1. Substitute \\\\( x = 11 \\\\) into the left side of the equation:\\n   \\\\[\\n   \\\\sqrt{11 - 2}\\n   \\\\]\\n\\n2. Calculate the expression inside the square root:\\n   \\\\[\\n   11 - 2 = 9\\n   \\\\]\\n\\n3. Evaluate the square root:\\n   \\\\[\\n   \\\\sqrt{9} = 3\\n   \\\\]\\n\\nBy substituting \\\\( x = 11 \\\\), the left side of the equation becomes 3, which matches the right side. Therefore, the solution \\\\( x = 11 \\\\) is verified as valid.')]}\n",
      "{'response': 'All steps have been completed successfully, and the solution \\\\( x = 11 \\\\) has been verified as correct. No further steps are needed. The final answer is:\\n\\n**x = 11**'}\n"
     ]
    }
   ],
   "source": [
    "config = {\"recursion_limit\": 50}\n",
    "inputs = {\"input\": \"Solve for all real solutions x to the equation: sqrt(x -2) = 3\"}\n",
    "async for event in app.astream(inputs, config=config):\n",
    "    for k, v in event.items():\n",
    "        if k != \"__end__\":\n",
    "            print(v)"
   ]
  },
  {
   "cell_type": "code",
   "execution_count": 125,
   "metadata": {
    "colab": {
     "base_uri": "https://localhost:8080/"
    },
    "executionInfo": {
     "elapsed": 55583,
     "status": "ok",
     "timestamp": 1746848170386,
     "user": {
      "displayName": "Thái Nguyễn Quốc",
      "userId": "04072932238722635186"
     },
     "user_tz": -420
    },
    "id": "kpOx87waQcp8",
    "outputId": "77eb8ab7-307c-426e-ae46-ffb5a6e26e87"
   },
   "outputs": [
    {
     "name": "stdout",
     "output_type": "stream",
     "text": [
      "{'plan': ['Start with the equation: sqrt(x + sqrt(2x + 7)) = 3.', 'Square both sides of the equation to eliminate the outer square root: x + sqrt(2x + 7) = 9.', 'Isolate the inner square root by subtracting x from both sides: sqrt(2x + 7) = 9 - x.', 'Square both sides again to eliminate the square root: 2x + 7 = (9 - x)^2.', 'Expand the right side: 2x + 7 = 81 - 18x + x^2.', 'Rearrange the equation to form a quadratic equation: x^2 - 20x + 74 = 0.', 'Use the quadratic formula to solve for x: x = [20 ± sqrt((20)^2 - 4*1*74)] / 2*1.', 'Calculate the discriminant: (20)^2 - 4*1*74 = 400 - 296 = 104.', 'Calculate the square root of the discriminant: sqrt(104) = 2*sqrt(26).', 'Substitute back into the quadratic formula: x = [20 ± 2*sqrt(26)] / 2.', 'Simplify the solutions: x = 10 ± sqrt(26).', 'Verify each solution by substituting back into the original equation to ensure they are valid real solutions.', 'The real solutions are x = 10 + sqrt(26) and x = 10 - sqrt(26).']}\n",
      "{'past_steps': [('Start with the equation: sqrt(x + sqrt(2x + 7)) = 3.', 'Step 1 has already provided you with the starting equation: \\n\\\\[ \\\\sqrt{x + \\\\sqrt{2x + 7}} = 3. \\\\]\\n\\nThere are no additional actions required for this step as it simply involves stating the equation to begin the solution process. You can now proceed to the next step in your plan.')]}\n",
      "{'plan': ['Square both sides of the equation to eliminate the outer square root: \\\\[ x + \\\\sqrt{2x + 7} = 9. \\\\]', 'Isolate the inner square root by subtracting \\\\( x \\\\) from both sides: \\\\[ \\\\sqrt{2x + 7} = 9 - x. \\\\]', 'Square both sides again to eliminate the square root: \\\\[ 2x + 7 = (9 - x)^2. \\\\]', 'Expand the right side: \\\\[ 2x + 7 = 81 - 18x + x^2. \\\\]', 'Rearrange the equation to form a quadratic equation: \\\\[ x^2 - 20x + 74 = 0. \\\\]', 'Use the quadratic formula to solve for \\\\( x \\\\): \\\\[ x = \\\\frac{20 \\\\pm \\\\sqrt{(20)^2 - 4 \\\\cdot 1 \\\\cdot 74}}{2 \\\\cdot 1}. \\\\]', 'Calculate the discriminant: \\\\[ (20)^2 - 4 \\\\cdot 1 \\\\cdot 74 = 400 - 296 = 104. \\\\]', 'Calculate the square root of the discriminant: \\\\[ \\\\sqrt{104} = 2\\\\sqrt{26}. \\\\]', 'Substitute back into the quadratic formula: \\\\[ x = \\\\frac{20 \\\\pm 2\\\\sqrt{26}}{2}. \\\\]', 'Simplify the solutions: \\\\[ x = 10 \\\\pm \\\\sqrt{26}. \\\\]', 'Verify each solution by substituting back into the original equation to ensure they are valid real solutions.', 'The real solutions are \\\\( x = 10 + \\\\sqrt{26} \\\\) and \\\\( x = 10 - \\\\sqrt{26} \\\\).']}\n",
      "{'past_steps': [('Square both sides of the equation to eliminate the outer square root: \\\\[ x + \\\\sqrt{2x + 7} = 9. \\\\]', \"To execute step 1 and square both sides of the equation, we'll start with the given equation:\\n\\n\\\\[\\nx + \\\\sqrt{2x + 7} = 9\\n\\\\]\\n\\nSquare both sides:\\n\\n\\\\[\\n(x + \\\\sqrt{2x + 7})^2 = 9^2\\n\\\\]\\n\\nWhen squaring the left side, use the identity \\\\((a + b)^2 = a^2 + 2ab + b^2\\\\), where \\\\(a = x\\\\) and \\\\(b = \\\\sqrt{2x + 7}\\\\):\\n\\n\\\\[\\nx^2 + 2x\\\\sqrt{2x + 7} + (2x + 7) = 81\\n\\\\]\\n\\nSimplify the equation:\\n\\n\\\\[\\nx^2 + 2x\\\\sqrt{2x + 7} + 2x + 7 = 81\\n\\\\]\\n\\nThus, the result after squaring both sides is:\\n\\n\\\\[\\nx^2 + 2x\\\\sqrt{2x + 7} + 2x + 7 = 81\\n\\\\]\\n\\nNow, \\\\(2x\\\\sqrt{2x + 7}\\\\) is isolated, but for step 1, you needed to square both sides to eliminate the outer square root, which leads you to a new equation to further isolate and solve.\")]}\n",
      "{'plan': ['Isolate the inner square root by subtracting \\\\( x \\\\) from both sides: \\\\[ \\\\sqrt{2x + 7} = 9 - x. \\\\]', 'Square both sides again to eliminate the square root: \\\\[ 2x + 7 = (9 - x)^2. \\\\]', 'Expand the right side: \\\\[ 2x + 7 = 81 - 18x + x^2. \\\\]', 'Rearrange the equation to form a quadratic equation: \\\\[ x^2 - 20x + 74 = 0. \\\\]', 'Use the quadratic formula to solve for \\\\( x \\\\): \\\\[ x = \\\\frac{20 \\\\pm \\\\sqrt{(20)^2 - 4 \\\\cdot 1 \\\\cdot 74}}{2 \\\\cdot 1}. \\\\]', 'Calculate the discriminant: \\\\[ (20)^2 - 4 \\\\cdot 1 \\\\cdot 74 = 400 - 296 = 104. \\\\]', 'Calculate the square root of the discriminant: \\\\[ \\\\sqrt{104} = 2\\\\sqrt{26}. \\\\]', 'Substitute back into the quadratic formula: \\\\[ x = \\\\frac{20 \\\\pm 2\\\\sqrt{26}}{2}. \\\\]', 'Simplify the solutions: \\\\[ x = 10 \\\\pm \\\\sqrt{26}. \\\\]', 'Verify each solution by substituting back into the original equation to ensure they are valid real solutions.', 'The real solutions are \\\\( x = 10 + \\\\sqrt{26} \\\\) and \\\\( x = 10 - \\\\sqrt{26} \\\\).']}\n",
      "{'past_steps': [('Isolate the inner square root by subtracting \\\\( x \\\\) from both sides: \\\\[ \\\\sqrt{2x + 7} = 9 - x. \\\\]', 'To isolate the inner square root, we start with the original equation given in the plan, which is in a form like this:\\n\\n\\\\[\\n\\\\sqrt{2x + 7} + x = 9\\n\\\\]\\n\\nWe need to isolate \\\\(\\\\sqrt{2x + 7}\\\\) on one side of the equation. To do this, we subtract \\\\(x\\\\) from both sides:\\n\\n\\\\[\\n\\\\sqrt{2x + 7} = 9 - x\\n\\\\]\\n\\nThis completes step 1 as described in the plan. The inner square root is isolated, and the equation is now set up for further steps.')]}\n",
      "{'plan': ['Square both sides again to eliminate the square root: \\\\[ 2x + 7 = (9 - x)^2. \\\\]', 'Expand the right side: \\\\[ 2x + 7 = 81 - 18x + x^2. \\\\]', 'Rearrange the equation to form a quadratic equation: \\\\[ x^2 - 20x + 74 = 0. \\\\]', 'Use the quadratic formula to solve for \\\\( x \\\\): \\\\[ x = \\\\frac{20 \\\\pm \\\\sqrt{(20)^2 - 4 \\\\cdot 1 \\\\cdot 74}}{2 \\\\cdot 1}. \\\\]', 'Calculate the discriminant: \\\\[ (20)^2 - 4 \\\\cdot 1 \\\\cdot 74 = 400 - 296 = 104. \\\\]', 'Calculate the square root of the discriminant: \\\\[ \\\\sqrt{104} = 2\\\\sqrt{26}. \\\\]', 'Substitute back into the quadratic formula: \\\\[ x = \\\\frac{20 \\\\pm 2\\\\sqrt{26}}{2}. \\\\]', 'Simplify the solutions: \\\\[ x = 10 \\\\pm \\\\sqrt{26}. \\\\]', 'Verify each solution by substituting back into the original equation to ensure they are valid real solutions.', 'The real solutions are \\\\( x = 10 + \\\\sqrt{26} \\\\) and \\\\( x = 10 - \\\\sqrt{26} \\\\).']}\n",
      "{'past_steps': [('Square both sides again to eliminate the square root: \\\\[ 2x + 7 = (9 - x)^2. \\\\]', \"To execute step 1, we need to square both sides of an equation where the original step involved a square root. However, step 1 in the given plan seems to already provide an equation \\\\( 2x + 7 = (9 - x)^2 \\\\), which suggests that the square root has already been eliminated.\\n\\nLet's clarify what this setup implies:\\n\\n1. The assumed **original equation** involving a square root might have looked like this: \\\\( \\\\sqrt{2x + 7} = 9 - x \\\\).\\n   \\n2. To eliminate the square root from \\\\( \\\\sqrt{2x + 7} = 9 - x \\\\), you indeed square both sides:\\n   - Square the left side: \\\\((\\\\sqrt{2x + 7})^2 = 2x + 7\\\\).\\n   - Square the right side: \\\\((9 - x)^2 = 81 - 18x + x^2\\\\).\\n\\nAfter squaring both sides, you indeed arrive at the same equation given in step 1 of the plan:\\n\\n\\\\[ 2x + 7 = (9 - x)^2. \\\\]\\n\\nSo, step 1 has effectively squared both sides to remove the square root, resulting in the quadratic equation provided. The next steps correctly expand the right side and proceed to solve the resulting quadratic equation.\")]}\n",
      "{'plan': ['Expand the right side of the equation: \\\\[ 2x + 7 = 81 - 18x + x^2. \\\\]', 'Rearrange the equation to form a quadratic equation: \\\\[ x^2 - 20x + 74 = 0. \\\\]', 'Use the quadratic formula to solve for \\\\( x \\\\): \\\\[ x = \\\\frac{20 \\\\pm \\\\sqrt{(20)^2 - 4 \\\\cdot 1 \\\\cdot 74}}{2 \\\\cdot 1}. \\\\]', 'Calculate the discriminant: \\\\[ (20)^2 - 4 \\\\cdot 1 \\\\cdot 74 = 400 - 296 = 104. \\\\]', 'Calculate the square root of the discriminant: \\\\[ \\\\sqrt{104} = 2\\\\sqrt{26}. \\\\]', 'Substitute back into the quadratic formula: \\\\[ x = \\\\frac{20 \\\\pm 2\\\\sqrt{26}}{2}. \\\\]', 'Simplify the solutions: \\\\[ x = 10 \\\\pm \\\\sqrt{26}. \\\\]', 'Verify each solution by substituting back into the original equation to ensure they are valid real solutions.', 'The real solutions are \\\\( x = 10 + \\\\sqrt{26} \\\\) and \\\\( x = 10 - \\\\sqrt{26} \\\\).']}\n",
      "{'past_steps': [('Expand the right side of the equation: \\\\[ 2x + 7 = 81 - 18x + x^2. \\\\]', 'To execute step 1, we need to expand the right side of the equation \\\\( 2x + 7 = 81 - 18x + x^2 \\\\). Since the right side is already expanded and there is no explicit mathematical operation like distribution or multiplication to perform, this step is essentially ready as is:\\n\\nThe equation is:\\n\\\\[ 2x + 7 = 81 - 18x + x^2. \\\\]\\n\\nThe right side, \\\\(81 - 18x + x^2\\\\), is already in expanded form.')]}\n",
      "{'plan': ['Rearrange the equation to form a quadratic equation: \\\\[ x^2 - 20x + 74 = 0. \\\\]', 'Use the quadratic formula to solve for \\\\( x \\\\): \\\\[ x = \\\\frac{20 \\\\pm \\\\sqrt{(20)^2 - 4 \\\\cdot 1 \\\\cdot 74}}{2 \\\\cdot 1}. \\\\]', 'Calculate the discriminant: \\\\[ (20)^2 - 4 \\\\cdot 1 \\\\cdot 74 = 400 - 296 = 104. \\\\]', 'Calculate the square root of the discriminant: \\\\[ \\\\sqrt{104} = 2\\\\sqrt{26}. \\\\]', 'Substitute back into the quadratic formula: \\\\[ x = \\\\frac{20 \\\\pm 2\\\\sqrt{26}}{2}. \\\\]', 'Simplify the solutions: \\\\[ x = 10 \\\\pm \\\\sqrt{26}. \\\\]', 'Verify each solution by substituting back into the original equation to ensure they are valid real solutions.', 'The real solutions are \\\\( x = 10 + \\\\sqrt{26} \\\\) and \\\\( x = 10 - \\\\sqrt{26} \\\\).']}\n",
      "{'past_steps': [('Rearrange the equation to form a quadratic equation: \\\\[ x^2 - 20x + 74 = 0. \\\\]', 'Step 1 is to rearrange the given expression into the form of a quadratic equation. However, the equation provided, \\\\( x^2 - 20x + 74 = 0 \\\\), is already in the standard form of a quadratic equation, which is \\\\( ax^2 + bx + c = 0 \\\\). Here, the coefficients are \\\\( a = 1 \\\\), \\\\( b = -20 \\\\), and \\\\( c = 74 \\\\).\\n\\nSince the equation is already in quadratic form, you can proceed to the next steps, which involve solving it using the quadratic formula.')]}\n",
      "{'plan': ['Use the quadratic formula to solve for \\\\( x \\\\): \\\\[ x = \\\\frac{20 \\\\pm \\\\sqrt{(20)^2 - 4 \\\\cdot 1 \\\\cdot 74}}{2 \\\\cdot 1}. \\\\]', 'Calculate the discriminant: \\\\[ (20)^2 - 4 \\\\cdot 1 \\\\cdot 74 = 400 - 296 = 104. \\\\]', 'Calculate the square root of the discriminant: \\\\[ \\\\sqrt{104} = 2\\\\sqrt{26}. \\\\]', 'Substitute back into the quadratic formula: \\\\[ x = \\\\frac{20 \\\\pm 2\\\\sqrt{26}}{2}. \\\\]', 'Simplify the solutions: \\\\[ x = 10 \\\\pm \\\\sqrt{26}. \\\\]', 'Verify each solution by substituting back into the original equation to ensure they are valid real solutions.', 'The real solutions are \\\\( x = 10 + \\\\sqrt{26} \\\\) and \\\\( x = 10 - \\\\sqrt{26} \\\\).']}\n",
      "{'past_steps': [('Use the quadratic formula to solve for \\\\( x \\\\): \\\\[ x = \\\\frac{20 \\\\pm \\\\sqrt{(20)^2 - 4 \\\\cdot 1 \\\\cdot 74}}{2 \\\\cdot 1}. \\\\]', 'To execute step 1, we will use the quadratic formula to solve for \\\\( x \\\\) in the quadratic equation. The quadratic formula is:\\n\\n\\\\[ x = \\\\frac{-b \\\\pm \\\\sqrt{b^2 - 4ac}}{2a}, \\\\]\\n\\nwhere in this problem, \\\\( a = 1 \\\\), \\\\( b = 20 \\\\), and \\\\( c = 74 \\\\).\\n\\nPlug these values into the formula:\\n\\n\\\\[ x = \\\\frac{-20 \\\\pm \\\\sqrt{(20)^2 - 4 \\\\cdot 1 \\\\cdot 74}}{2 \\\\cdot 1}. \\\\]\\n\\nEvaluate the expression inside the square root (the discriminant) first:\\n\\n\\\\[ b^2 - 4ac = (20)^2 - 4 \\\\cdot 1 \\\\cdot 74 = 400 - 296 = 104. \\\\]\\n\\nSo the expression becomes:\\n\\n\\\\[ x = \\\\frac{-20 \\\\pm \\\\sqrt{104}}{2}. \\\\]\\n\\nThis is the solution using the quadratic formula. The discriminant is correct, and the expression for \\\\( x \\\\) is set up properly for further simplification in the next steps.')]}\n",
      "{'plan': ['Simplify the expression for \\\\( x \\\\) using the quadratic formula: \\\\[ x = \\\\frac{-20 \\\\pm \\\\sqrt{104}}{2}. \\\\]', 'Calculate the square root of the discriminant: \\\\[ \\\\sqrt{104} = 2\\\\sqrt{26}. \\\\]', 'Substitute back into the quadratic formula: \\\\[ x = \\\\frac{-20 \\\\pm 2\\\\sqrt{26}}{2}. \\\\]', 'Simplify the solutions: \\\\[ x = -10 \\\\pm \\\\sqrt{26}. \\\\]', 'Verify each solution by substituting back into the original equation to ensure they are valid real solutions.', 'The real solutions are \\\\( x = -10 + \\\\sqrt{26} \\\\) and \\\\( x = -10 - \\\\sqrt{26} \\\\).']}\n",
      "{'past_steps': [('Simplify the expression for \\\\( x \\\\) using the quadratic formula: \\\\[ x = \\\\frac{-20 \\\\pm \\\\sqrt{104}}{2}. \\\\]', \"To simplify the expression for \\\\( x \\\\) using the quadratic formula, we start with:\\n\\n\\\\[\\nx = \\\\frac{-20 \\\\pm \\\\sqrt{104}}{2}\\n\\\\]\\n\\nFirst, let's address the denominator. Both terms in the numerator and the denominator have a factor of 2, allowing us to simplify the fraction by dividing each term by 2:\\n\\n1. Divide \\\\(-20\\\\) by 2, which gives \\\\(-10\\\\).\\n2. Divide \\\\(\\\\pm \\\\sqrt{104}\\\\) by 2, which gives \\\\(\\\\pm \\\\frac{\\\\sqrt{104}}{2}\\\\).\\n\\nThus, the expression simplifies to:\\n\\n\\\\[\\nx = -10 \\\\pm \\\\frac{\\\\sqrt{104}}{2}\\n\\\\]\\n\\nThis matches the process described in the plan's further steps, leading towards the final simplified form:\\n\\n\\\\[\\nx = -10 \\\\pm \\\\sqrt{26}\\n\\\\]\\n\\nSo the expression \\\\( x = \\\\frac{-20 \\\\pm \\\\sqrt{104}}{2} \\\\) simplifies to:\\n\\n\\\\[\\nx = -10 \\\\pm \\\\sqrt{26}\\n\\\\]\")]}\n",
      "{'response': 'The plan has been successfully executed up to the point of finding the solutions for \\\\( x \\\\). The remaining step is to verify these solutions to ensure they satisfy the original equation. Here is the final step needed:\\n\\n### Final Step:\\n\\n1. **Verify the Solutions:**\\n   - Substitute \\\\( x = -10 + \\\\sqrt{26} \\\\) back into the original equation \\\\( \\\\sqrt{x + \\\\sqrt{2x + 7}} = 3 \\\\) to check if it holds true.\\n   - Substitute \\\\( x = -10 - \\\\sqrt{26} \\\\) back into the original equation to check if it holds true.\\n   - If both substitutions satisfy the original equation, then both are valid real solutions.\\n\\nOnce this verification is complete, you can confidently conclude that the real solutions to the equation are \\\\( x = -10 + \\\\sqrt{26} \\\\) and \\\\( x = -10 - \\\\sqrt{26} \\\\). If any solution does not satisfy the original equation, it should be discarded.'}\n"
     ]
    }
   ],
   "source": [
    "config = {\"recursion_limit\": 50}\n",
    "inputs = {\"input\": \"Solve for all real solutions x to the equation: sqrt(x + sqrt(2x + 7)) = 3\"}\n",
    "async for event in app.astream(inputs, config=config):\n",
    "    for k, v in event.items():\n",
    "        if k != \"__end__\":\n",
    "            print(v)"
   ]
  }
 ],
 "metadata": {
  "colab": {
   "authorship_tag": "ABX9TyOWXHKCKLSq4HwBu3blC/pZ",
   "provenance": [],
   "toc_visible": true
  },
  "kernelspec": {
   "display_name": "Python 3",
   "name": "python3"
  },
  "language_info": {
   "name": "python"
  }
 },
 "nbformat": 4,
 "nbformat_minor": 0
}
