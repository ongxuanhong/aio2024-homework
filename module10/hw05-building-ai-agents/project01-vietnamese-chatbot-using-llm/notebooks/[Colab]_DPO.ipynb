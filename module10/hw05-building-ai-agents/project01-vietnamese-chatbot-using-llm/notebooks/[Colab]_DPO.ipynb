{
 "cells": [
  {
   "cell_type": "code",
   "execution_count": 8,
   "id": "17065ffa",
   "metadata": {},
   "outputs": [],
   "source": [
    "import torch\n",
    "from torch import nn\n",
    "from transformers import AutoModelForCausalLM, AutoTokenizer"
   ]
  },
  {
   "cell_type": "code",
   "execution_count": 2,
   "id": "cf1ed727",
   "metadata": {},
   "outputs": [
    {
     "data": {
      "text/plain": [
       "LlamaForCausalLM(\n",
       "  (model): LlamaModel(\n",
       "    (embed_tokens): Embedding(128256, 2048)\n",
       "    (layers): ModuleList(\n",
       "      (0-15): 16 x LlamaDecoderLayer(\n",
       "        (self_attn): LlamaAttention(\n",
       "          (q_proj): Linear(in_features=2048, out_features=2048, bias=False)\n",
       "          (k_proj): Linear(in_features=2048, out_features=512, bias=False)\n",
       "          (v_proj): Linear(in_features=2048, out_features=512, bias=False)\n",
       "          (o_proj): Linear(in_features=2048, out_features=2048, bias=False)\n",
       "        )\n",
       "        (mlp): LlamaMLP(\n",
       "          (gate_proj): Linear(in_features=2048, out_features=8192, bias=False)\n",
       "          (up_proj): Linear(in_features=2048, out_features=8192, bias=False)\n",
       "          (down_proj): Linear(in_features=8192, out_features=2048, bias=False)\n",
       "          (act_fn): SiLU()\n",
       "        )\n",
       "        (input_layernorm): LlamaRMSNorm((2048,), eps=1e-05)\n",
       "        (post_attention_layernorm): LlamaRMSNorm((2048,), eps=1e-05)\n",
       "      )\n",
       "    )\n",
       "    (norm): LlamaRMSNorm((2048,), eps=1e-05)\n",
       "    (rotary_emb): LlamaRotaryEmbedding()\n",
       "  )\n",
       "  (lm_head): Linear(in_features=2048, out_features=128256, bias=False)\n",
       ")"
      ]
     },
     "execution_count": 2,
     "metadata": {},
     "output_type": "execute_result"
    }
   ],
   "source": [
    "model_name = \"meta-llama/Llama-3.2-1B\"\n",
    "tokenizer = AutoTokenizer.from_pretrained(model_name)\n",
    "tokenizer.pad_token = tokenizer.eos_token\n",
    "\n",
    "# Policy model (trainable)\n",
    "policy_model = AutoModelForCausalLM.from_pretrained(model_name)\n",
    "policy_model.train()\n",
    "\n",
    "# Reference model (fixed, no grad)\n",
    "reference_model = AutoModelForCausalLM.from_pretrained(model_name)\n",
    "reference_model.eval()"
   ]
  },
  {
   "cell_type": "code",
   "execution_count": 3,
   "id": "50d85da1",
   "metadata": {},
   "outputs": [],
   "source": [
    "sample = {\n",
    "    \"prompt\": \"The weather today is\",\n",
    "    \"chosen\": \" sunny and warm.\",\n",
    "    \"rejected\": \" not a banana.\"\n",
    "}\n",
    "\n",
    "prompt = sample[\"prompt\"]\n",
    "\n",
    "# Tokenize\n",
    "chosen = tokenizer(\n",
    "    prompt + sample[\"chosen\"], return_tensors=\"pt\", padding=True\n",
    ")\n",
    "rejected = tokenizer(\n",
    "    prompt + sample[\"rejected\"], return_tensors=\"pt\", padding=True\n",
    ")"
   ]
  },
  {
   "cell_type": "code",
   "execution_count": 4,
   "id": "55cec8f7",
   "metadata": {},
   "outputs": [],
   "source": [
    "# Forward pass - policy model\n",
    "policy_chosen_outputs = policy_model(**chosen)\n",
    "policy_rejected_outputs = policy_model(**rejected)\n",
    "\n",
    "# Forward pass - reference model (no_grad)\n",
    "with torch.no_grad():\n",
    "    ref_chosen_outputs = reference_model(**chosen)\n",
    "    ref_rejected_outputs = reference_model(**rejected)"
   ]
  },
  {
   "cell_type": "code",
   "execution_count": 5,
   "id": "fbcbbdbd",
   "metadata": {},
   "outputs": [],
   "source": [
    "# Get logits\n",
    "def compute_log_prob(outputs, inputs):\n",
    "    logits = outputs.logits[:, :-1, :]\n",
    "    labels = inputs[\"input_ids\"][:, 1:]\n",
    "    log_probs = torch.gather(\n",
    "        logits.log_softmax(dim=-1), dim=2, index=labels.unsqueeze(-1)\n",
    "    ).squeeze(-1).sum(dim=1)\n",
    "    return log_probs\n",
    "\n",
    "policy_chosen_logp = compute_log_prob(policy_chosen_outputs, chosen)\n",
    "policy_rejected_logp = compute_log_prob(policy_rejected_outputs, rejected)\n",
    "ref_chosen_logp = compute_log_prob(ref_chosen_outputs, chosen)\n",
    "ref_rejected_logp = compute_log_prob(ref_rejected_outputs, rejected)"
   ]
  },
  {
   "cell_type": "code",
   "execution_count": 6,
   "id": "a018f2ea",
   "metadata": {},
   "outputs": [
    {
     "data": {
      "text/plain": [
       "tensor(0.6931, grad_fn=<NegBackward0>)"
      ]
     },
     "execution_count": 6,
     "metadata": {},
     "output_type": "execute_result"
    }
   ],
   "source": [
    "# DPO loss function\n",
    "beta = 0.1\n",
    "\n",
    "diff = (policy_chosen_logp - ref_chosen_logp) - (policy_rejected_logp - ref_rejected_logp)\n",
    "dpo_loss = -torch.nn.functional.logsigmoid(beta * diff).mean()\n",
    "dpo_loss"
   ]
  }
 ],
 "metadata": {
  "kernelspec": {
   "display_name": "dpo-ppo",
   "language": "python",
   "name": "python3"
  },
  "language_info": {
   "codemirror_mode": {
    "name": "ipython",
    "version": 3
   },
   "file_extension": ".py",
   "mimetype": "text/x-python",
   "name": "python",
   "nbconvert_exporter": "python",
   "pygments_lexer": "ipython3",
   "version": "3.12.9"
  }
 },
 "nbformat": 4,
 "nbformat_minor": 5
}
