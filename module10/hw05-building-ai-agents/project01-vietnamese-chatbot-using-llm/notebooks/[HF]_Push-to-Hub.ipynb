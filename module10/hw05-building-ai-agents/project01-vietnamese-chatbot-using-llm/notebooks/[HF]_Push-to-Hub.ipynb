{
 "cells": [
  {
   "cell_type": "code",
   "execution_count": 1,
   "id": "a497e667",
   "metadata": {},
   "outputs": [
    {
     "name": "stdout",
     "output_type": "stream",
     "text": [
      "Requirement already satisfied: huggingface_hub in /mnt/dataset1/thuannd/miniconda3/envs/llm-rlhf/lib/python3.11/site-packages (0.30.2)\n",
      "Requirement already satisfied: filelock in /mnt/dataset1/thuannd/miniconda3/envs/llm-rlhf/lib/python3.11/site-packages (from huggingface_hub) (3.18.0)\n",
      "Requirement already satisfied: fsspec>=2023.5.0 in /mnt/dataset1/thuannd/miniconda3/envs/llm-rlhf/lib/python3.11/site-packages (from huggingface_hub) (2025.3.0)\n",
      "Requirement already satisfied: packaging>=20.9 in /mnt/dataset1/thuannd/miniconda3/envs/llm-rlhf/lib/python3.11/site-packages (from huggingface_hub) (25.0)\n",
      "Requirement already satisfied: pyyaml>=5.1 in /mnt/dataset1/thuannd/miniconda3/envs/llm-rlhf/lib/python3.11/site-packages (from huggingface_hub) (6.0.2)\n",
      "Requirement already satisfied: requests in /mnt/dataset1/thuannd/miniconda3/envs/llm-rlhf/lib/python3.11/site-packages (from huggingface_hub) (2.32.3)\n",
      "Requirement already satisfied: tqdm>=4.42.1 in /mnt/dataset1/thuannd/miniconda3/envs/llm-rlhf/lib/python3.11/site-packages (from huggingface_hub) (4.67.1)\n",
      "Requirement already satisfied: typing-extensions>=3.7.4.3 in /mnt/dataset1/thuannd/miniconda3/envs/llm-rlhf/lib/python3.11/site-packages (from huggingface_hub) (4.13.2)\n",
      "Requirement already satisfied: charset-normalizer<4,>=2 in /mnt/dataset1/thuannd/miniconda3/envs/llm-rlhf/lib/python3.11/site-packages (from requests->huggingface_hub) (3.4.2)\n",
      "Requirement already satisfied: idna<4,>=2.5 in /mnt/dataset1/thuannd/miniconda3/envs/llm-rlhf/lib/python3.11/site-packages (from requests->huggingface_hub) (3.10)\n",
      "Requirement already satisfied: urllib3<3,>=1.21.1 in /mnt/dataset1/thuannd/miniconda3/envs/llm-rlhf/lib/python3.11/site-packages (from requests->huggingface_hub) (2.4.0)\n",
      "Requirement already satisfied: certifi>=2017.4.17 in /mnt/dataset1/thuannd/miniconda3/envs/llm-rlhf/lib/python3.11/site-packages (from requests->huggingface_hub) (2025.4.26)\n"
     ]
    }
   ],
   "source": [
    "!pip install huggingface_hub"
   ]
  },
  {
   "cell_type": "code",
   "execution_count": 1,
   "id": "5dca36b5",
   "metadata": {},
   "outputs": [],
   "source": [
    "from transformers import AutoTokenizer, AutoModelForCausalLM\n",
    "\n",
    "ckpt_path = \"OpenRLHF/examples/checkpoint/Llama-3.2-1B-RLHF-2k\"\n",
    "tokenizer = AutoTokenizer.from_pretrained(ckpt_path)\n",
    "model = AutoModelForCausalLM.from_pretrained(ckpt_path)"
   ]
  },
  {
   "cell_type": "code",
   "execution_count": 2,
   "id": "a2d0ae3f",
   "metadata": {},
   "outputs": [
    {
     "data": {
      "text/plain": [
       "transformers.models.llama.modeling_llama.LlamaForCausalLM"
      ]
     },
     "execution_count": 2,
     "metadata": {},
     "output_type": "execute_result"
    }
   ],
   "source": [
    "type(model)"
   ]
  },
  {
   "cell_type": "code",
   "execution_count": 3,
   "id": "e91a8683",
   "metadata": {},
   "outputs": [
    {
     "data": {
      "text/plain": [
       "transformers.tokenization_utils_fast.PreTrainedTokenizerFast"
      ]
     },
     "execution_count": 3,
     "metadata": {},
     "output_type": "execute_result"
    }
   ],
   "source": [
    "type(tokenizer)"
   ]
  },
  {
   "cell_type": "code",
   "execution_count": 4,
   "id": "02882d27",
   "metadata": {},
   "outputs": [
    {
     "data": {
      "application/vnd.jupyter.widget-view+json": {
       "model_id": "4d3f89d45f354be6bd2bce9c9ba91899",
       "version_major": 2,
       "version_minor": 0
      },
      "text/plain": [
       "model.safetensors:   0%|          | 0.00/4.94G [00:00<?, ?B/s]"
      ]
     },
     "metadata": {},
     "output_type": "display_data"
    },
    {
     "data": {
      "text/plain": [
       "CommitInfo(commit_url='https://huggingface.co/thuanan/Llama-3.2-1B-RLHF-2k-vi-alpaca/commit/b045040264edfd232e858e6ef16e7024768abb77', commit_message='Add model ckpt', commit_description='', oid='b045040264edfd232e858e6ef16e7024768abb77', pr_url=None, repo_url=RepoUrl('https://huggingface.co/thuanan/Llama-3.2-1B-RLHF-2k-vi-alpaca', endpoint='https://huggingface.co', repo_type='model', repo_id='thuanan/Llama-3.2-1B-RLHF-2k-vi-alpaca'), pr_revision=None, pr_num=None)"
      ]
     },
     "execution_count": 4,
     "metadata": {},
     "output_type": "execute_result"
    }
   ],
   "source": [
    "model.push_to_hub(\n",
    "    \"thuanan/Llama-3.2-1B-RLHF-2k-vi-alpaca\",\n",
    "    commit_message=\"Add model ckpt\",\n",
    ")"
   ]
  },
  {
   "cell_type": "code",
   "execution_count": 5,
   "id": "9d2bbc43",
   "metadata": {},
   "outputs": [
    {
     "data": {
      "application/vnd.jupyter.widget-view+json": {
       "model_id": "c394d1ff58864a47b252d6ea90a6d97a",
       "version_major": 2,
       "version_minor": 0
      },
      "text/plain": [
       "tokenizer.json:   0%|          | 0.00/17.2M [00:00<?, ?B/s]"
      ]
     },
     "metadata": {},
     "output_type": "display_data"
    },
    {
     "data": {
      "text/plain": [
       "CommitInfo(commit_url='https://huggingface.co/thuanan/Llama-3.2-1B-RLHF-2k-vi-alpaca/commit/15d4ed5fbefa50d788e9eeaa4d926acd31147e8b', commit_message='Add tokenizer ckpt', commit_description='', oid='15d4ed5fbefa50d788e9eeaa4d926acd31147e8b', pr_url=None, repo_url=RepoUrl('https://huggingface.co/thuanan/Llama-3.2-1B-RLHF-2k-vi-alpaca', endpoint='https://huggingface.co', repo_type='model', repo_id='thuanan/Llama-3.2-1B-RLHF-2k-vi-alpaca'), pr_revision=None, pr_num=None)"
      ]
     },
     "execution_count": 5,
     "metadata": {},
     "output_type": "execute_result"
    }
   ],
   "source": [
    "tokenizer.push_to_hub(\n",
    "    \"thuanan/Llama-3.2-1B-RLHF-2k-vi-alpaca\",\n",
    "    commit_message=\"Add tokenizer ckpt\",\n",
    ")"
   ]
  }
 ],
 "metadata": {
  "kernelspec": {
   "display_name": "llm-rlhf",
   "language": "python",
   "name": "python3"
  },
  "language_info": {
   "codemirror_mode": {
    "name": "ipython",
    "version": 3
   },
   "file_extension": ".py",
   "mimetype": "text/x-python",
   "name": "python",
   "nbconvert_exporter": "python",
   "pygments_lexer": "ipython3",
   "version": "3.11.9"
  }
 },
 "nbformat": 4,
 "nbformat_minor": 5
}
