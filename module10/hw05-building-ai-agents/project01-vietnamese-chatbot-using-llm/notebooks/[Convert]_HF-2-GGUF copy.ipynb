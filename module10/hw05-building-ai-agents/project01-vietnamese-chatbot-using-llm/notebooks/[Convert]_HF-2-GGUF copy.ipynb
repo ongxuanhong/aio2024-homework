{
 "cells": [
  {
   "cell_type": "markdown",
   "id": "6e2ca589",
   "metadata": {},
   "source": [
    "# Hugging Face to GGUF Converter\n",
    "\n",
    "This notebook provides functionality to convert any Hugging Face model to GGUF format and optionally upload it back to Hugging Face."
   ]
  },
  {
   "cell_type": "code",
   "execution_count": null,
   "id": "1a37e4bc",
   "metadata": {},
   "outputs": [],
   "source": [
    "!pip3 install huggingface_hub"
   ]
  },
  {
   "cell_type": "code",
   "execution_count": null,
   "id": "42e74354",
   "metadata": {},
   "outputs": [],
   "source": [
    "!git clone https://github.com/ggerganov/llama.cpp.git\n",
    "\n",
    "%pip install -r llama.cpp/requirements.txt"
   ]
  },
  {
   "cell_type": "code",
   "execution_count": null,
   "id": "24382c87",
   "metadata": {},
   "outputs": [],
   "source": [
    "!pip install -r llama.cpp/requirements.txt"
   ]
  },
  {
   "cell_type": "code",
   "execution_count": null,
   "id": "b804dc5a",
   "metadata": {},
   "outputs": [],
   "source": [
    "from huggingface_hub import snapshot_download\n",
    "\n",
    "model_id=\"thuanan/Llama-3.2-1B-RLHF-2k-vi-alpaca\"\n",
    "snapshot_download(repo_id=model_id, local_dir=\"llama-rlhf\")"
   ]
  },
  {
   "cell_type": "code",
   "execution_count": null,
   "id": "ab62ab62",
   "metadata": {},
   "outputs": [],
   "source": [
    "!python llama.cpp/convert_hf_to_gguf.py llama-rlhf \\\n",
    "  --outfile thuanan/Llama-3.2-1B-RLHF-2k-vi-alpaca.gguf \\\n",
    "  --outtype bf16"
   ]
  },
  {
   "cell_type": "code",
   "execution_count": null,
   "id": "c5f1aa8d",
   "metadata": {},
   "outputs": [],
   "source": [
    "from huggingface_hub import HfApi\n",
    "api = HfApi()\n",
    "\n",
    "model_id = \"thuanan/Llama-3.2-1B-RLHF-2k-vi-alpaca-gguf\"\n",
    "api.create_repo(model_id, exist_ok=True, repo_type=\"model\")\n",
    "api.upload_file(\n",
    "    path_or_fileobj=\"Llama-3.2-1B-RLHF-2k-vi-alpaca.gguf\",\n",
    "    path_in_repo=\"Llama-3.2-1B-RLHF-2k-vi-alpaca.gguf\",\n",
    "    repo_id=model_id,\n",
    ")"
   ]
  }
 ],
 "metadata": {
  "kernelspec": {
   "display_name": "dpo-ppo",
   "language": "python",
   "name": "python3"
  },
  "language_info": {
   "codemirror_mode": {
    "name": "ipython",
    "version": 3
   },
   "file_extension": ".py",
   "mimetype": "text/x-python",
   "name": "python",
   "nbconvert_exporter": "python",
   "pygments_lexer": "ipython3",
   "version": "3.12.9"
  }
 },
 "nbformat": 4,
 "nbformat_minor": 5
}
