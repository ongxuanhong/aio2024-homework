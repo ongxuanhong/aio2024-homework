{
 "cells": [
  {
   "cell_type": "markdown",
   "id": "401ac55a",
   "metadata": {},
   "source": [
    "### Clone and install the repository"
   ]
  },
  {
   "cell_type": "code",
   "execution_count": null,
   "id": "3550a6d8",
   "metadata": {},
   "outputs": [],
   "source": [
    "!git clone https://github.com/OpenRLHF/OpenRLHF.git"
   ]
  },
  {
   "cell_type": "code",
   "execution_count": 1,
   "id": "20aeec85",
   "metadata": {},
   "outputs": [
    {
     "name": "stdout",
     "output_type": "stream",
     "text": [
      "/mnt/dataset1/thuannd/Repository/aivn-aio2024-chatbot-llm-rlhf/OpenRLHF\n"
     ]
    }
   ],
   "source": [
    "%cd OpenRLHF"
   ]
  },
  {
   "cell_type": "code",
   "execution_count": null,
   "id": "9f8193d4",
   "metadata": {},
   "outputs": [],
   "source": [
    "!pip install openrlhf[vllm_latest]"
   ]
  },
  {
   "cell_type": "markdown",
   "id": "c3773a6d",
   "metadata": {},
   "source": [
    "### Train Reward Model"
   ]
  },
  {
   "cell_type": "code",
   "execution_count": null,
   "id": "2230458c",
   "metadata": {},
   "outputs": [],
   "source": [
    "!deepspeed --module openrlhf.cli.train_rm \\\n",
    "   --save_path ./checkpoint/Llama-3.2-1B-rm-dpo \\\n",
    "   --save_steps -1 \\\n",
    "   --logging_steps 1 \\\n",
    "   --eval_steps -1 \\\n",
    "   --train_batch_size 96 \\\n",
    "   --micro_train_batch_size 8 \\\n",
    "   --pretrain thuanan/Llama-3.2-1B-Instruct-Chat-sft \\\n",
    "   --value_head_prefix score \\\n",
    "   --bf16 \\\n",
    "   --max_epochs 1 \\\n",
    "   --max_len 2048 \\\n",
    "   --zero_stage 2 \\\n",
    "   --learning_rate 5e-6 \\\n",
    "   --dataset thuanan/Vi-Alpaca-Preference \\\n",
    "   --apply_chat_template \\\n",
    "   --chosen_key chosen \\\n",
    "   --rejected_key rejected \\\n",
    "   --flash_attn \\\n",
    "   --load_checkpoint \\\n",
    "   --packing_samples \\\n",
    "   --gradient_checkpointing \\\n",
    "   --adam_offload \\\n",
    "   --lora_rank 16 \\\n",
    "   --lora_alpha 32"
   ]
  },
  {
   "cell_type": "markdown",
   "id": "bc2cada6",
   "metadata": {},
   "source": [
    "### Merge LoRA Adapter Weights"
   ]
  },
  {
   "cell_type": "code",
   "execution_count": 3,
   "id": "e56d0f13",
   "metadata": {},
   "outputs": [
    {
     "name": "stdout",
     "output_type": "stream",
     "text": [
      "Loading the base model from /mnt/dataset1/thuannd/Repository/aivn-aio2024-chatbot-llm-rlhf/checkpoint/Llama-3.2-1B-rm-init\n",
      "Loading the LoRA adapter from ./checkpoint/Llama-3.2-1B-rm-dpo\n",
      "Applying and merging the LoRA weights\n",
      "Saving the complete model to ./checkpoint/Llama-3.2-1B-rm-dpo-combined\n"
     ]
    }
   ],
   "source": [
    "!python -m openrlhf.cli.lora_combiner \\\n",
    "   --model_path /mnt/dataset1/thuannd/Repository/aivn-aio2024-chatbot-llm-rlhf/checkpoint/Llama-3.2-1B-rm-init \\\n",
    "   --lora_path ./checkpoint/Llama-3.2-1B-rm-dpo \\\n",
    "   --output_path ./checkpoint/Llama-3.2-1B-rm-dpo-combined \\\n",
    "   --is_rm \\\n",
    "   --bf16"
   ]
  },
  {
   "cell_type": "markdown",
   "id": "159bfa4f",
   "metadata": {},
   "source": [
    "### Push to Hugging Face Hub"
   ]
  },
  {
   "cell_type": "code",
   "execution_count": 12,
   "id": "618ef71a",
   "metadata": {},
   "outputs": [],
   "source": [
    "from transformers import AutoTokenizer, AutoModelForSequenceClassification\n",
    "\n",
    "ckpt_path = \"./checkpoint/Llama-3.2-1B-rm-dpo-combined\"\n",
    "tokenizer = AutoTokenizer.from_pretrained(ckpt_path)\n",
    "model = AutoModelForSequenceClassification.from_pretrained(ckpt_path)"
   ]
  },
  {
   "cell_type": "code",
   "execution_count": 13,
   "id": "a7e25970",
   "metadata": {},
   "outputs": [
    {
     "data": {
      "text/plain": [
       "transformers.models.llama.modeling_llama.LlamaForSequenceClassification"
      ]
     },
     "execution_count": 13,
     "metadata": {},
     "output_type": "execute_result"
    }
   ],
   "source": [
    "type(model)"
   ]
  },
  {
   "cell_type": "code",
   "execution_count": 14,
   "id": "85628d76",
   "metadata": {},
   "outputs": [
    {
     "data": {
      "text/plain": [
       "LlamaForSequenceClassification(\n",
       "  (model): LlamaModel(\n",
       "    (embed_tokens): Embedding(128256, 2048, padding_idx=128004)\n",
       "    (layers): ModuleList(\n",
       "      (0-15): 16 x LlamaDecoderLayer(\n",
       "        (self_attn): LlamaAttention(\n",
       "          (q_proj): Linear(in_features=2048, out_features=2048, bias=False)\n",
       "          (k_proj): Linear(in_features=2048, out_features=512, bias=False)\n",
       "          (v_proj): Linear(in_features=2048, out_features=512, bias=False)\n",
       "          (o_proj): Linear(in_features=2048, out_features=2048, bias=False)\n",
       "        )\n",
       "        (mlp): LlamaMLP(\n",
       "          (gate_proj): Linear(in_features=2048, out_features=8192, bias=False)\n",
       "          (up_proj): Linear(in_features=2048, out_features=8192, bias=False)\n",
       "          (down_proj): Linear(in_features=8192, out_features=2048, bias=False)\n",
       "          (act_fn): SiLU()\n",
       "        )\n",
       "        (input_layernorm): LlamaRMSNorm((2048,), eps=1e-05)\n",
       "        (post_attention_layernorm): LlamaRMSNorm((2048,), eps=1e-05)\n",
       "      )\n",
       "    )\n",
       "    (norm): LlamaRMSNorm((2048,), eps=1e-05)\n",
       "    (rotary_emb): LlamaRotaryEmbedding()\n",
       "  )\n",
       "  (score): Linear(in_features=2048, out_features=1, bias=False)\n",
       ")"
      ]
     },
     "execution_count": 14,
     "metadata": {},
     "output_type": "execute_result"
    }
   ],
   "source": [
    "model"
   ]
  },
  {
   "cell_type": "code",
   "execution_count": 31,
   "id": "32894d4e",
   "metadata": {},
   "outputs": [
    {
     "data": {
      "application/vnd.jupyter.widget-view+json": {
       "model_id": "1652778eda464a6b91c162250852d454",
       "version_major": 2,
       "version_minor": 0
      },
      "text/plain": [
       "model.safetensors:   0%|          | 0.00/4.94G [00:00<?, ?B/s]"
      ]
     },
     "metadata": {},
     "output_type": "display_data"
    },
    {
     "data": {
      "text/plain": [
       "CommitInfo(commit_url='https://huggingface.co/thuanan/Llama-3.2-1B-RM-DPO/commit/35273dea7e8a6fa128ed8d53a7e4b429ad12ffaa', commit_message='Add model ckpt', commit_description='', oid='35273dea7e8a6fa128ed8d53a7e4b429ad12ffaa', pr_url=None, repo_url=RepoUrl('https://huggingface.co/thuanan/Llama-3.2-1B-RM-DPO', endpoint='https://huggingface.co', repo_type='model', repo_id='thuanan/Llama-3.2-1B-RM-DPO'), pr_revision=None, pr_num=None)"
      ]
     },
     "execution_count": 31,
     "metadata": {},
     "output_type": "execute_result"
    }
   ],
   "source": [
    "model.push_to_hub(\n",
    "    \"thuanan/Llama-3.2-1B-RM-DPO\",\n",
    "    commit_message=\"Add model ckpt\",\n",
    ")"
   ]
  },
  {
   "cell_type": "code",
   "execution_count": 32,
   "id": "470292a3",
   "metadata": {},
   "outputs": [
    {
     "data": {
      "application/vnd.jupyter.widget-view+json": {
       "model_id": "233def230f424557982358d0a484d0fc",
       "version_major": 2,
       "version_minor": 0
      },
      "text/plain": [
       "tokenizer.json:   0%|          | 0.00/17.2M [00:00<?, ?B/s]"
      ]
     },
     "metadata": {},
     "output_type": "display_data"
    },
    {
     "data": {
      "text/plain": [
       "CommitInfo(commit_url='https://huggingface.co/thuanan/Llama-3.2-1B-RM-DPO/commit/740231d7bb2e843aadeea234cb5088f5b8a43140', commit_message='Add tokenizer', commit_description='', oid='740231d7bb2e843aadeea234cb5088f5b8a43140', pr_url=None, repo_url=RepoUrl('https://huggingface.co/thuanan/Llama-3.2-1B-RM-DPO', endpoint='https://huggingface.co', repo_type='model', repo_id='thuanan/Llama-3.2-1B-RM-DPO'), pr_revision=None, pr_num=None)"
      ]
     },
     "execution_count": 32,
     "metadata": {},
     "output_type": "execute_result"
    }
   ],
   "source": [
    "tokenizer.push_to_hub(\n",
    "    \"thuanan/Llama-3.2-1B-RM-DPO\",\n",
    "    commit_message=\"Add tokenizer\",\n",
    ")"
   ]
  },
  {
   "cell_type": "markdown",
   "id": "15e54239",
   "metadata": {},
   "source": [
    "### Test Reward Model"
   ]
  },
  {
   "cell_type": "code",
   "execution_count": 26,
   "id": "3aa1222d",
   "metadata": {},
   "outputs": [],
   "source": [
    "inputs = tokenizer(\n",
    "    \"Tại sao bạn lại thích học lập trình?\",\n",
    "    return_tensors=\"pt\",\n",
    "    max_length=2048,\n",
    "    truncation=True,\n",
    ")"
   ]
  },
  {
   "cell_type": "code",
   "execution_count": 27,
   "id": "79b08831",
   "metadata": {},
   "outputs": [
    {
     "data": {
      "text/plain": [
       "LlamaForSequenceClassification(\n",
       "  (model): LlamaModel(\n",
       "    (embed_tokens): Embedding(128256, 2048, padding_idx=128004)\n",
       "    (layers): ModuleList(\n",
       "      (0-15): 16 x LlamaDecoderLayer(\n",
       "        (self_attn): LlamaAttention(\n",
       "          (q_proj): Linear(in_features=2048, out_features=2048, bias=False)\n",
       "          (k_proj): Linear(in_features=2048, out_features=512, bias=False)\n",
       "          (v_proj): Linear(in_features=2048, out_features=512, bias=False)\n",
       "          (o_proj): Linear(in_features=2048, out_features=2048, bias=False)\n",
       "        )\n",
       "        (mlp): LlamaMLP(\n",
       "          (gate_proj): Linear(in_features=2048, out_features=8192, bias=False)\n",
       "          (up_proj): Linear(in_features=2048, out_features=8192, bias=False)\n",
       "          (down_proj): Linear(in_features=8192, out_features=2048, bias=False)\n",
       "          (act_fn): SiLU()\n",
       "        )\n",
       "        (input_layernorm): LlamaRMSNorm((2048,), eps=1e-05)\n",
       "        (post_attention_layernorm): LlamaRMSNorm((2048,), eps=1e-05)\n",
       "      )\n",
       "    )\n",
       "    (norm): LlamaRMSNorm((2048,), eps=1e-05)\n",
       "    (rotary_emb): LlamaRotaryEmbedding()\n",
       "  )\n",
       "  (score): Linear(in_features=2048, out_features=1, bias=False)\n",
       ")"
      ]
     },
     "execution_count": 27,
     "metadata": {},
     "output_type": "execute_result"
    }
   ],
   "source": [
    "model"
   ]
  },
  {
   "cell_type": "code",
   "execution_count": 28,
   "id": "472cd2d8",
   "metadata": {},
   "outputs": [
    {
     "data": {
      "text/plain": [
       "tensor([[[ 2.3110,  3.2832,  0.0715,  ..., -0.8754, -2.5920,  1.2897],\n",
       "         [ 0.1436, -0.1955,  0.9064,  ..., -1.4842, -3.2248, -0.3736],\n",
       "         [ 0.1863,  3.4998,  1.6896,  ...,  1.3823, -2.3932,  1.7603],\n",
       "         ...,\n",
       "         [-1.9774,  4.3347, -0.2467,  ...,  1.8927,  1.4284,  2.0450],\n",
       "         [-1.4019,  2.4985,  1.7585,  ..., -1.9504, -1.1227,  2.3001],\n",
       "         [-1.0206,  2.1333,  2.1011,  ..., -1.6172, -1.9382, -1.5404]]],\n",
       "       grad_fn=<MulBackward0>)"
      ]
     },
     "execution_count": 28,
     "metadata": {},
     "output_type": "execute_result"
    }
   ],
   "source": [
    "reward = model.model(**inputs).last_hidden_state\n",
    "reward\n"
   ]
  },
  {
   "cell_type": "code",
   "execution_count": 29,
   "id": "06a324d0",
   "metadata": {},
   "outputs": [
    {
     "data": {
      "text/plain": [
       "tensor([[0.0406]], grad_fn=<SelectBackward0>)"
      ]
     },
     "execution_count": 29,
     "metadata": {},
     "output_type": "execute_result"
    }
   ],
   "source": [
    "reward = model.score(reward)[:, -1]\n",
    "reward"
   ]
  }
 ],
 "metadata": {
  "kernelspec": {
   "display_name": "llm-rlhf",
   "language": "python",
   "name": "python3"
  },
  "language_info": {
   "codemirror_mode": {
    "name": "ipython",
    "version": 3
   },
   "file_extension": ".py",
   "mimetype": "text/x-python",
   "name": "python",
   "nbconvert_exporter": "python",
   "pygments_lexer": "ipython3",
   "version": "3.11.9"
  }
 },
 "nbformat": 4,
 "nbformat_minor": 5
}
