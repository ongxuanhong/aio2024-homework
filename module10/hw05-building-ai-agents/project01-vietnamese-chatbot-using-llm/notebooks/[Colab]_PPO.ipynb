{
 "cells": [
  {
   "cell_type": "code",
   "execution_count": 1,
   "id": "449e8171",
   "metadata": {},
   "outputs": [],
   "source": [
    "import torch\n",
    "import torch.nn as nn\n",
    "import torch.optim as optim\n",
    "from transformers import (\n",
    "    AutoTokenizer,\n",
    "    AutoModelForCausalLM,\n",
    "    AutoModelForSequenceClassification\n",
    ")"
   ]
  },
  {
   "cell_type": "code",
   "execution_count": 2,
   "id": "ab4b4f7c",
   "metadata": {},
   "outputs": [
    {
     "name": "stderr",
     "output_type": "stream",
     "text": [
      "Some weights of LlamaForSequenceClassification were not initialized from the model checkpoint at meta-llama/Llama-3.2-1B and are newly initialized: ['score.weight']\n",
      "You should probably TRAIN this model on a down-stream task to be able to use it for predictions and inference.\n"
     ]
    },
    {
     "data": {
      "text/plain": [
       "LlamaForSequenceClassification(\n",
       "  (model): LlamaModel(\n",
       "    (embed_tokens): Embedding(128256, 2048)\n",
       "    (layers): ModuleList(\n",
       "      (0-15): 16 x LlamaDecoderLayer(\n",
       "        (self_attn): LlamaAttention(\n",
       "          (q_proj): Linear(in_features=2048, out_features=2048, bias=False)\n",
       "          (k_proj): Linear(in_features=2048, out_features=512, bias=False)\n",
       "          (v_proj): Linear(in_features=2048, out_features=512, bias=False)\n",
       "          (o_proj): Linear(in_features=2048, out_features=2048, bias=False)\n",
       "        )\n",
       "        (mlp): LlamaMLP(\n",
       "          (gate_proj): Linear(in_features=2048, out_features=8192, bias=False)\n",
       "          (up_proj): Linear(in_features=2048, out_features=8192, bias=False)\n",
       "          (down_proj): Linear(in_features=8192, out_features=2048, bias=False)\n",
       "          (act_fn): SiLU()\n",
       "        )\n",
       "        (input_layernorm): LlamaRMSNorm((2048,), eps=1e-05)\n",
       "        (post_attention_layernorm): LlamaRMSNorm((2048,), eps=1e-05)\n",
       "      )\n",
       "    )\n",
       "    (norm): LlamaRMSNorm((2048,), eps=1e-05)\n",
       "    (rotary_emb): LlamaRotaryEmbedding()\n",
       "  )\n",
       "  (score): Linear(in_features=2048, out_features=1, bias=False)\n",
       ")"
      ]
     },
     "execution_count": 2,
     "metadata": {},
     "output_type": "execute_result"
    }
   ],
   "source": [
    "model_name = \"meta-llama/Llama-3.2-1B\"\n",
    "tokenizer = AutoTokenizer.from_pretrained(model_name)\n",
    "tokenizer.pad_token = tokenizer.eos_token\n",
    "\n",
    "# Policy model\n",
    "policy = AutoModelForCausalLM.from_pretrained(model_name)\n",
    "policy_ref = AutoModelForCausalLM.from_pretrained(model_name)\n",
    "policy.train()\n",
    "policy_ref.eval()\n",
    "\n",
    "# Reward model\n",
    "reward_model = AutoModelForSequenceClassification.from_pretrained(\n",
    "    model_name, num_labels=1\n",
    ")\n",
    "reward_model.eval()"
   ]
  },
  {
   "cell_type": "code",
   "execution_count": 8,
   "id": "5d4ac629",
   "metadata": {},
   "outputs": [],
   "source": [
    "prompt = \"I am studying\"\n",
    "inputs = tokenizer(\n",
    "    prompt, return_tensors=\"pt\", padding=True\n",
    ")\n",
    "input_ids = inputs[\"input_ids\"]\n",
    "attention_mask = inputs[\"attention_mask\"]\n",
    "\n",
    "with torch.no_grad():\n",
    "    gen_ids = policy.generate(\n",
    "        input_ids=input_ids,\n",
    "        attention_mask=attention_mask,\n",
    "        max_new_tokens=20,\n",
    "        do_sample=True,\n",
    "        top_k=50,\n",
    "        temperature=1.0,\n",
    "        pad_token_id=tokenizer.pad_token_id\n",
    "    )\n",
    "response_ids = gen_ids[:, input_ids.shape[-1]:]\n",
    "query_response = torch.cat([input_ids, response_ids], dim=1)"
   ]
  },
  {
   "cell_type": "code",
   "execution_count": 9,
   "id": "4bb5c171",
   "metadata": {},
   "outputs": [],
   "source": [
    "# log-probs\n",
    "def get_log_prob_sum(model, input_ids):\n",
    "    labels = input_ids.clone()\n",
    "    with torch.no_grad():\n",
    "        outputs = model(input_ids=input_ids, labels=labels)\n",
    "        loss = outputs.loss  # average negative log-likelihood\n",
    "    return -loss  # return log-likelihood\n",
    "\n",
    "logprob_policy = get_log_prob_sum(policy, query_response)\n",
    "logprob_ref = get_log_prob_sum(policy_ref, query_response)\n",
    "\n",
    "# reward score\n",
    "with torch.no_grad():\n",
    "    reward_inputs = tokenizer(\n",
    "        tokenizer.decode(query_response[0], skip_special_tokens=True),\n",
    "        return_tensors=\"pt\", truncation=True, padding=True\n",
    "    )\n",
    "    reward = reward_model(**reward_inputs).logits.squeeze().detach()"
   ]
  },
  {
   "cell_type": "code",
   "execution_count": 10,
   "id": "6a3690e2",
   "metadata": {},
   "outputs": [],
   "source": [
    "# advantage, PPO loss, KL loss\n",
    "baseline = reward.detach()\n",
    "advantage = reward - baseline\n",
    "log_ratio = logprob_policy - logprob_ref\n",
    "ratio = torch.exp(log_ratio)\n",
    "\n",
    "# PPO-clip loss\n",
    "clip_eps = 0.2\n",
    "loss1 = ratio * advantage\n",
    "loss2 = torch.clamp(ratio, 1 - clip_eps, 1 + clip_eps) * advantage\n",
    "ppo_clip_loss = -torch.min(loss1, loss2)\n",
    "\n",
    "# KL loss (optional penalty)\n",
    "kl_loss = torch.mean(log_ratio**2)\n",
    "\n",
    "# Loss\n",
    "kl_coef = 0.01  # KL-Pen\n",
    "ppo_loss = ppo_clip_loss + kl_coef * kl_loss"
   ]
  },
  {
   "cell_type": "code",
   "execution_count": 11,
   "id": "412dda9c",
   "metadata": {},
   "outputs": [
    {
     "name": "stdout",
     "output_type": "stream",
     "text": [
      "==================================================\n",
      "[Prompt]: I am studying\n",
      "[Response]:  1 Peter, chapters 1-5. It has been a great journey. I can’t\n",
      "[Reward]: -2.5654\n",
      "[Policy logprob]: -2.4995 | [Ref logprob]: -2.4995\n",
      "[PPO Loss]: 0.0000\n",
      "==================================================\n"
     ]
    }
   ],
   "source": [
    "print(\"=\" * 50)\n",
    "print(f\"[Prompt]: {prompt}\")\n",
    "print(f\"[Response]: {tokenizer.decode(response_ids[0], skip_special_tokens=True)}\")\n",
    "print(f\"[Reward]: {reward.item():.4f}\")\n",
    "print(f\"[Policy logprob]: {logprob_policy.item():.4f} | [Ref logprob]: {logprob_ref.item():.4f}\")\n",
    "print(f\"[PPO Loss]: {ppo_loss.item():.4f}\")\n",
    "print(\"=\" * 50)"
   ]
  }
 ],
 "metadata": {
  "kernelspec": {
   "display_name": "dpo-ppo",
   "language": "python",
   "name": "python3"
  },
  "language_info": {
   "codemirror_mode": {
    "name": "ipython",
    "version": 3
   },
   "file_extension": ".py",
   "mimetype": "text/x-python",
   "name": "python",
   "nbconvert_exporter": "python",
   "pygments_lexer": "ipython3",
   "version": "3.12.9"
  }
 },
 "nbformat": 4,
 "nbformat_minor": 5
}
