{
 "cells": [
  {
   "cell_type": "code",
   "execution_count": 1,
   "metadata": {},
   "outputs": [],
   "source": [
    "import torch\n",
    "import numpy as np\n",
    "import torch.nn as nn\n",
    "import torch.optim as optim\n",
    "import matplotlib.pyplot as plt\n",
    "import torch.nn.functional as F\n",
    "\n",
    "from tqdm import tqdm\n",
    "from torchsummary import summary\n",
    "from torchvision import transforms, datasets\n",
    "from torch.utils.data import DataLoader, random_split"
   ]
  },
  {
   "cell_type": "code",
   "execution_count": 2,
   "metadata": {},
   "outputs": [
    {
     "name": "stdout",
     "output_type": "stream",
     "text": [
      "Using device: cpu\n"
     ]
    }
   ],
   "source": [
    "device = torch.device(\"cuda\" if torch.cuda.is_available() else \"cpu\")\n",
    "print(\"Using device:\", device)"
   ]
  },
  {
   "cell_type": "markdown",
   "metadata": {},
   "source": [
    "# Data preparation"
   ]
  },
  {
   "cell_type": "code",
   "execution_count": 3,
   "metadata": {},
   "outputs": [],
   "source": [
    "# Hyperparameters\n",
    "batch_size = 256\n",
    "img_size = 28\n",
    "channels = 1\n",
    "latent_dim = 2\n",
    "# num_epochs = 500\n",
    "num_epochs = 5\n",
    "\n",
    "transform = transforms.Compose(\n",
    "    [\n",
    "        transforms.Resize((img_size, img_size)),\n",
    "        transforms.ToTensor(),\n",
    "    ]\n",
    ")\n",
    "\n",
    "dataset = datasets.MNIST(\n",
    "    root=\"./data\",\n",
    "    train=True,\n",
    "    transform=transform,\n",
    "    download=True,\n",
    ")"
   ]
  },
  {
   "cell_type": "code",
   "execution_count": 4,
   "metadata": {},
   "outputs": [
    {
     "name": "stdout",
     "output_type": "stream",
     "text": [
      "Training samples: 48000, Validation samples: 12000\n"
     ]
    }
   ],
   "source": [
    "train_size = int(0.8 * len(dataset))\n",
    "val_size = len(dataset) - train_size\n",
    "train_dataset, val_dataset = random_split(dataset, [train_size, val_size])\n",
    "print(f\"Training samples: {len(train_dataset)}, Validation samples: {len(val_dataset)}\")\n",
    "\n",
    "# Create DataLoaders\n",
    "train_loader = DataLoader(\n",
    "    train_dataset, batch_size=batch_size, shuffle=True, num_workers=2\n",
    ")\n",
    "val_loader = DataLoader(\n",
    "    val_dataset, batch_size=batch_size, shuffle=False, num_workers=2\n",
    ")"
   ]
  },
  {
   "cell_type": "code",
   "execution_count": null,
   "metadata": {},
   "outputs": [],
   "source": []
  },
  {
   "cell_type": "markdown",
   "metadata": {},
   "source": [
    "# Modeling"
   ]
  },
  {
   "cell_type": "code",
   "execution_count": 5,
   "metadata": {},
   "outputs": [],
   "source": [
    "# Define the Variational Autoencoder (VAE) in PyTorch\n",
    "class VAE(nn.Module):\n",
    "    def __init__(self, channels, latent_dim):\n",
    "        super(VAE, self).__init__()\n",
    "        # Encoder\n",
    "        self.conv1 = nn.Conv2d(channels, 16, kernel_size=3, padding=1)\n",
    "        self.conv2 = nn.Conv2d(16, 32, kernel_size=3, stride=2, padding=1)\n",
    "        self.conv3 = nn.Conv2d(32, 64, kernel_size=3, stride=2, padding=1)\n",
    "\n",
    "        self.flatten_dim = 64 * (img_size // 4) * (img_size // 4)\n",
    "        self.fc_mu = nn.Linear(self.flatten_dim, latent_dim)\n",
    "        self.fc_logvar = nn.Linear(self.flatten_dim, latent_dim)\n",
    "\n",
    "        # Decoder\n",
    "        self.fc_decode = nn.Linear(latent_dim, self.flatten_dim)\n",
    "        self.deconv1 = nn.ConvTranspose2d(\n",
    "            64, 32, kernel_size=3, stride=2, padding=1, output_padding=1\n",
    "        )\n",
    "        self.deconv2 = nn.ConvTranspose2d(\n",
    "            32, 16, kernel_size=3, stride=2, padding=1, output_padding=1\n",
    "        )\n",
    "        self.conv_final = nn.Conv2d(16, channels, kernel_size=3, padding=1)\n",
    "\n",
    "    def encode(self, x):\n",
    "        x = F.relu(self.conv1(x))\n",
    "        x = F.relu(self.conv2(x))\n",
    "        x = F.relu(self.conv3(x))\n",
    "        x = x.view(-1, self.flatten_dim)\n",
    "        mu = self.fc_mu(x)\n",
    "        logvar = self.fc_logvar(x)\n",
    "        return mu, logvar\n",
    "\n",
    "    def reparameterize(self, mu, logvar):\n",
    "        std = torch.exp(0.5 * logvar)\n",
    "        eps = torch.randn_like(std)\n",
    "        return mu + eps * std\n",
    "\n",
    "    def decode(self, z):\n",
    "        x = F.relu(self.fc_decode(z))\n",
    "        x = x.view(-1, 64, (img_size // 4), (img_size // 4))\n",
    "        x = F.relu(self.deconv1(x))\n",
    "        x = F.relu(self.deconv2(x))\n",
    "        x = torch.sigmoid(self.conv_final(x))\n",
    "        return x\n",
    "\n",
    "    def forward(self, x):\n",
    "        mu, logvar = self.encode(x)\n",
    "        z = self.reparameterize(mu, logvar)\n",
    "        recon_x = self.decode(z)\n",
    "        return recon_x, mu, logvar"
   ]
  },
  {
   "cell_type": "code",
   "execution_count": 6,
   "metadata": {},
   "outputs": [],
   "source": [
    "def loss_function(recon_x, x, mu, log_var, B=1000):\n",
    "    # Flatten tensors for MSE calculation\n",
    "    recon_x_flat = recon_x.view(recon_x.size(0), -1)\n",
    "    x_flat = x.view(x.size(0), -1)\n",
    "\n",
    "    # Calculate MSE (per element average)\n",
    "    mse_out = F.mse_loss(recon_x_flat, x_flat, reduction=\"mean\")\n",
    "\n",
    "    # Scale by input dimensions\n",
    "    reconstruction_loss = mse_out * x.shape[1] * x.shape[2] * x.shape[3]\n",
    "\n",
    "    # Calculate KL divergence\n",
    "    kl_loss = -0.5 * torch.sum(1 + log_var - mu.pow(2) - log_var.exp(), axis=1)\n",
    "\n",
    "    # Compute final loss (adding B*recon_loss + kl_loss)\n",
    "    total_loss = B * reconstruction_loss + torch.mean(kl_loss)\n",
    "    return total_loss, reconstruction_loss, torch.mean(kl_loss)"
   ]
  },
  {
   "cell_type": "code",
   "execution_count": null,
   "metadata": {},
   "outputs": [],
   "source": []
  },
  {
   "cell_type": "markdown",
   "metadata": {},
   "source": [
    "# Model training"
   ]
  },
  {
   "cell_type": "code",
   "execution_count": 7,
   "metadata": {},
   "outputs": [],
   "source": [
    "# Create model, optimizer, etc.\n",
    "model = VAE(channels, latent_dim).to(device)\n",
    "optimizer = optim.Adam(model.parameters(), lr=1e-3, weight_decay=1e-5)"
   ]
  },
  {
   "cell_type": "code",
   "execution_count": 8,
   "metadata": {},
   "outputs": [
    {
     "name": "stderr",
     "output_type": "stream",
     "text": [
      "                                                                          \r"
     ]
    },
    {
     "name": "stdout",
     "output_type": "stream",
     "text": [
      "Epoch 1/5 Loss per sample: 310.3999Recon Loss: 52.8979 KL Loss: 18.0465\n"
     ]
    },
    {
     "name": "stderr",
     "output_type": "stream",
     "text": [
      "                                                                          \r"
     ]
    },
    {
     "name": "stdout",
     "output_type": "stream",
     "text": [
      "Epoch 2/5 Loss per sample: 181.2117Recon Loss: 44.2948 KL Loss: 16.1430\n"
     ]
    },
    {
     "name": "stderr",
     "output_type": "stream",
     "text": [
      "                                                                          \r"
     ]
    },
    {
     "name": "stdout",
     "output_type": "stream",
     "text": [
      "Epoch 3/5 Loss per sample: 164.0979Recon Loss: 41.9277 KL Loss: 15.3877\n"
     ]
    },
    {
     "name": "stderr",
     "output_type": "stream",
     "text": [
      "                                                                          \r"
     ]
    },
    {
     "name": "stdout",
     "output_type": "stream",
     "text": [
      "Epoch 4/5 Loss per sample: 154.9804Recon Loss: 36.0725 KL Loss: 15.3755\n"
     ]
    },
    {
     "name": "stderr",
     "output_type": "stream",
     "text": [
      "                                                                          "
     ]
    },
    {
     "name": "stdout",
     "output_type": "stream",
     "text": [
      "Epoch 5/5 Loss per sample: 150.0247Recon Loss: 34.9088 KL Loss: 15.3022\n",
      "Training log saved to logs/training_log_20250324_163017.txt\n",
      "CPU times: user 14min 53s, sys: 4min 5s, total: 18min 58s\n",
      "Wall time: 4min 11s\n"
     ]
    },
    {
     "name": "stderr",
     "output_type": "stream",
     "text": [
      "\r"
     ]
    }
   ],
   "source": [
    "%%time\n",
    "\n",
    "import os\n",
    "from datetime import datetime\n",
    "\n",
    "# Create a log directory if it doesn't exist\n",
    "log_dir = \"logs\"\n",
    "os.makedirs(log_dir, exist_ok=True)\n",
    "\n",
    "# Create a log file with timestamp\n",
    "timestamp = datetime.now().strftime(\"%Y%m%d_%H%M%S\")\n",
    "log_file = os.path.join(log_dir, f\"training_log_{timestamp}.txt\")\n",
    "\n",
    "# Open the log file\n",
    "with open(log_file, \"w\") as f:\n",
    "    f.write(f\"Training started at {datetime.now().strftime('%Y-%m-%d %H:%M:%S')}\\n\")\n",
    "    f.write(f\"Model: VAE with latent_dim={latent_dim}\\n\")\n",
    "    f.write(f\"Batch size: {batch_size}, Image size: {img_size}x{img_size}\\n\")\n",
    "    f.write(f\"Total epochs: {num_epochs}\\n\\n\")\n",
    "    f.write(\"Epoch,Avg_Loss,Recon_Loss,KL_Loss\\n\")\n",
    "\n",
    "# Training loop with logging\n",
    "for epoch in range(num_epochs):\n",
    "    train_loss = 0.0\n",
    "    epoch_bar = tqdm(train_loader, desc=f\"Epoch {epoch+1}/{num_epochs}\", leave=False)\n",
    "    for data, _ in epoch_bar:\n",
    "        data = data.to(device)\n",
    "        optimizer.zero_grad()\n",
    "        recon_batch, mu, logvar = model(data)\n",
    "        loss, recon_loss, kl_loss = loss_function(recon_batch, data, mu, logvar)\n",
    "        loss.backward()\n",
    "        train_loss += loss.item()\n",
    "        optimizer.step()\n",
    "        epoch_bar.set_postfix(loss=loss.item())\n",
    "\n",
    "    # Calculate average loss\n",
    "    avg_loss = train_loss / len(train_loader.dataset)\n",
    "\n",
    "    # Print epoch summary\n",
    "    print(\n",
    "        f\"Epoch {epoch+1}/{num_epochs} Loss per sample: {avg_loss:.4f}\"\n",
    "        f\"Recon Loss: {recon_loss.item():.4f} KL Loss: {kl_loss.item():.4f}\"\n",
    "    )\n",
    "\n",
    "    # Save to log file\n",
    "    with open(log_file, \"a\") as f:\n",
    "        f.write(\n",
    "            f\"{epoch+1},{avg_loss:.6f},{recon_loss.item():.6f},{kl_loss.item():.6f}\\n\"\n",
    "        )\n",
    "\n",
    "# Log training completion\n",
    "with open(log_file, \"a\") as f:\n",
    "    f.write(f\"\\nTraining completed at {datetime.now().strftime('%Y-%m-%d %H:%M:%S')}\\n\")\n",
    "\n",
    "print(f\"Training log saved to {log_file}\")"
   ]
  },
  {
   "cell_type": "code",
   "execution_count": null,
   "metadata": {},
   "outputs": [],
   "source": []
  },
  {
   "cell_type": "markdown",
   "metadata": {},
   "source": [
    "# Insights calculation"
   ]
  },
  {
   "cell_type": "code",
   "execution_count": 9,
   "metadata": {},
   "outputs": [],
   "source": [
    "# After training, visualize the reconstruction on validation images\n",
    "model.eval()\n",
    "with torch.no_grad():\n",
    "    data_iter = iter(val_loader)\n",
    "    images, _ = next(data_iter)\n",
    "    images = images.to(device)\n",
    "    recon_images, _, _ = model(images)"
   ]
  },
  {
   "cell_type": "code",
   "execution_count": 10,
   "metadata": {},
   "outputs": [
    {
     "data": {
      "image/png": "[encoded data removed]",
      "text/plain": [
       "<Figure size 2000x400 with 20 Axes>"
      ]
     },
     "metadata": {},
     "output_type": "display_data"
    }
   ],
   "source": [
    "# Plot original and reconstructed images side by side\n",
    "n = 10  # number of images to display\n",
    "plt.figure(figsize=(20, 4))\n",
    "for i in range(n):\n",
    "    # Original image: (C,H,W) -> (H,W,C)\n",
    "    orig = images[i].cpu().permute(1, 2, 0).numpy()\n",
    "    recon = recon_images[i].cpu().permute(1, 2, 0).numpy()\n",
    "\n",
    "    ax = plt.subplot(2, n, i + 1)\n",
    "    plt.imshow(orig)\n",
    "    plt.title(\"Original\")\n",
    "    plt.axis(\"off\")\n",
    "\n",
    "    ax = plt.subplot(2, n, i + 1 + n)\n",
    "    plt.imshow(recon)\n",
    "    plt.title(\"Reconstructed\")\n",
    "    plt.axis(\"off\")\n",
    "plt.show()"
   ]
  },
  {
   "cell_type": "code",
   "execution_count": null,
   "metadata": {},
   "outputs": [],
   "source": []
  }
 ],
 "metadata": {
  "kernelspec": {
   "display_name": "aio2024-homework",
   "language": "python",
   "name": "python3"
  },
  "language_info": {
   "codemirror_mode": {
    "name": "ipython",
    "version": 3
   },
   "file_extension": ".py",
   "mimetype": "text/x-python",
   "name": "python",
   "nbconvert_exporter": "python",
   "pygments_lexer": "ipython3",
   "version": "3.10.14"
  }
 },
 "nbformat": 4,
 "nbformat_minor": 2
}
